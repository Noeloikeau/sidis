{
 "cells": [
  {
   "cell_type": "code",
   "execution_count": null,
   "id": "opening-lecture",
   "metadata": {},
   "outputs": [],
   "source": [
    "# default_exp conversion"
   ]
  },
  {
   "cell_type": "markdown",
   "id": "scheduled-punishment",
   "metadata": {},
   "source": [
    "# conversion\n",
    "\n",
    "> This module defines typecasting and conversion functions for easily manipulating and generating data. The most powerful methods are `cast` and `convert`. Other utilities include `RNG` and `fill`, as well as extensions of binary logic to continuous variables such as `XOR`, and encodings such as gray code."
   ]
  },
  {
   "cell_type": "code",
   "execution_count": null,
   "id": "bronze-familiar",
   "metadata": {},
   "outputs": [],
   "source": [
    "#hide\n",
    "from nbdev import *\n",
    "from nbdev.imports import *\n",
    "from nbdev.export import *\n",
    "from nbdev.sync import *\n",
    "from nbdev.showdoc import *"
   ]
  },
  {
   "cell_type": "code",
   "execution_count": null,
   "id": "following-region",
   "metadata": {},
   "outputs": [],
   "source": [
    "#hide\n",
    "%load_ext autoreload\n",
    "%autoreload 2"
   ]
  },
  {
   "cell_type": "code",
   "execution_count": null,
   "id": "fallen-hungarian",
   "metadata": {},
   "outputs": [],
   "source": [
    "#export\n",
    "import warnings\n",
    "with warnings.catch_warnings(): #ignore warnings\n",
    "    warnings.simplefilter(\"ignore\")\n",
    "    import typing\n",
    "    import numpy as np\n",
    "    from typing import Optional, Tuple, Dict, Callable, Union, Mapping, Sequence, Iterable, List\n",
    "    from functools import partial\n",
    "    import warnings"
   ]
  },
  {
   "cell_type": "markdown",
   "id": "endangered-final",
   "metadata": {},
   "source": [
    "## Type casting"
   ]
  },
  {
   "cell_type": "markdown",
   "id": "terminal-literacy",
   "metadata": {},
   "source": [
    "In order to build the modular typecasting callable `cast`, we start by outlining the data types and default conversion behavior of python, before extending it to wrap non-iterable objects in the desired iterable, and convert the elements of iterable objects to the desired non-iterable type (shown by examples)."
   ]
  },
  {
   "cell_type": "code",
   "execution_count": null,
   "id": "killing-median",
   "metadata": {},
   "outputs": [],
   "source": [
    "#exports\n",
    "data = Union[None,int,float,list,tuple,str,dict,set,np.ndarray]"
   ]
  },
  {
   "cell_type": "code",
   "execution_count": null,
   "id": "coordinate-argument",
   "metadata": {},
   "outputs": [],
   "source": [
    "#export\n",
    "def trycast(obj : data, to : type) -> data:\n",
    "    '''\n",
    "    Attempts to typecast `obj` to datatype `to`\n",
    "    using default type conversion. Fallback\n",
    "    of more complex casting cases in this module.\n",
    "    '''\n",
    "    try:\n",
    "        return to(obj)\n",
    "    except:\n",
    "        return typing.cast(to,obj)"
   ]
  },
  {
   "cell_type": "code",
   "execution_count": null,
   "id": "directed-kinase",
   "metadata": {},
   "outputs": [
    {
     "data": {
      "text/markdown": [
       "<h4 id=\"trycast\" class=\"doc_header\"><code>trycast</code><a href=\"__main__.py#L2\" class=\"source_link\" style=\"float:right\">[source]</a></h4>\n",
       "\n",
       "> <code>trycast</code>(**`obj`**:`Union`\\[`NoneType`, `int`, `float`, `list`, `tuple`, `str`, `dict`, `set`, `ndarray`\\], **`to`**:`type`)\n",
       "\n",
       "Attempts to typecast `obj` to datatype `to`\n",
       "using default type conversion. Fallback\n",
       "of more complex casting cases in this module."
      ],
      "text/plain": [
       "<IPython.core.display.Markdown object>"
      ]
     },
     "metadata": {},
     "output_type": "display_data"
    }
   ],
   "source": [
    "show_doc(trycast)"
   ]
  },
  {
   "cell_type": "code",
   "execution_count": null,
   "id": "numerical-visibility",
   "metadata": {},
   "outputs": [
    {
     "data": {
      "text/plain": [
       "0"
      ]
     },
     "execution_count": null,
     "metadata": {},
     "output_type": "execute_result"
    }
   ],
   "source": [
    "trycast(0.5,int) #works like int(0.5)"
   ]
  },
  {
   "cell_type": "code",
   "execution_count": null,
   "id": "julian-eight",
   "metadata": {},
   "outputs": [
    {
     "data": {
      "text/plain": [
       "0"
      ]
     },
     "execution_count": null,
     "metadata": {},
     "output_type": "execute_result"
    }
   ],
   "source": [
    "trycast(0,list) #just return 0 as list(0) gives an error - we want an actual list!"
   ]
  },
  {
   "cell_type": "markdown",
   "id": "recovered-support",
   "metadata": {},
   "source": [
    "The default typecasting, as in the above, has some obvious limitations which can be extended with a basic consideration of whether the object is to be treated as an iterable or a non-iterable. To that end,"
   ]
  },
  {
   "cell_type": "code",
   "execution_count": null,
   "id": "second-mainstream",
   "metadata": {},
   "outputs": [],
   "source": [
    "#export\n",
    "def nonitr2itr(obj : data, to : type) -> data:\n",
    "    '''\n",
    "    Wrap the noniterable `obj` into the iterable type `to`.\n",
    "    '''\n",
    "    if to is list:\n",
    "        return [obj]\n",
    "    elif to is tuple:\n",
    "        return (obj,)\n",
    "    elif to is str:\n",
    "        return f'{obj}'\n",
    "    elif to is dict:\n",
    "        return {obj:obj}\n",
    "    elif to is set:\n",
    "        return {obj}\n",
    "    elif to is np.ndarray:\n",
    "        return np.array(obj)\n",
    "    else:\n",
    "        return trycast(obj,to)"
   ]
  },
  {
   "cell_type": "code",
   "execution_count": null,
   "id": "loved-picking",
   "metadata": {},
   "outputs": [
    {
     "data": {
      "text/markdown": [
       "<h4 id=\"nonitr2itr\" class=\"doc_header\"><code>nonitr2itr</code><a href=\"__main__.py#L2\" class=\"source_link\" style=\"float:right\">[source]</a></h4>\n",
       "\n",
       "> <code>nonitr2itr</code>(**`obj`**:`Union`\\[`NoneType`, `int`, `float`, `list`, `tuple`, `str`, `dict`, `set`, `ndarray`\\], **`to`**:`type`)\n",
       "\n",
       "Wrap the noniterable `obj` into the iterable type `to`."
      ],
      "text/plain": [
       "<IPython.core.display.Markdown object>"
      ]
     },
     "metadata": {},
     "output_type": "display_data"
    }
   ],
   "source": [
    "show_doc(nonitr2itr)"
   ]
  },
  {
   "cell_type": "code",
   "execution_count": null,
   "id": "intensive-excitement",
   "metadata": {},
   "outputs": [
    {
     "data": {
      "text/plain": [
       "[0]"
      ]
     },
     "execution_count": null,
     "metadata": {},
     "output_type": "execute_result"
    }
   ],
   "source": [
    "nonitr2itr(0,list)"
   ]
  },
  {
   "cell_type": "code",
   "execution_count": null,
   "id": "forward-nashville",
   "metadata": {},
   "outputs": [],
   "source": [
    "#export\n",
    "def itr2nonitr(obj : data, to : type) -> data:\n",
    "    '''\n",
    "    Treat each element of the iterable `obj` as the \n",
    "    noniterable type `to`.\n",
    "    '''\n",
    "    t=type(obj)\n",
    "    if t is dict:\n",
    "        return {k:trycast(v,to) for k,v in obj.items()}\n",
    "    else:\n",
    "        return trycast([trycast(i,to) for i in obj],to)"
   ]
  },
  {
   "cell_type": "code",
   "execution_count": null,
   "id": "negative-listing",
   "metadata": {},
   "outputs": [
    {
     "data": {
      "text/markdown": [
       "<h4 id=\"itr2nonitr\" class=\"doc_header\"><code>itr2nonitr</code><a href=\"__main__.py#L2\" class=\"source_link\" style=\"float:right\">[source]</a></h4>\n",
       "\n",
       "> <code>itr2nonitr</code>(**`obj`**:`Union`\\[`NoneType`, `int`, `float`, `list`, `tuple`, `str`, `dict`, `set`, `ndarray`\\], **`to`**:`type`)\n",
       "\n",
       "Treat each element of the iterable `obj` as the \n",
       "noniterable type `to`."
      ],
      "text/plain": [
       "<IPython.core.display.Markdown object>"
      ]
     },
     "metadata": {},
     "output_type": "display_data"
    }
   ],
   "source": [
    "show_doc(itr2nonitr)"
   ]
  },
  {
   "cell_type": "code",
   "execution_count": null,
   "id": "expired-affairs",
   "metadata": {},
   "outputs": [
    {
     "data": {
      "text/plain": [
       "[0, 1]"
      ]
     },
     "execution_count": null,
     "metadata": {},
     "output_type": "execute_result"
    }
   ],
   "source": [
    "itr2nonitr([0.5,1.5],int)"
   ]
  },
  {
   "cell_type": "code",
   "execution_count": null,
   "id": "welcome-talent",
   "metadata": {},
   "outputs": [],
   "source": [
    "#export\n",
    "def itr2itr(obj : data, to : type) -> data:\n",
    "    '''\n",
    "    Treat the iterable `obj` as a new iterable of type `to`.\n",
    "    Treats dictionaries as their items rather than default keys,\n",
    "    and treats np.ndarray as the callable np.array(obj).\n",
    "    '''\n",
    "    if type(obj) is dict:\n",
    "        return trycast(obj.items(),to)\n",
    "    elif to is dict:\n",
    "        return {i:o for i,o in enumerate(obj)}\n",
    "    elif to is np.ndarray:\n",
    "        return np.array(obj)\n",
    "    else:\n",
    "        return trycast(obj,to)"
   ]
  },
  {
   "cell_type": "code",
   "execution_count": null,
   "id": "rolled-speaking",
   "metadata": {},
   "outputs": [
    {
     "data": {
      "text/plain": [
       "[(0, 1)]"
      ]
     },
     "execution_count": null,
     "metadata": {},
     "output_type": "execute_result"
    }
   ],
   "source": [
    "itr2itr({0:1},list) #simply treats dict -> itrtype as dict.items() -> itrtype, as list(dict) returns dict.keys()"
   ]
  },
  {
   "cell_type": "code",
   "execution_count": null,
   "id": "billion-driving",
   "metadata": {},
   "outputs": [
    {
     "data": {
      "text/plain": [
       "array([0, 1])"
      ]
     },
     "execution_count": null,
     "metadata": {},
     "output_type": "execute_result"
    }
   ],
   "source": [
    "itr2itr([0,1],np.ndarray) #makes sure the datatype np.ndarray yields the callable np.array()"
   ]
  },
  {
   "cell_type": "markdown",
   "id": "collaborative-jacket",
   "metadata": {},
   "source": [
    "Now, we combine these conversion cases into a single object, the `Caster` class, which instantiates as a callable dictionary of partially evaluated functions, that typecast according to the type of the object they are called on, and the type to be casted to. The ruleset is stored as a dictionary which can be modified in place to treat objects differently as needed."
   ]
  },
  {
   "cell_type": "code",
   "execution_count": null,
   "id": "neural-vermont",
   "metadata": {},
   "outputs": [],
   "source": [
    "#export\n",
    "isiter = lambda t: hasattr(t,'__iter__')\n",
    "\n",
    "class Caster:\n",
    "    '''\n",
    "    Universal typecasting class with customizable ruleset.\n",
    "    Stores the ruleset as a dictionary of dictionaries.\n",
    "    The outer dictionary stores the type of the object to be converted.\n",
    "    The inner dictionary stores all the types to convert into.\n",
    "    The values are partially evaluated functions on the inner type,\n",
    "    which get called by a class object and evaluated on the outer type.\n",
    "    The ruleset can be updated and changed as needed.\n",
    "    '''\n",
    "    types=[None,int,float,list,tuple,str,dict,set,np.ndarray]\n",
    "    \n",
    "    iterables=[t for t in types if isiter(t)]\n",
    "    \n",
    "    iterables.remove(str) #want to wrap strings like numbers\n",
    "                \n",
    "    def get_rules(types=types,\n",
    "                  iterables=iterables,\n",
    "                  itr2itr=itr2itr,\n",
    "                  nonitr2itr=nonitr2itr,\n",
    "                  itr2nonitr=itr2nonitr):\n",
    "        \n",
    "        rules={t1:{t2:None for t2 in types} for t1 in types}\n",
    "        noniterables=[t for t in types if t not in iterables]\n",
    "        Caster.noniterables=noniterables\n",
    "        for t1 in types:\n",
    "            for t2 in types:\n",
    "                if t1 in noniterables and t2 in iterables:\n",
    "                    rules[t1][t2]=partial(nonitr2itr,to=t2)\n",
    "                elif t1 in iterables and t2 in noniterables:\n",
    "                    rules[t1][t2]=partial(itr2nonitr,to=t2)\n",
    "                elif t1 in iterables and t2 in iterables:\n",
    "                    rules[t1][t2]=partial(itr2itr,to=t2)\n",
    "                else:\n",
    "                    rules[t1][t2]=partial(trycast,to=t2)\n",
    "                    \n",
    "        return rules\n",
    "        \n",
    "    \n",
    "    def __init__(self,\n",
    "                 rules : Optional[dict] = None):\n",
    "        if rules is None:\n",
    "            rules=Caster.get_rules()\n",
    "        self.rules=rules\n",
    "        \n",
    "    def __getitem__(self,item):\n",
    "        return self.rules[item]\n",
    "    \n",
    "    \n",
    "    def __call__(self,\n",
    "                 obj : data,\n",
    "                 *args : type):\n",
    "        res=obj\n",
    "        for arg in args:\n",
    "            t=type(res)\n",
    "            try:\n",
    "                res=self.rules[t][arg](res)\n",
    "            except:\n",
    "                res=trycast(res,arg)\n",
    "        return res"
   ]
  },
  {
   "cell_type": "code",
   "execution_count": null,
   "id": "mediterranean-sperm",
   "metadata": {},
   "outputs": [
    {
     "data": {
      "text/markdown": [
       "<h2 id=\"Caster\" class=\"doc_header\"><code>class</code> <code>Caster</code><a href=\"\" class=\"source_link\" style=\"float:right\">[source]</a></h2>\n",
       "\n",
       "> <code>Caster</code>(**`rules`**:`Optional`\\[`dict`\\]=*`None`*)\n",
       "\n",
       "Universal typecasting class with customizable ruleset.\n",
       "Stores the ruleset as a dictionary of dictionaries.\n",
       "The outer dictionary stores the type of the object to be converted.\n",
       "The inner dictionary stores all the types to convert into.\n",
       "The values are partially evaluated functions on the inner type,\n",
       "which get called by a class object and evaluated on the outer type.\n",
       "The ruleset can be updated and changed as needed."
      ],
      "text/plain": [
       "<IPython.core.display.Markdown object>"
      ]
     },
     "metadata": {},
     "output_type": "display_data"
    }
   ],
   "source": [
    "show_doc(Caster)"
   ]
  },
  {
   "cell_type": "code",
   "execution_count": null,
   "id": "military-encoding",
   "metadata": {},
   "outputs": [],
   "source": [
    "#exports\n",
    "cast=Caster()"
   ]
  },
  {
   "cell_type": "markdown",
   "id": "likely-spread",
   "metadata": {},
   "source": [
    "`cast` wraps non-iterables in iterables:"
   ]
  },
  {
   "cell_type": "code",
   "execution_count": null,
   "id": "alert-bedroom",
   "metadata": {},
   "outputs": [
    {
     "data": {
      "text/plain": [
       "[0]"
      ]
     },
     "execution_count": null,
     "metadata": {},
     "output_type": "execute_result"
    }
   ],
   "source": [
    "cast(0,list)"
   ]
  },
  {
   "cell_type": "markdown",
   "id": "lonely-means",
   "metadata": {},
   "source": [
    "`cast` converts the elements of an iterable into the desired non-iterable:"
   ]
  },
  {
   "cell_type": "code",
   "execution_count": null,
   "id": "compact-recognition",
   "metadata": {},
   "outputs": [
    {
     "data": {
      "text/plain": [
       "[0, 1]"
      ]
     },
     "execution_count": null,
     "metadata": {},
     "output_type": "execute_result"
    }
   ],
   "source": [
    "cast([0.5,1.5],int)"
   ]
  },
  {
   "cell_type": "markdown",
   "id": "encouraging-victor",
   "metadata": {},
   "source": [
    "`cast` accepts multiple arguments for sequential conversion:"
   ]
  },
  {
   "cell_type": "code",
   "execution_count": null,
   "id": "prime-complement",
   "metadata": {},
   "outputs": [
    {
     "data": {
      "text/plain": [
       "[0, 1, 2]"
      ]
     },
     "execution_count": null,
     "metadata": {},
     "output_type": "execute_result"
    }
   ],
   "source": [
    "cast([0,1.1,1.5,2],int,set,list) #convert to int, get unique elements, return as list"
   ]
  },
  {
   "cell_type": "markdown",
   "id": "finished-wagon",
   "metadata": {},
   "source": [
    "By default, we choose to treat strings as non-iterables. This proves useful in later applications of the module."
   ]
  },
  {
   "cell_type": "code",
   "execution_count": null,
   "id": "awful-psychiatry",
   "metadata": {},
   "outputs": [
    {
     "data": {
      "text/plain": [
       "['hi']"
      ]
     },
     "execution_count": null,
     "metadata": {},
     "output_type": "execute_result"
    }
   ],
   "source": [
    "cast('hi',list)"
   ]
  },
  {
   "cell_type": "markdown",
   "id": "discrete-albany",
   "metadata": {},
   "source": [
    "If we want to change this, we can do so by examining how `cast` converts objects:"
   ]
  },
  {
   "cell_type": "code",
   "execution_count": null,
   "id": "military-crack",
   "metadata": {},
   "outputs": [
    {
     "data": {
      "text/plain": [
       "{None: functools.partial(<function trycast at 0x00000273E43FD318>, to=None),\n",
       " int: functools.partial(<function trycast at 0x00000273E43FD318>, to=<class 'int'>),\n",
       " float: functools.partial(<function trycast at 0x00000273E43FD318>, to=<class 'float'>),\n",
       " list: functools.partial(<function nonitr2itr at 0x00000273E51B8828>, to=<class 'list'>),\n",
       " tuple: functools.partial(<function nonitr2itr at 0x00000273E51B8828>, to=<class 'tuple'>),\n",
       " str: functools.partial(<function trycast at 0x00000273E43FD318>, to=<class 'str'>),\n",
       " dict: functools.partial(<function nonitr2itr at 0x00000273E51B8828>, to=<class 'dict'>),\n",
       " set: functools.partial(<function nonitr2itr at 0x00000273E51B8828>, to=<class 'set'>),\n",
       " numpy.ndarray: functools.partial(<function nonitr2itr at 0x00000273E51B8828>, to=<class 'numpy.ndarray'>)}"
      ]
     },
     "execution_count": null,
     "metadata": {},
     "output_type": "execute_result"
    }
   ],
   "source": [
    "cast[str]"
   ]
  },
  {
   "cell_type": "markdown",
   "id": "higher-activation",
   "metadata": {},
   "source": [
    "It is a nested dictionary, keyed by the datatype to be converted, and valued by an inner dict, which is keyed by the datatype to convert to, and valued with a function converting from the outer key to the inner key. To change how the *instance* evaluates strings to lists for example, "
   ]
  },
  {
   "cell_type": "code",
   "execution_count": null,
   "id": "coupled-syndication",
   "metadata": {},
   "outputs": [],
   "source": [
    "cast[str][list] = lambda s: list(s)"
   ]
  },
  {
   "cell_type": "code",
   "execution_count": null,
   "id": "rotary-tribe",
   "metadata": {},
   "outputs": [
    {
     "data": {
      "text/plain": [
       "['h', 'i']"
      ]
     },
     "execution_count": null,
     "metadata": {},
     "output_type": "execute_result"
    }
   ],
   "source": [
    "cast('hi',list)"
   ]
  },
  {
   "cell_type": "markdown",
   "id": "aging-satisfaction",
   "metadata": {},
   "source": [
    "If instead we want to change the default behavior of strings to be treated as an iterable, then we can modify the Caster class `iterables`:"
   ]
  },
  {
   "cell_type": "code",
   "execution_count": null,
   "id": "compliant-congress",
   "metadata": {},
   "outputs": [
    {
     "data": {
      "text/plain": [
       "[list, tuple, dict, set, numpy.ndarray]"
      ]
     },
     "execution_count": null,
     "metadata": {},
     "output_type": "execute_result"
    }
   ],
   "source": [
    "Caster.iterables"
   ]
  },
  {
   "cell_type": "code",
   "execution_count": null,
   "id": "documentary-hierarchy",
   "metadata": {},
   "outputs": [],
   "source": [
    "Caster.iterables.append(str)"
   ]
  },
  {
   "cell_type": "markdown",
   "id": "structural-symphony",
   "metadata": {},
   "source": [
    "Now we re-instantiate a class instance,"
   ]
  },
  {
   "cell_type": "code",
   "execution_count": null,
   "id": "round-london",
   "metadata": {},
   "outputs": [],
   "source": [
    "cast=Caster()"
   ]
  },
  {
   "cell_type": "code",
   "execution_count": null,
   "id": "neither-knife",
   "metadata": {},
   "outputs": [
    {
     "data": {
      "text/plain": [
       "('h', 'i')"
      ]
     },
     "execution_count": null,
     "metadata": {},
     "output_type": "execute_result"
    }
   ],
   "source": [
    "cast('hi',tuple)"
   ]
  },
  {
   "cell_type": "markdown",
   "id": "conservative-intelligence",
   "metadata": {},
   "source": [
    "and strings are treated as iterables, as in native python types. This process can be applied to any datatype, include new ones, etc. We can change it back again by:"
   ]
  },
  {
   "cell_type": "code",
   "execution_count": null,
   "id": "authorized-carnival",
   "metadata": {},
   "outputs": [],
   "source": [
    "Caster.iterables.remove(str)\n",
    "cast=Caster()"
   ]
  },
  {
   "cell_type": "markdown",
   "id": "statistical-alexandria",
   "metadata": {},
   "source": [
    "Now let's see all the types of data conversions, with a parsing function for easy printing of datatypes:"
   ]
  },
  {
   "cell_type": "code",
   "execution_count": null,
   "id": "combined-uruguay",
   "metadata": {},
   "outputs": [],
   "source": [
    "#export\n",
    "def typestr(x : data):\n",
    "    '''\n",
    "    Parses the string of the input type for readability.\n",
    "    '''\n",
    "    if type(x) is type: #if passing type itself\n",
    "        s=x\n",
    "    else: #otherwise get type of obj\n",
    "        s=type(x)\n",
    "    return str(s).split('<')[-1].split('>')[0].split('class')[-1].split('\\'')[1]"
   ]
  },
  {
   "cell_type": "code",
   "execution_count": null,
   "id": "generic-claim",
   "metadata": {},
   "outputs": [
    {
     "name": "stdout",
     "output_type": "stream",
     "text": [
      "From 0 to NoneType: 0\n",
      "From 0 to int: 0\n",
      "From 0 to float: 0.0\n",
      "From 0 to str: 0\n",
      "From 1.5 to NoneType: 1.5\n",
      "From 1.5 to int: 1\n",
      "From 1.5 to float: 1.5\n",
      "From 1.5 to str: 1.5\n"
     ]
    }
   ],
   "source": [
    "#nonitrs->noniters\n",
    "for n in [0,1.5]:\n",
    "    for t in Caster.noniterables:\n",
    "        print(f'From {n} to {typestr(t)}: {cast(n,t)}')"
   ]
  },
  {
   "cell_type": "code",
   "execution_count": null,
   "id": "young-month",
   "metadata": {},
   "outputs": [
    {
     "name": "stdout",
     "output_type": "stream",
     "text": [
      "From 1.5 to list: [1.5]\n",
      "From 1.5 to tuple: (1.5,)\n",
      "From 1.5 to dict: {1.5: 1.5}\n",
      "From 1.5 to set: {1.5}\n",
      "From 1.5 to numpy.ndarray: 1.5\n",
      "From 1.5 to list: ['1.5']\n",
      "From 1.5 to tuple: ('1.5',)\n",
      "From 1.5 to dict: {'1.5': '1.5'}\n",
      "From 1.5 to set: {'1.5'}\n",
      "From 1.5 to numpy.ndarray: 1.5\n"
     ]
    }
   ],
   "source": [
    "#nonitrs->iters\n",
    "for n in [1.5,'1.5']:\n",
    "    for t in Caster.iterables:\n",
    "        print(f'From {n} to {typestr(t)}: {cast(n,t)}')"
   ]
  },
  {
   "cell_type": "code",
   "execution_count": null,
   "id": "expired-mystery",
   "metadata": {},
   "outputs": [
    {
     "name": "stdout",
     "output_type": "stream",
     "text": [
      "From [0, 0.1] to NoneType: [0, 0.1]\n",
      "From [0, 0.1] to int: [0, 0]\n",
      "From [0, 0.1] to float: [0.0, 0.1]\n",
      "From [0, 0.1] to str: ['0', '0.1']\n",
      "From (0, 0.1) to NoneType: [0, 0.1]\n",
      "From (0, 0.1) to int: [0, 0]\n",
      "From (0, 0.1) to float: [0.0, 0.1]\n",
      "From (0, 0.1) to str: ['0', '0.1']\n",
      "From {0: 0.1} to NoneType: {0: 0.1}\n",
      "From {0: 0.1} to int: {0: 0}\n",
      "From {0: 0.1} to float: {0: 0.1}\n",
      "From {0: 0.1} to str: {0: '0.1'}\n",
      "From {0, 0.1} to NoneType: [0, 0.1]\n",
      "From {0, 0.1} to int: [0, 0]\n",
      "From {0, 0.1} to float: [0.0, 0.1]\n",
      "From {0, 0.1} to str: ['0', '0.1']\n",
      "From [0.  0.1] to NoneType: [0.0, 0.1]\n",
      "From [0.  0.1] to int: [0, 0]\n",
      "From [0.  0.1] to float: [0.0, 0.1]\n",
      "From [0.  0.1] to str: ['0.0', '0.1']\n"
     ]
    }
   ],
   "source": [
    "#itrs->nonitrs\n",
    "for n in [[0,0.1],(0,0.1),{0:0.1},{0,0.1},np.array([0,0.1])]:\n",
    "    for t in Caster.noniterables:\n",
    "        print(f'From {n} to {typestr(t)}: {cast(n,t)}')"
   ]
  },
  {
   "cell_type": "code",
   "execution_count": null,
   "id": "swiss-ready",
   "metadata": {},
   "outputs": [
    {
     "name": "stdout",
     "output_type": "stream",
     "text": [
      "From [0, 0.1] to list: [0, 0.1]\n",
      "From [0, 0.1] to tuple: (0, 0.1)\n",
      "From [0, 0.1] to dict: {0: 0, 1: 0.1}\n",
      "From [0, 0.1] to set: {0, 0.1}\n",
      "From [0, 0.1] to numpy.ndarray: [0.  0.1]\n",
      "From (0, 0.1) to list: [0, 0.1]\n",
      "From (0, 0.1) to tuple: (0, 0.1)\n",
      "From (0, 0.1) to dict: {0: 0, 1: 0.1}\n",
      "From (0, 0.1) to set: {0, 0.1}\n",
      "From (0, 0.1) to numpy.ndarray: [0.  0.1]\n",
      "From {0: 0.1} to list: [(0, 0.1)]\n",
      "From {0: 0.1} to tuple: ((0, 0.1),)\n",
      "From {0: 0.1} to dict: {0: 0.1}\n",
      "From {0: 0.1} to set: {(0, 0.1)}\n",
      "From {0: 0.1} to numpy.ndarray: dict_items([(0, 0.1)])\n",
      "From {0, 0.1} to list: [0, 0.1]\n",
      "From {0, 0.1} to tuple: (0, 0.1)\n",
      "From {0, 0.1} to dict: {0: 0, 1: 0.1}\n",
      "From {0, 0.1} to set: {0, 0.1}\n",
      "From {0, 0.1} to numpy.ndarray: {0, 0.1}\n",
      "From [0.  0.1] to list: [0.0, 0.1]\n",
      "From [0.  0.1] to tuple: (0.0, 0.1)\n",
      "From [0.  0.1] to dict: {0: 0.0, 1: 0.1}\n",
      "From [0.  0.1] to set: {0.0, 0.1}\n",
      "From [0.  0.1] to numpy.ndarray: [0.  0.1]\n"
     ]
    }
   ],
   "source": [
    "#itrs->itrs:\n",
    "for n in [[0,0.1],(0,0.1),{0:0.1},{0,0.1},np.array([0,0.1])]:\n",
    "    for t in Caster.iterables:\n",
    "        print(f'From {n} to {typestr(t)}: {cast(n,t)}')"
   ]
  },
  {
   "cell_type": "markdown",
   "id": "improved-harris",
   "metadata": {},
   "source": [
    "In conclusion, `cast` can sequentially transition python objects between iterable and noniterable datatypes or any other datatype, with the fallback of using the default python conversions or simply returning the object, and can be updated as a dictionary of callables to include new typecasting behavior."
   ]
  },
  {
   "cell_type": "markdown",
   "id": "subject-bacon",
   "metadata": {},
   "source": [
    "## Data Conversions\n",
    "\n",
    "Here we present useful data type conversion, like decimal numbers to binary arrays, culminating in the `convert` function. We also give various helpers such as `RNG` and analytic continuation of logic such as `XOR`."
   ]
  },
  {
   "cell_type": "code",
   "execution_count": null,
   "id": "separated-album",
   "metadata": {},
   "outputs": [],
   "source": [
    "#export\n",
    "def pad(data : Union[np.ndarray,list],\n",
    "          bits : Optional[int] = None,\n",
    "          to : Union[int,float] = int) -> np.ndarray:\n",
    "    '''\n",
    "    Pads an array with zeros, up to a length of `bits`.\n",
    "    '''\n",
    "    if bits is None:\n",
    "        bits=0\n",
    "    else:\n",
    "        bits=bits-len(data)\n",
    "    x=[0 for i in range(bits)]+list(data)\n",
    "    x=np.array(x).astype(to)\n",
    "    return x"
   ]
  },
  {
   "cell_type": "code",
   "execution_count": null,
   "id": "environmental-composition",
   "metadata": {},
   "outputs": [
    {
     "data": {
      "text/markdown": [
       "<h4 id=\"pad\" class=\"doc_header\"><code>pad</code><a href=\"__main__.py#L2\" class=\"source_link\" style=\"float:right\">[source]</a></h4>\n",
       "\n",
       "> <code>pad</code>(**`data`**:`Union`\\[`ndarray`, `list`\\], **`bits`**:`Optional`\\[`int`\\]=*`None`*, **`to`**:`Union`\\[`int`, `float`\\]=*`int`*)\n",
       "\n",
       "Pads an array with zeros, up to a length of `bits`."
      ],
      "text/plain": [
       "<IPython.core.display.Markdown object>"
      ]
     },
     "metadata": {},
     "output_type": "display_data"
    }
   ],
   "source": [
    "show_doc(pad)"
   ]
  },
  {
   "cell_type": "code",
   "execution_count": null,
   "id": "increasing-louisville",
   "metadata": {},
   "outputs": [
    {
     "data": {
      "text/plain": [
       "array([0., 0., 0., 1., 0.])"
      ]
     },
     "execution_count": null,
     "metadata": {},
     "output_type": "execute_result"
    }
   ],
   "source": [
    "pad(data=[1,0],bits=5,to=float)"
   ]
  },
  {
   "cell_type": "code",
   "execution_count": null,
   "id": "angry-phase",
   "metadata": {},
   "outputs": [],
   "source": [
    "#export\n",
    "def fill(x : list,fillwith=np.NaN,mask=True):\n",
    "    '''\n",
    "    Turn uneven nested lists `x` into arrays `y` substituting\n",
    "    missing entries using `fillwith` and optionally masking.\n",
    "    '''\n",
    "    length = max(map(len, x))\n",
    "    y=np.array([xi+[fillwith]*(length-len(xi)) for xi in x])\n",
    "    if mask:\n",
    "        if np.isfinite(fillwith):\n",
    "            y=np.ma.masked_equal(y,fillwith)\n",
    "        else:\n",
    "            y=np.ma.masked_invalid(y)\n",
    "    return y"
   ]
  },
  {
   "cell_type": "code",
   "execution_count": null,
   "id": "convenient-greensboro",
   "metadata": {},
   "outputs": [
    {
     "data": {
      "text/markdown": [
       "<h4 id=\"fill\" class=\"doc_header\"><code>fill</code><a href=\"__main__.py#L2\" class=\"source_link\" style=\"float:right\">[source]</a></h4>\n",
       "\n",
       "> <code>fill</code>(**`x`**:`list`, **`fillwith`**=*`nan`*, **`mask`**=*`True`*)\n",
       "\n",
       "Turn uneven nested lists `x` into arrays `y` substituting\n",
       "missing entries using `fillwith` and optionally masking."
      ],
      "text/plain": [
       "<IPython.core.display.Markdown object>"
      ]
     },
     "metadata": {},
     "output_type": "display_data"
    }
   ],
   "source": [
    "show_doc(fill)"
   ]
  },
  {
   "cell_type": "code",
   "execution_count": null,
   "id": "wireless-logistics",
   "metadata": {},
   "outputs": [
    {
     "data": {
      "text/plain": [
       "array([[1, 0, 0],\n",
       "       [1, 1, 1]])"
      ]
     },
     "execution_count": null,
     "metadata": {},
     "output_type": "execute_result"
    }
   ],
   "source": [
    "fill([[1],[1,1,1]],fillwith=0,mask=False)"
   ]
  },
  {
   "cell_type": "code",
   "execution_count": null,
   "id": "turned-poultry",
   "metadata": {},
   "outputs": [
    {
     "data": {
      "text/plain": [
       "masked_array(\n",
       "  data=[[1, --, --],\n",
       "        [1, 1, 1]],\n",
       "  mask=[[False,  True,  True],\n",
       "        [False, False, False]],\n",
       "  fill_value=0)"
      ]
     },
     "execution_count": null,
     "metadata": {},
     "output_type": "execute_result"
    }
   ],
   "source": [
    "fill([[1],[1,1,1]],fillwith=0,mask=True)"
   ]
  },
  {
   "cell_type": "code",
   "execution_count": null,
   "id": "boring-sound",
   "metadata": {},
   "outputs": [],
   "source": [
    "#export\n",
    "def nbits(x : Union[int,float,list,np.ndarray]) -> int:\n",
    "    '''\n",
    "    Return the number of bits required to represent the input `x`. \n",
    "    '''\n",
    "    t=type(x)\n",
    "    if (t is int) or (t is float):\n",
    "        bits=np.ceil(np.log2(x+1)).astype(int) if x!=0 else 1\n",
    "    elif (t is list) or (t is np.ndarray):\n",
    "        bits=len(x)\n",
    "    return bits"
   ]
  },
  {
   "cell_type": "code",
   "execution_count": null,
   "id": "boring-feelings",
   "metadata": {},
   "outputs": [
    {
     "data": {
      "text/markdown": [
       "<h4 id=\"nbits\" class=\"doc_header\"><code>nbits</code><a href=\"__main__.py#L2\" class=\"source_link\" style=\"float:right\">[source]</a></h4>\n",
       "\n",
       "> <code>nbits</code>(**`x`**:`Union`\\[`int`, `float`, `list`, `ndarray`\\])\n",
       "\n",
       "Return the number of bits required to represent the input `x`. "
      ],
      "text/plain": [
       "<IPython.core.display.Markdown object>"
      ]
     },
     "metadata": {},
     "output_type": "display_data"
    }
   ],
   "source": [
    "show_doc(nbits)"
   ]
  },
  {
   "cell_type": "code",
   "execution_count": null,
   "id": "agreed-functionality",
   "metadata": {},
   "outputs": [
    {
     "name": "stdout",
     "output_type": "stream",
     "text": [
      "i=0, nbits(0)=1\n",
      "i=1, nbits(1)=1\n",
      "i=2, nbits(2)=2\n",
      "i=3, nbits(3)=2\n",
      "i=4, nbits(4)=3\n",
      "i=5, nbits(5)=3\n",
      "i=6, nbits(6)=3\n",
      "i=7, nbits(7)=3\n",
      "i=8, nbits(8)=4\n",
      "i=9, nbits(9)=4\n",
      "i=10, nbits(10)=4\n"
     ]
    }
   ],
   "source": [
    "for i in range(11):\n",
    "    print(f\"i={i}, nbits({i})={nbits(i)}\")"
   ]
  },
  {
   "cell_type": "code",
   "execution_count": null,
   "id": "hundred-movie",
   "metadata": {},
   "outputs": [],
   "source": [
    "#export\n",
    "def num2ar(x: Union[int,float],\n",
    "            bits : Optional[int] = None,\n",
    "            to : Union[int,float] = int) -> np.ndarray:\n",
    "    '''\n",
    "    Converts decimal number `x` to array `a` zero-padded with `bits`. \n",
    "    '''\n",
    "    bits=bits or nbits(x) #if None, give default\n",
    "    form='0'+str(bits)+'b'\n",
    "    binary=format(int(x),form)\n",
    "    with warnings.catch_warnings(): #ignore numpy deprecation warning\n",
    "        warnings.simplefilter(\"ignore\")\n",
    "        a=np.fromstring(binary,'u1')-ord('0')\n",
    "    return cast(a,to)"
   ]
  },
  {
   "cell_type": "code",
   "execution_count": null,
   "id": "significant-substance",
   "metadata": {},
   "outputs": [
    {
     "data": {
      "text/markdown": [
       "<h4 id=\"num2ar\" class=\"doc_header\"><code>num2ar</code><a href=\"__main__.py#L2\" class=\"source_link\" style=\"float:right\">[source]</a></h4>\n",
       "\n",
       "> <code>num2ar</code>(**`x`**:`Union`\\[`int`, `float`\\], **`bits`**:`Optional`\\[`int`\\]=*`None`*, **`to`**:`Union`\\[`int`, `float`\\]=*`int`*)\n",
       "\n",
       "Converts decimal number `x` to array `a` zero-padded with `bits`. "
      ],
      "text/plain": [
       "<IPython.core.display.Markdown object>"
      ]
     },
     "metadata": {},
     "output_type": "display_data"
    }
   ],
   "source": [
    "show_doc(num2ar)"
   ]
  },
  {
   "cell_type": "code",
   "execution_count": null,
   "id": "familiar-newspaper",
   "metadata": {},
   "outputs": [
    {
     "name": "stdout",
     "output_type": "stream",
     "text": [
      "i=0, num2ar(0)=[0]\n",
      "i=1, num2ar(1)=[1]\n",
      "i=2, num2ar(2)=[1, 0]\n",
      "i=3, num2ar(3)=[1, 1]\n",
      "i=4, num2ar(4)=[1, 0, 0]\n",
      "i=5, num2ar(5)=[1, 0, 1]\n",
      "i=6, num2ar(6)=[1, 1, 0]\n",
      "i=7, num2ar(7)=[1, 1, 1]\n",
      "i=8, num2ar(8)=[1, 0, 0, 0]\n",
      "i=9, num2ar(9)=[1, 0, 0, 1]\n",
      "i=10, num2ar(10)=[1, 0, 1, 0]\n"
     ]
    }
   ],
   "source": [
    "for i in range(11):\n",
    "    print(f\"i={i}, num2ar({i})={num2ar(i)}\")"
   ]
  },
  {
   "cell_type": "code",
   "execution_count": null,
   "id": "going-letter",
   "metadata": {},
   "outputs": [
    {
     "data": {
      "text/plain": [
       "[0.0, 1.0, 0.0, 1.0, 0.0]"
      ]
     },
     "execution_count": null,
     "metadata": {},
     "output_type": "execute_result"
    }
   ],
   "source": [
    "num2ar(10,bits=5,to=float)"
   ]
  },
  {
   "cell_type": "code",
   "execution_count": null,
   "id": "copyrighted-applicant",
   "metadata": {},
   "outputs": [],
   "source": [
    "#export\n",
    "def ar2num(a : Union[list,np.ndarray],\n",
    "            to : Union[int,float] = int):\n",
    "    '''\n",
    "    Converts array `a` to decimal number `x`.\n",
    "    '''\n",
    "    temp=str()\n",
    "    a=np.array(a).astype(int)\n",
    "    for c in a:\n",
    "        temp+=str(c)\n",
    "    x=int(temp,2)\n",
    "    return cast(x,to)"
   ]
  },
  {
   "cell_type": "code",
   "execution_count": null,
   "id": "greatest-intelligence",
   "metadata": {},
   "outputs": [
    {
     "data": {
      "text/markdown": [
       "<h4 id=\"ar2num\" class=\"doc_header\"><code>ar2num</code><a href=\"__main__.py#L2\" class=\"source_link\" style=\"float:right\">[source]</a></h4>\n",
       "\n",
       "> <code>ar2num</code>(**`a`**:`Union`\\[`list`, `ndarray`\\], **`to`**:`Union`\\[`int`, `float`\\]=*`int`*)\n",
       "\n",
       "Converts array `a` to decimal number `x`."
      ],
      "text/plain": [
       "<IPython.core.display.Markdown object>"
      ]
     },
     "metadata": {},
     "output_type": "display_data"
    }
   ],
   "source": [
    "show_doc(ar2num)"
   ]
  },
  {
   "cell_type": "code",
   "execution_count": null,
   "id": "outer-motorcycle",
   "metadata": {},
   "outputs": [
    {
     "name": "stdout",
     "output_type": "stream",
     "text": [
      "a=[0], ar2num(a)=0\n",
      "a=[1], ar2num(a)=1\n",
      "a=[1, 0], ar2num(a)=2\n",
      "a=[1, 1], ar2num(a)=3\n"
     ]
    }
   ],
   "source": [
    "for i in range(4):\n",
    "    print(f\"a={num2ar(i)}, ar2num(a)={ar2num(num2ar(i))}\")"
   ]
  },
  {
   "cell_type": "code",
   "execution_count": null,
   "id": "flush-savannah",
   "metadata": {},
   "outputs": [],
   "source": [
    "#export\n",
    "def ar2hex(a : Union[list,np.ndarray],\n",
    "            bits : Optional[int] = None,\n",
    "            prefix : bool = True) -> str:\n",
    "    '''\n",
    "    Converts binary array to hex string\n",
    "    in:\n",
    "        a (numpy array) : binary array to convert\n",
    "    out:\n",
    "        h (str) : hex conversion of a \n",
    "    '''\n",
    "    bits=bits or nbits(a)\n",
    "    form='0'+str(int(np.log2(bits)))+'x'\n",
    "    h=format(ar2num(a),form)\n",
    "    if prefix:\n",
    "        h='0x'+h\n",
    "    return h"
   ]
  },
  {
   "cell_type": "code",
   "execution_count": null,
   "id": "organizational-sight",
   "metadata": {},
   "outputs": [
    {
     "data": {
      "text/markdown": [
       "<h4 id=\"ar2hex\" class=\"doc_header\"><code>ar2hex</code><a href=\"__main__.py#L2\" class=\"source_link\" style=\"float:right\">[source]</a></h4>\n",
       "\n",
       "> <code>ar2hex</code>(**`a`**:`Union`\\[`list`, `ndarray`\\], **`bits`**:`Optional`\\[`int`\\]=*`None`*, **`prefix`**:`bool`=*`True`*)\n",
       "\n",
       "Converts binary array to hex string\n",
       "in:\n",
       "    a (numpy array) : binary array to convert\n",
       "out:\n",
       "    h (str) : hex conversion of a "
      ],
      "text/plain": [
       "<IPython.core.display.Markdown object>"
      ]
     },
     "metadata": {},
     "output_type": "display_data"
    }
   ],
   "source": [
    "show_doc(ar2hex)"
   ]
  },
  {
   "cell_type": "code",
   "execution_count": null,
   "id": "narrow-boost",
   "metadata": {},
   "outputs": [
    {
     "data": {
      "text/plain": [
       "'0x0a'"
      ]
     },
     "execution_count": null,
     "metadata": {},
     "output_type": "execute_result"
    }
   ],
   "source": [
    "ar2hex(num2ar(10))"
   ]
  },
  {
   "cell_type": "code",
   "execution_count": null,
   "id": "exposed-ecuador",
   "metadata": {},
   "outputs": [
    {
     "data": {
      "text/plain": [
       "'0a'"
      ]
     },
     "execution_count": null,
     "metadata": {},
     "output_type": "execute_result"
    }
   ],
   "source": [
    "ar2hex(num2ar(10),prefix=False)"
   ]
  },
  {
   "cell_type": "code",
   "execution_count": null,
   "id": "optimum-recording",
   "metadata": {},
   "outputs": [],
   "source": [
    "#export\n",
    "def hex2ar(h : str,\n",
    "            bits : Optional[int] = None,\n",
    "            to : Union[int,float] = int) -> np.ndarray:\n",
    "    '''\n",
    "    Converts a hex string `h` into an array `a` padded with `bits` and elements of `astype`.\n",
    "    '''\n",
    "    x=int(h,16)\n",
    "    a=num2ar(x,bits,to)\n",
    "    return a"
   ]
  },
  {
   "cell_type": "code",
   "execution_count": null,
   "id": "worse-dairy",
   "metadata": {},
   "outputs": [
    {
     "data": {
      "text/markdown": [
       "<h4 id=\"hex2ar\" class=\"doc_header\"><code>hex2ar</code><a href=\"__main__.py#L2\" class=\"source_link\" style=\"float:right\">[source]</a></h4>\n",
       "\n",
       "> <code>hex2ar</code>(**`h`**:`str`, **`bits`**:`Optional`\\[`int`\\]=*`None`*, **`to`**:`Union`\\[`int`, `float`\\]=*`int`*)\n",
       "\n",
       "Converts a hex string `h` into an array `a` padded with `bits` and elements of `astype`."
      ],
      "text/plain": [
       "<IPython.core.display.Markdown object>"
      ]
     },
     "metadata": {},
     "output_type": "display_data"
    }
   ],
   "source": [
    "show_doc(hex2ar)"
   ]
  },
  {
   "cell_type": "code",
   "execution_count": null,
   "id": "classified-maria",
   "metadata": {},
   "outputs": [
    {
     "data": {
      "text/plain": [
       "[1, 0, 1, 0]"
      ]
     },
     "execution_count": null,
     "metadata": {},
     "output_type": "execute_result"
    }
   ],
   "source": [
    "hex2ar('a')"
   ]
  },
  {
   "cell_type": "code",
   "execution_count": null,
   "id": "solid-jenny",
   "metadata": {},
   "outputs": [
    {
     "data": {
      "text/plain": [
       "[1, 0, 1, 0]"
      ]
     },
     "execution_count": null,
     "metadata": {},
     "output_type": "execute_result"
    }
   ],
   "source": [
    "hex2ar('0xa')"
   ]
  },
  {
   "cell_type": "code",
   "execution_count": null,
   "id": "determined-willow",
   "metadata": {},
   "outputs": [],
   "source": [
    "#export\n",
    "def str2ar(s : str,\n",
    "            to : Union[list,np.ndarray] = np.ndarray) -> Union[list,np.ndarray]:\n",
    "    '''\n",
    "    Converts an input string `s` into an array or list `a` as per `astype`.\n",
    "    '''\n",
    "    a=[int(i) for i in s]\n",
    "    return cast(a,to)"
   ]
  },
  {
   "cell_type": "code",
   "execution_count": null,
   "id": "specialized-library",
   "metadata": {},
   "outputs": [
    {
     "data": {
      "text/markdown": [
       "<h4 id=\"str2ar\" class=\"doc_header\"><code>str2ar</code><a href=\"__main__.py#L2\" class=\"source_link\" style=\"float:right\">[source]</a></h4>\n",
       "\n",
       "> <code>str2ar</code>(**`s`**:`str`, **`to`**:`Union`\\[`list`, `ndarray`\\]=*`ndarray`*)\n",
       "\n",
       "Converts an input string `s` into an array or list `a` as per `astype`."
      ],
      "text/plain": [
       "<IPython.core.display.Markdown object>"
      ]
     },
     "metadata": {},
     "output_type": "display_data"
    }
   ],
   "source": [
    "show_doc(str2ar)"
   ]
  },
  {
   "cell_type": "code",
   "execution_count": null,
   "id": "built-federal",
   "metadata": {},
   "outputs": [
    {
     "data": {
      "text/plain": [
       "array([1, 1, 1])"
      ]
     },
     "execution_count": null,
     "metadata": {},
     "output_type": "execute_result"
    }
   ],
   "source": [
    "str2ar('111')"
   ]
  },
  {
   "cell_type": "code",
   "execution_count": null,
   "id": "naval-serbia",
   "metadata": {},
   "outputs": [],
   "source": [
    "#export\n",
    "def ar2str(a : Union[list,np.ndarray], to : data = None) -> str:\n",
    "    '''\n",
    "    Converts an input array `a` into a string `s`.\n",
    "    '''\n",
    "    s=''.join([str(cast(i,to)) for i in a])\n",
    "    return s"
   ]
  },
  {
   "cell_type": "code",
   "execution_count": null,
   "id": "rural-debut",
   "metadata": {},
   "outputs": [
    {
     "data": {
      "text/markdown": [
       "<h4 id=\"ar2str\" class=\"doc_header\"><code>ar2str</code><a href=\"__main__.py#L2\" class=\"source_link\" style=\"float:right\">[source]</a></h4>\n",
       "\n",
       "> <code>ar2str</code>(**`a`**:`Union`\\[`list`, `ndarray`\\], **`to`**:`Union`\\[`NoneType`, `int`, `float`, `list`, `tuple`, `str`, `dict`, `set`, `ndarray`\\]=*`None`*)\n",
       "\n",
       "Converts an input array `a` into a string `s`."
      ],
      "text/plain": [
       "<IPython.core.display.Markdown object>"
      ]
     },
     "metadata": {},
     "output_type": "display_data"
    }
   ],
   "source": [
    "show_doc(ar2str)"
   ]
  },
  {
   "cell_type": "code",
   "execution_count": null,
   "id": "medical-punch",
   "metadata": {},
   "outputs": [
    {
     "data": {
      "text/plain": [
       "'111'"
      ]
     },
     "execution_count": null,
     "metadata": {},
     "output_type": "execute_result"
    }
   ],
   "source": [
    "ar2str([1.5,1.5,1.3],int)"
   ]
  },
  {
   "cell_type": "code",
   "execution_count": null,
   "id": "private-salad",
   "metadata": {},
   "outputs": [],
   "source": [
    "#export\n",
    "def COPY(x : Union[int,float]) -> Union[int,float]:\n",
    "    '''\n",
    "    Simply returns `x`. \n",
    "    '''\n",
    "    return x\n",
    "\n",
    "def NOT(x : Union[int,float]) -> Union[int,float]:\n",
    "    '''\n",
    "    Return conjugate of `x`. \n",
    "    '''\n",
    "    return 1-x\n",
    "\n",
    "def AND(x : Union[int,float],\n",
    "        y : Union[int,float]) -> Union[int,float]:\n",
    "    '''\n",
    "    Return logical AND of `x` and `y`.\n",
    "    '''\n",
    "    return x*y\n",
    "\n",
    "def OR(x : Union[int,float],\n",
    "       y : Union[int,float]) -> Union[int,float]:\n",
    "    '''\n",
    "    Return logical OR of `x` and `y`. See DeMorgan's Laws.\n",
    "    '''\n",
    "    return x+y-x*y\n",
    "\n",
    "def Exclusive_OR(x : Union[int,float],\n",
    "                 y : Union[int,float]) -> Union[int,float]:\n",
    "    '''\n",
    "    Return logical exclusive OR of `x` and `y`. See DeMorgan's Laws.\n",
    "    '''\n",
    "    return OR( AND( x , NOT(y) ) , AND ( NOT(x) , y) )\n",
    "\n",
    "def XOR(*args : Union[int,float,list,np.ndarray]) -> Union[int,float]:\n",
    "    '''\n",
    "    Arbitrary input XOR using recursiveness.\n",
    "    '''\n",
    "    x=0\n",
    "    for a in args:\n",
    "        x=Exclusive_OR(x,a)\n",
    "    return x"
   ]
  },
  {
   "cell_type": "code",
   "execution_count": null,
   "id": "sorted-commodity",
   "metadata": {},
   "outputs": [
    {
     "data": {
      "text/markdown": [
       "<h4 id=\"NOT\" class=\"doc_header\"><code>NOT</code><a href=\"__main__.py#L8\" class=\"source_link\" style=\"float:right\">[source]</a></h4>\n",
       "\n",
       "> <code>NOT</code>(**`x`**:`Union`\\[`int`, `float`\\])\n",
       "\n",
       "Return conjugate of `x`. "
      ],
      "text/plain": [
       "<IPython.core.display.Markdown object>"
      ]
     },
     "metadata": {},
     "output_type": "display_data"
    }
   ],
   "source": [
    "show_doc(NOT)"
   ]
  },
  {
   "cell_type": "code",
   "execution_count": null,
   "id": "contrary-bacon",
   "metadata": {},
   "outputs": [
    {
     "data": {
      "text/plain": [
       "0"
      ]
     },
     "execution_count": null,
     "metadata": {},
     "output_type": "execute_result"
    }
   ],
   "source": [
    "NOT(1)"
   ]
  },
  {
   "cell_type": "code",
   "execution_count": null,
   "id": "ceramic-parallel",
   "metadata": {},
   "outputs": [
    {
     "data": {
      "text/plain": [
       "0.75"
      ]
     },
     "execution_count": null,
     "metadata": {},
     "output_type": "execute_result"
    }
   ],
   "source": [
    "NOT(0.25)"
   ]
  },
  {
   "cell_type": "code",
   "execution_count": null,
   "id": "inappropriate-detective",
   "metadata": {},
   "outputs": [
    {
     "data": {
      "text/markdown": [
       "<h4 id=\"AND\" class=\"doc_header\"><code>AND</code><a href=\"__main__.py#L14\" class=\"source_link\" style=\"float:right\">[source]</a></h4>\n",
       "\n",
       "> <code>AND</code>(**`x`**:`Union`\\[`int`, `float`\\], **`y`**:`Union`\\[`int`, `float`\\])\n",
       "\n",
       "Return logical AND of `x` and `y`."
      ],
      "text/plain": [
       "<IPython.core.display.Markdown object>"
      ]
     },
     "metadata": {},
     "output_type": "display_data"
    }
   ],
   "source": [
    "show_doc(AND)"
   ]
  },
  {
   "cell_type": "code",
   "execution_count": null,
   "id": "complicated-likelihood",
   "metadata": {},
   "outputs": [
    {
     "data": {
      "text/plain": [
       "1"
      ]
     },
     "execution_count": null,
     "metadata": {},
     "output_type": "execute_result"
    }
   ],
   "source": [
    "AND(1,1)"
   ]
  },
  {
   "cell_type": "code",
   "execution_count": null,
   "id": "taken-disorder",
   "metadata": {},
   "outputs": [
    {
     "data": {
      "text/plain": [
       "0.5"
      ]
     },
     "execution_count": null,
     "metadata": {},
     "output_type": "execute_result"
    }
   ],
   "source": [
    "AND(1,0.5)"
   ]
  },
  {
   "cell_type": "code",
   "execution_count": null,
   "id": "aerial-fleece",
   "metadata": {},
   "outputs": [
    {
     "data": {
      "text/markdown": [
       "<h4 id=\"OR\" class=\"doc_header\"><code>OR</code><a href=\"__main__.py#L21\" class=\"source_link\" style=\"float:right\">[source]</a></h4>\n",
       "\n",
       "> <code>OR</code>(**`x`**:`Union`\\[`int`, `float`\\], **`y`**:`Union`\\[`int`, `float`\\])\n",
       "\n",
       "Return logical OR of `x` and `y`. See DeMorgan's Laws."
      ],
      "text/plain": [
       "<IPython.core.display.Markdown object>"
      ]
     },
     "metadata": {},
     "output_type": "display_data"
    }
   ],
   "source": [
    "show_doc(OR)"
   ]
  },
  {
   "cell_type": "code",
   "execution_count": null,
   "id": "integral-melissa",
   "metadata": {},
   "outputs": [
    {
     "data": {
      "text/plain": [
       "1"
      ]
     },
     "execution_count": null,
     "metadata": {},
     "output_type": "execute_result"
    }
   ],
   "source": [
    "OR(1,0)"
   ]
  },
  {
   "cell_type": "code",
   "execution_count": null,
   "id": "medical-indicator",
   "metadata": {},
   "outputs": [
    {
     "data": {
      "text/plain": [
       "0.75"
      ]
     },
     "execution_count": null,
     "metadata": {},
     "output_type": "execute_result"
    }
   ],
   "source": [
    "OR(0.5,0.5)"
   ]
  },
  {
   "cell_type": "code",
   "execution_count": null,
   "id": "removed-nothing",
   "metadata": {},
   "outputs": [
    {
     "data": {
      "text/markdown": [
       "<h4 id=\"XOR\" class=\"doc_header\"><code>XOR</code><a href=\"__main__.py#L35\" class=\"source_link\" style=\"float:right\">[source]</a></h4>\n",
       "\n",
       "> <code>XOR</code>(**\\*`args`**:`Union`\\[`int`, `float`, `list`, `ndarray`\\])\n",
       "\n",
       "Arbitrary input XOR using recursiveness."
      ],
      "text/plain": [
       "<IPython.core.display.Markdown object>"
      ]
     },
     "metadata": {},
     "output_type": "display_data"
    }
   ],
   "source": [
    "show_doc(XOR)"
   ]
  },
  {
   "cell_type": "code",
   "execution_count": null,
   "id": "graphic-battle",
   "metadata": {},
   "outputs": [
    {
     "data": {
      "text/plain": [
       "0"
      ]
     },
     "execution_count": null,
     "metadata": {},
     "output_type": "execute_result"
    }
   ],
   "source": [
    "XOR(1,1)"
   ]
  },
  {
   "cell_type": "code",
   "execution_count": null,
   "id": "induced-sessions",
   "metadata": {},
   "outputs": [
    {
     "data": {
      "text/plain": [
       "1"
      ]
     },
     "execution_count": null,
     "metadata": {},
     "output_type": "execute_result"
    }
   ],
   "source": [
    "XOR(1,1,1)"
   ]
  },
  {
   "cell_type": "code",
   "execution_count": null,
   "id": "settled-garbage",
   "metadata": {},
   "outputs": [
    {
     "data": {
      "text/plain": [
       "0.4384765625"
      ]
     },
     "execution_count": null,
     "metadata": {},
     "output_type": "execute_result"
    }
   ],
   "source": [
    "XOR(0.5,0.5,0.5)"
   ]
  },
  {
   "cell_type": "code",
   "execution_count": null,
   "id": "opponent-accommodation",
   "metadata": {},
   "outputs": [
    {
     "name": "stdout",
     "output_type": "stream",
     "text": [
      "AND(0, 0)=0\n",
      "OR(0, 0)=0\n",
      "XOR(0, 0)=0\n",
      "AND(0, 1)=0\n",
      "OR(0, 1)=1\n",
      "XOR(0, 1)=1\n",
      "AND(1, 0)=0\n",
      "OR(1, 0)=1\n",
      "XOR(1, 0)=1\n",
      "AND(1, 1)=1\n",
      "OR(1, 1)=1\n",
      "XOR(1, 1)=0\n"
     ]
    }
   ],
   "source": [
    "for x,y in np.ndindex((2,2)):\n",
    "    for z in [AND,OR,XOR]:\n",
    "        print(f\"{z.__name__}{x,y}={z(x,y)}\")"
   ]
  },
  {
   "cell_type": "code",
   "execution_count": null,
   "id": "responsible-packet",
   "metadata": {},
   "outputs": [],
   "source": [
    "#export\n",
    "def ar2gr(binary : Union[list,np.ndarray],\n",
    "             to : Union[list,np.ndarray] = np.ndarray) -> Union[list,np.ndarray]:\n",
    "    '''\n",
    "    Converts an input binary array to graycode.\n",
    "    '''\n",
    "    binary = cast(binary,int)\n",
    "    gray = []\n",
    "    gray += [binary[0]]\n",
    "    for i in range(1,len(binary)):\n",
    "        gray += [XOR(binary[i - 1], binary[i])]\n",
    "    return cast(cast(gray,int),to)"
   ]
  },
  {
   "cell_type": "code",
   "execution_count": null,
   "id": "sorted-brooklyn",
   "metadata": {},
   "outputs": [
    {
     "data": {
      "text/markdown": [
       "<h4 id=\"ar2gr\" class=\"doc_header\"><code>ar2gr</code><a href=\"__main__.py#L2\" class=\"source_link\" style=\"float:right\">[source]</a></h4>\n",
       "\n",
       "> <code>ar2gr</code>(**`binary`**:`Union`\\[`list`, `ndarray`\\], **`to`**:`Union`\\[`list`, `ndarray`\\]=*`ndarray`*)\n",
       "\n",
       "Converts an input binary array to graycode."
      ],
      "text/plain": [
       "<IPython.core.display.Markdown object>"
      ]
     },
     "metadata": {},
     "output_type": "display_data"
    }
   ],
   "source": [
    "show_doc(ar2gr)"
   ]
  },
  {
   "cell_type": "code",
   "execution_count": null,
   "id": "intensive-chinese",
   "metadata": {},
   "outputs": [
    {
     "data": {
      "text/plain": [
       "array([1, 1, 1, 1])"
      ]
     },
     "execution_count": null,
     "metadata": {},
     "output_type": "execute_result"
    }
   ],
   "source": [
    "ar2gr(num2ar(10))"
   ]
  },
  {
   "cell_type": "code",
   "execution_count": null,
   "id": "through-press",
   "metadata": {},
   "outputs": [],
   "source": [
    "#export\n",
    "def gr2ar(gray : Union[list,np.ndarray],\n",
    "             to : Union[list,np.ndarray] = np.ndarray) -> Union[list,np.ndarray]:\n",
    "    '''\n",
    "    Converts a gray-code array into binary.\n",
    "    '''\n",
    "    binary = []\n",
    "    binary += [gray[0]]\n",
    "    for i in range(1, len(gray)):\n",
    "        if (gray[i] == 0):\n",
    "            binary += [binary[i - 1]]\n",
    "        else:\n",
    "            binary += [NOT(binary[i - 1])]\n",
    "    return cast(cast(binary,int),to)\n"
   ]
  },
  {
   "cell_type": "code",
   "execution_count": null,
   "id": "grave-ability",
   "metadata": {},
   "outputs": [
    {
     "data": {
      "text/markdown": [
       "<h4 id=\"gr2ar\" class=\"doc_header\"><code>gr2ar</code><a href=\"__main__.py#L2\" class=\"source_link\" style=\"float:right\">[source]</a></h4>\n",
       "\n",
       "> <code>gr2ar</code>(**`gray`**:`Union`\\[`list`, `ndarray`\\], **`to`**:`Union`\\[`list`, `ndarray`\\]=*`ndarray`*)\n",
       "\n",
       "Converts a gray-code array into binary."
      ],
      "text/plain": [
       "<IPython.core.display.Markdown object>"
      ]
     },
     "metadata": {},
     "output_type": "display_data"
    }
   ],
   "source": [
    "show_doc(gr2ar)"
   ]
  },
  {
   "cell_type": "code",
   "execution_count": null,
   "id": "intensive-council",
   "metadata": {},
   "outputs": [
    {
     "data": {
      "text/plain": [
       "array([1, 0, 1, 0])"
      ]
     },
     "execution_count": null,
     "metadata": {},
     "output_type": "execute_result"
    }
   ],
   "source": [
    "gr2ar(ar2gr(num2ar(10)))"
   ]
  },
  {
   "cell_type": "code",
   "execution_count": null,
   "id": "auburn-rolling",
   "metadata": {},
   "outputs": [],
   "source": [
    "#export\n",
    "def num2gr(x:int,to:data=None):\n",
    "    '''\n",
    "    Converts decimal number `x` to equivalent gray-code number.\n",
    "    '''\n",
    "    return int(ar2str(ar2gr(num2ar(x))),2)"
   ]
  },
  {
   "cell_type": "code",
   "execution_count": null,
   "id": "limiting-aaron",
   "metadata": {},
   "outputs": [
    {
     "data": {
      "text/markdown": [
       "<h4 id=\"num2gr\" class=\"doc_header\"><code>num2gr</code><a href=\"__main__.py#L2\" class=\"source_link\" style=\"float:right\">[source]</a></h4>\n",
       "\n",
       "> <code>num2gr</code>(**`x`**:`int`, **`to`**:`Union`\\[`NoneType`, `int`, `float`, `list`, `tuple`, `str`, `dict`, `set`, `ndarray`\\]=*`None`*)\n",
       "\n",
       "Converts decimal number `x` to equivalent gray-code number."
      ],
      "text/plain": [
       "<IPython.core.display.Markdown object>"
      ]
     },
     "metadata": {},
     "output_type": "display_data"
    }
   ],
   "source": [
    "show_doc(num2gr)"
   ]
  },
  {
   "cell_type": "code",
   "execution_count": null,
   "id": "improved-accommodation",
   "metadata": {},
   "outputs": [
    {
     "name": "stdout",
     "output_type": "stream",
     "text": [
      "i=0, num2gr(i)=0\n",
      "i=1, num2gr(i)=1\n",
      "i=2, num2gr(i)=3\n",
      "i=3, num2gr(i)=2\n",
      "i=4, num2gr(i)=6\n",
      "i=5, num2gr(i)=7\n",
      "i=6, num2gr(i)=5\n",
      "i=7, num2gr(i)=4\n",
      "i=8, num2gr(i)=12\n",
      "i=9, num2gr(i)=13\n",
      "i=10, num2gr(i)=15\n"
     ]
    }
   ],
   "source": [
    "for i in range(11):\n",
    "    print(f\"i={i}, num2gr(i)={num2gr(i)}\")"
   ]
  },
  {
   "cell_type": "code",
   "execution_count": null,
   "id": "manual-stylus",
   "metadata": {},
   "outputs": [],
   "source": [
    "#export            \n",
    "def convert(obj : Union[int,float,list,hex,str,np.ndarray],\n",
    "            to : Union[int,float,list,hex,str,np.ndarray] = np.ndarray,\n",
    "            bits : Optional[int] = None,\n",
    "            astype : Union[int,float,list,np.ndarray] = int,\n",
    "            gray : bool = False):\n",
    "    '''\n",
    "    Converts an input `obj` into an output of type `to`, padding with `bits`.\n",
    "    Internally converts `obj` to np.ndarray with elements of dtype `astype`,\n",
    "    before converting to the desired dtype `to`. If `gray`, first converts this\n",
    "    binary array to gray-code. If input or output are `hex`, requires prefix of `0x`.\n",
    "    \n",
    "    Possible conversions:\n",
    "        int -> float\n",
    "        int -> str\n",
    "        int -> list \n",
    "        int -> array\n",
    "        int -> hex\n",
    "        \n",
    "        str -> int\n",
    "        str -> float\n",
    "        str -> list\n",
    "        str -> array\n",
    "        str -> hex\n",
    "        \n",
    "        list -> arr\n",
    "        list -> int\n",
    "        list -> float\n",
    "        list -> str\n",
    "        list -> hex\n",
    "        \n",
    "        arr -> list\n",
    "        arr -> int\n",
    "        arr -> float\n",
    "        arr -> str\n",
    "        arr -> hex\n",
    "        \n",
    "        hex -> int\n",
    "        hex -> float\n",
    "        hex -> arr\n",
    "        hex -> list\n",
    "        hex -> str\n",
    "        \n",
    "    '''\n",
    "    \n",
    "    t=type(obj)\n",
    "    #first convert to binary numpy array\n",
    "    if (t is np.ndarray) or (t is list):\n",
    "        x=obj\n",
    "    elif (t is int) or (t is float):\n",
    "        x=num2ar(obj,bits,astype)\n",
    "    else:# t is str\n",
    "        if obj[:2]=='0x': #obj is hex\n",
    "            x=hex2ar(obj[2:],bits,astype) \n",
    "        else:\n",
    "            x=str2ar(obj)\n",
    "    x=cast(pad(x,bits),astype)\n",
    "    g=cast(ar2gr(x),astype)\n",
    "    #convert\n",
    "    if (to is np.ndarray):\n",
    "        if gray:\n",
    "            return g\n",
    "        else:\n",
    "            return x\n",
    "    elif (to is list) or (to is set):\n",
    "        if gray:\n",
    "            return to(g)\n",
    "        else:\n",
    "            return to(x)\n",
    "    elif (to is int) or (to is float) or (to is hex):\n",
    "        if gray:\n",
    "            return to(ar2num(g))\n",
    "        else:\n",
    "            return to(ar2num(x))\n",
    "    else:# to is str\n",
    "        if gray:\n",
    "            return ar2str(g)\n",
    "        else:\n",
    "            return ar2str(x)"
   ]
  },
  {
   "cell_type": "code",
   "execution_count": null,
   "id": "welcome-windows",
   "metadata": {},
   "outputs": [
    {
     "data": {
      "text/markdown": [
       "<h4 id=\"convert\" class=\"doc_header\"><code>convert</code><a href=\"__main__.py#L2\" class=\"source_link\" style=\"float:right\">[source]</a></h4>\n",
       "\n",
       "> <code>convert</code>(**`obj`**:`Union`\\[`int`, `float`, `list`, `hex`, `str`, `ndarray`\\], **`to`**:`Union`\\[`int`, `float`, `list`, `hex`, `str`, `ndarray`\\]=*`ndarray`*, **`bits`**:`Optional`\\[`int`\\]=*`None`*, **`astype`**:`Union`\\[`int`, `float`, `list`, `ndarray`\\]=*`int`*, **`gray`**:`bool`=*`False`*)\n",
       "\n",
       "Converts an input `obj` into an output of type `to`, padding with `bits`.\n",
       "Internally converts `obj` to np.ndarray with elements of dtype `astype`,\n",
       "before converting to the desired dtype `to`. If `gray`, first converts this\n",
       "binary array to gray-code. If input or output are `hex`, requires prefix of `0x`.\n",
       "\n",
       "Possible conversions:\n",
       "    int -> float\n",
       "    int -> str\n",
       "    int -> list \n",
       "    int -> array\n",
       "    int -> hex\n",
       "    \n",
       "    str -> int\n",
       "    str -> float\n",
       "    str -> list\n",
       "    str -> array\n",
       "    str -> hex\n",
       "    \n",
       "    list -> arr\n",
       "    list -> int\n",
       "    list -> float\n",
       "    list -> str\n",
       "    list -> hex\n",
       "    \n",
       "    arr -> list\n",
       "    arr -> int\n",
       "    arr -> float\n",
       "    arr -> str\n",
       "    arr -> hex\n",
       "    \n",
       "    hex -> int\n",
       "    hex -> float\n",
       "    hex -> arr\n",
       "    hex -> list\n",
       "    hex -> str\n",
       "    "
      ],
      "text/plain": [
       "<IPython.core.display.Markdown object>"
      ]
     },
     "metadata": {},
     "output_type": "display_data"
    }
   ],
   "source": [
    "show_doc(convert)"
   ]
  },
  {
   "cell_type": "code",
   "execution_count": null,
   "id": "inclusive-packet",
   "metadata": {},
   "outputs": [
    {
     "name": "stdout",
     "output_type": "stream",
     "text": [
      "From int to int: convert(10,int)=10\n",
      "From int to float: convert(10,float)=10.0\n",
      "From int to list: convert(10,list)=[1, 0, 1, 0]\n",
      "From int to str: convert(10,str)=1010\n",
      "From int to hex: convert(10,hex)=0xa\n",
      "From float to int: convert(10.0,int)=10\n",
      "From float to float: convert(10.0,float)=10.0\n",
      "From float to list: convert(10.0,list)=[1, 0, 1, 0]\n",
      "From float to str: convert(10.0,str)=1010\n",
      "From float to hex: convert(10.0,hex)=0xa\n",
      "From str to int: convert(10,int)=2\n",
      "From str to float: convert(10,float)=2.0\n",
      "From str to list: convert(10,list)=[1, 0]\n",
      "From str to str: convert(10,str)=10\n",
      "From str to hex: convert(10,hex)=0x2\n",
      "From str to int: convert(0xa,int)=10\n",
      "From str to float: convert(0xa,float)=10.0\n",
      "From str to list: convert(0xa,list)=[1, 0, 1, 0]\n",
      "From str to str: convert(0xa,str)=1010\n",
      "From str to hex: convert(0xa,hex)=0xa\n"
     ]
    }
   ],
   "source": [
    "for i in [10,10.0,'10','0xa']:\n",
    "    t_in=str(type(i)).split('<')[-1].split('>')[0].split('class')[-1].split('\\'')[1]\n",
    "    for j in [int,float,list,str,hex]:#,set,dict]:\n",
    "        t_out='hex' if j==hex else str(j).split('<')[-1].split('>')[0].split('class')[-1].split('\\'')[1]\n",
    "        print(f'From {t_in} to {t_out}: convert({i},{t_out})={convert(i,j)}')"
   ]
  },
  {
   "cell_type": "code",
   "execution_count": null,
   "id": "indie-semester",
   "metadata": {},
   "outputs": [
    {
     "name": "stdout",
     "output_type": "stream",
     "text": [
      "Gray Code: From int to int: convert(10,int)=15\n",
      "Gray Code: From int to float: convert(10,float)=15.0\n",
      "Gray Code: From int to list: convert(10,list)=[1, 1, 1, 1]\n",
      "Gray Code: From int to str: convert(10,str)=1111\n",
      "Gray Code: From int to hex: convert(10,hex)=0xf\n",
      "Gray Code: From float to int: convert(10.0,int)=15\n",
      "Gray Code: From float to float: convert(10.0,float)=15.0\n",
      "Gray Code: From float to list: convert(10.0,list)=[1, 1, 1, 1]\n",
      "Gray Code: From float to str: convert(10.0,str)=1111\n",
      "Gray Code: From float to hex: convert(10.0,hex)=0xf\n",
      "Gray Code: From str to int: convert(10,int)=3\n",
      "Gray Code: From str to float: convert(10,float)=3.0\n",
      "Gray Code: From str to list: convert(10,list)=[1, 1]\n",
      "Gray Code: From str to str: convert(10,str)=11\n",
      "Gray Code: From str to hex: convert(10,hex)=0x3\n",
      "Gray Code: From str to int: convert(0xa,int)=15\n",
      "Gray Code: From str to float: convert(0xa,float)=15.0\n",
      "Gray Code: From str to list: convert(0xa,list)=[1, 1, 1, 1]\n",
      "Gray Code: From str to str: convert(0xa,str)=1111\n",
      "Gray Code: From str to hex: convert(0xa,hex)=0xf\n"
     ]
    }
   ],
   "source": [
    "for i in [10,10.0,'10','0xa']:#,{0,10},{0:10,'a':11}]:\n",
    "    t_in=str(type(i)).split('<')[-1].split('>')[0].split('class')[-1].split('\\'')[1]\n",
    "    for j in [int,float,list,str,hex]:#,set,dict]:\n",
    "        t_out='hex' if j==hex else str(j).split('<')[-1].split('>')[0].split('class')[-1].split('\\'')[1]\n",
    "        print(f'Gray Code: From {t_in} to {t_out}: convert({i},{t_out})={convert(i,j,gray=True)}')"
   ]
  },
  {
   "cell_type": "code",
   "execution_count": null,
   "id": "toxic-masters",
   "metadata": {},
   "outputs": [],
   "source": [
    "#export\n",
    "def rint(x: Union[int,float,list,np.ndarray]) -> Union[int,np.ndarray]:\n",
    "    '''\n",
    "    Typecast rounding to np arrays.\n",
    "    \n",
    "    '''\n",
    "    t=type(x)\n",
    "    if (t is list) or (t is np.ndarray):\n",
    "        return np.rint(x).astype(int)\n",
    "    else:\n",
    "        return round(x)"
   ]
  },
  {
   "cell_type": "code",
   "execution_count": null,
   "id": "honest-assembly",
   "metadata": {},
   "outputs": [
    {
     "data": {
      "text/markdown": [
       "<h4 id=\"rint\" class=\"doc_header\"><code>rint</code><a href=\"__main__.py#L2\" class=\"source_link\" style=\"float:right\">[source]</a></h4>\n",
       "\n",
       "> <code>rint</code>(**`x`**:`Union`\\[`int`, `float`, `list`, `ndarray`\\])\n",
       "\n",
       "Typecast rounding to np arrays."
      ],
      "text/plain": [
       "<IPython.core.display.Markdown object>"
      ]
     },
     "metadata": {},
     "output_type": "display_data"
    }
   ],
   "source": [
    "show_doc(rint)"
   ]
  },
  {
   "cell_type": "code",
   "execution_count": null,
   "id": "sophisticated-stuff",
   "metadata": {},
   "outputs": [
    {
     "data": {
      "text/plain": [
       "array([0, 1])"
      ]
     },
     "execution_count": null,
     "metadata": {},
     "output_type": "execute_result"
    }
   ],
   "source": [
    "rint(np.array([0.5,0.51]))"
   ]
  },
  {
   "cell_type": "code",
   "execution_count": null,
   "id": "hungry-stupid",
   "metadata": {},
   "outputs": [],
   "source": [
    "#hide\n",
    "#refresh()\n",
    "#notebook2script()"
   ]
  },
  {
   "cell_type": "code",
   "execution_count": null,
   "id": "cubic-catch",
   "metadata": {},
   "outputs": [],
   "source": []
  }
 ],
 "metadata": {
  "kernelspec": {
   "display_name": "Python 3",
   "language": "python",
   "name": "python3"
  }
 },
 "nbformat": 4,
 "nbformat_minor": 5
}
