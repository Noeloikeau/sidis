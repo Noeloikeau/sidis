{
 "cells": [
  {
   "cell_type": "code",
   "execution_count": null,
   "id": "sealed-storage",
   "metadata": {},
   "outputs": [],
   "source": [
    "# default_exp conversion"
   ]
  },
  {
   "cell_type": "markdown",
   "id": "sexual-wedding",
   "metadata": {},
   "source": [
    "# data\n",
    "\n",
    "> This module defines typecasting and conversion functions for easily manipulating and generating data. The most powerful methods are `cast` and `convert`. Other utilities include `RNG` and `fill`, as well as extensions of binary logic to continuous variables such as `XOR`, and encodings such as gray code."
   ]
  },
  {
   "cell_type": "code",
   "execution_count": null,
   "id": "fitted-malpractice",
   "metadata": {},
   "outputs": [],
   "source": [
    "#hide\n",
    "from nbdev import *\n",
    "from nbdev.imports import *\n",
    "from nbdev.export import *\n",
    "from nbdev.sync import *\n",
    "from nbdev.showdoc import *"
   ]
  },
  {
   "cell_type": "code",
   "execution_count": null,
   "id": "rocky-orleans",
   "metadata": {},
   "outputs": [],
   "source": [
    "#hide\n",
    "%load_ext autoreload\n",
    "%autoreload 2"
   ]
  },
  {
   "cell_type": "code",
   "execution_count": null,
   "id": "rapid-syndication",
   "metadata": {},
   "outputs": [
    {
     "name": "stderr",
     "output_type": "stream",
     "text": [
      "C:\\Anaconda3\\lib\\site-packages\\numpy\\_distributor_init.py:32: UserWarning: loaded more than 1 DLL from .libs:\n",
      "C:\\Anaconda3\\lib\\site-packages\\numpy\\.libs\\libopenblas.NOIJJG62EMASZI6NYURL6JBKM4EVBGM7.gfortran-win_amd64.dll\n",
      "C:\\Anaconda3\\lib\\site-packages\\numpy\\.libs\\libopenblas.PYQHXLVVQ7VESDPUVUADXEVJOBGHJPAY.gfortran-win_amd64.dll\n",
      "  stacklevel=1)\n"
     ]
    }
   ],
   "source": [
    "#export\n",
    "import typing\n",
    "import numpy as np\n",
    "from typing import Optional, Tuple, Dict, Callable, Union, Mapping, Sequence, Iterable\n",
    "from functools import partial\n",
    "import warnings"
   ]
  },
  {
   "cell_type": "markdown",
   "id": "pointed-northern",
   "metadata": {},
   "source": [
    "## Type casting"
   ]
  },
  {
   "cell_type": "markdown",
   "id": "reverse-vaccine",
   "metadata": {},
   "source": [
    "We begin with some motivating definitions and examples before building up to the the final typecasting function `cast`. Thee data types considered here are given as a typehint `data` and dictionary `types`. "
   ]
  },
  {
   "cell_type": "code",
   "execution_count": null,
   "id": "cultural-domestic",
   "metadata": {},
   "outputs": [],
   "source": [
    "#export\n",
    "data = Union[int,float,list,tuple,str,dict,set,np.ndarray]\n",
    "types={t:t for t in [int,float,list,tuple,str,dict,set,np.ndarray]}"
   ]
  },
  {
   "cell_type": "markdown",
   "id": "christian-novel",
   "metadata": {},
   "source": [
    "We start with a simple try except conversion which guarantees the object is at least *treated* as the desired type, even if it can't be directly converted (yet)."
   ]
  },
  {
   "cell_type": "code",
   "execution_count": null,
   "id": "mineral-rebate",
   "metadata": {},
   "outputs": [],
   "source": [
    "#export\n",
    "def __cast(to : data, obj : data) -> data: \n",
    "    '''\n",
    "    Typecasts `obj` to datatype `to`.\n",
    "    First inner typecasting function.\n",
    "    Fallback case of more complex casting behavior.\n",
    "    '''\n",
    "    try:\n",
    "        return to(obj)\n",
    "    except:\n",
    "        return typing.cast(to,obj)"
   ]
  },
  {
   "cell_type": "code",
   "execution_count": null,
   "id": "detailed-container",
   "metadata": {},
   "outputs": [
    {
     "data": {
      "text/markdown": [
       "<h4 id=\"__cast\" class=\"doc_header\"><code>__cast</code><a href=\"__main__.py#L2\" class=\"source_link\" style=\"float:right\">[source]</a></h4>\n",
       "\n",
       "> <code>__cast</code>(**`to`**:`Union`\\[`int`, `float`, `list`, `tuple`, `str`, `dict`, `set`, `ndarray`\\], **`obj`**:`Union`\\[`int`, `float`, `list`, `tuple`, `str`, `dict`, `set`, `ndarray`\\])\n",
       "\n",
       "Typecasts `obj` to datatype `to`.\n",
       "First inner typecasting function.\n",
       "Fallback case of more complex casting behavior."
      ],
      "text/plain": [
       "<IPython.core.display.Markdown object>"
      ]
     },
     "metadata": {},
     "output_type": "display_data"
    }
   ],
   "source": [
    "show_doc(__cast)"
   ]
  },
  {
   "cell_type": "markdown",
   "id": "approved-siemens",
   "metadata": {},
   "source": [
    "Next, we will create a global dict `rules` keyed by type that is valued by a partially evaluated `__cast` on that type. This allows us to modify the future behavior of the cast if desired. To understand partial evaluation, consider:"
   ]
  },
  {
   "cell_type": "code",
   "execution_count": null,
   "id": "latest-philippines",
   "metadata": {},
   "outputs": [
    {
     "data": {
      "text/plain": [
       "(1, 0)"
      ]
     },
     "execution_count": null,
     "metadata": {},
     "output_type": "execute_result"
    }
   ],
   "source": [
    "p=partial(lambda x,y: (x,y),1)\n",
    "p(0)"
   ]
  },
  {
   "cell_type": "code",
   "execution_count": null,
   "id": "sudden-demographic",
   "metadata": {},
   "outputs": [],
   "source": [
    "#export\n",
    "rules={t:partial(__cast,t) for t in types}\n",
    "rules[np.ndarray]=np.array #use the numpy function \n",
    "rules[None]=lambda t:t #and return the object in case nothing given"
   ]
  },
  {
   "cell_type": "code",
   "execution_count": null,
   "id": "placed-morris",
   "metadata": {},
   "outputs": [
    {
     "data": {
      "text/plain": [
       "'no arg type, returns whatever we give it'"
      ]
     },
     "execution_count": null,
     "metadata": {},
     "output_type": "execute_result"
    }
   ],
   "source": [
    "rules[None]('no arg type, returns whatever we give it')"
   ]
  },
  {
   "cell_type": "code",
   "execution_count": null,
   "id": "abroad-mortality",
   "metadata": {},
   "outputs": [
    {
     "name": "stdout",
     "output_type": "stream",
     "text": [
      "0\n",
      "[0.5]\n"
     ]
    },
    {
     "data": {
      "text/plain": [
       "array(0)"
      ]
     },
     "execution_count": null,
     "metadata": {},
     "output_type": "execute_result"
    }
   ],
   "source": [
    "print(rules[int](0.5))\n",
    "print(rules[int]([0.5]))\n",
    "rules[np.ndarray](0)"
   ]
  },
  {
   "cell_type": "markdown",
   "id": "genetic-quarterly",
   "metadata": {},
   "source": [
    "The list input, array, and None would have failed without this treatment. We now define another intermediary `_cast` to do this so we can treat it as a callable and switch the order of the arguments to the more pythonic `obj`, `to`."
   ]
  },
  {
   "cell_type": "code",
   "execution_count": null,
   "id": "wicked-married",
   "metadata": {},
   "outputs": [],
   "source": [
    "#export\n",
    "def cast_(obj : data,to : data) -> data:\n",
    "    '''\n",
    "    Second inner typecast function using global rulebook `rules`.\n",
    "    '''\n",
    "    global rules\n",
    "    return rules[to](obj)"
   ]
  },
  {
   "cell_type": "code",
   "execution_count": null,
   "id": "nearby-chart",
   "metadata": {},
   "outputs": [
    {
     "data": {
      "text/markdown": [
       "<h4 id=\"cast_\" class=\"doc_header\"><code>cast_</code><a href=\"__main__.py#L2\" class=\"source_link\" style=\"float:right\">[source]</a></h4>\n",
       "\n",
       "> <code>cast_</code>(**`obj`**:`Union`\\[`int`, `float`, `list`, `tuple`, `str`, `dict`, `set`, `ndarray`\\], **`to`**:`Union`\\[`int`, `float`, `list`, `tuple`, `str`, `dict`, `set`, `ndarray`\\])\n",
       "\n",
       "Second inner typecast function using global rulebook [`rules`](/sidis/conversion.html#rules)."
      ],
      "text/plain": [
       "<IPython.core.display.Markdown object>"
      ]
     },
     "metadata": {},
     "output_type": "display_data"
    }
   ],
   "source": [
    "show_doc(cast_)"
   ]
  },
  {
   "cell_type": "markdown",
   "id": "occupied-redhead",
   "metadata": {},
   "source": [
    "With this formulation we can update the rules and get new casting behavior."
   ]
  },
  {
   "cell_type": "code",
   "execution_count": null,
   "id": "homeless-gilbert",
   "metadata": {},
   "outputs": [],
   "source": [
    "rules[np.ndarray]=lambda t:print('changed')"
   ]
  },
  {
   "cell_type": "code",
   "execution_count": null,
   "id": "american-parking",
   "metadata": {},
   "outputs": [
    {
     "name": "stdout",
     "output_type": "stream",
     "text": [
      "changed\n"
     ]
    }
   ],
   "source": [
    "cast_(0,np.ndarray)"
   ]
  },
  {
   "cell_type": "markdown",
   "id": "studied-upset",
   "metadata": {},
   "source": [
    "And change it back."
   ]
  },
  {
   "cell_type": "code",
   "execution_count": null,
   "id": "proprietary-species",
   "metadata": {},
   "outputs": [
    {
     "data": {
      "text/plain": [
       "array(0)"
      ]
     },
     "execution_count": null,
     "metadata": {},
     "output_type": "execute_result"
    }
   ],
   "source": [
    "rules[np.ndarray]=np.array\n",
    "cast_(0,np.ndarray)"
   ]
  },
  {
   "cell_type": "markdown",
   "id": "becoming-wright",
   "metadata": {},
   "source": [
    "## Wrapping"
   ]
  },
  {
   "cell_type": "markdown",
   "id": "hydraulic-notebook",
   "metadata": {},
   "source": [
    "The type casting above is simple. Often times it is convenient to \"wrap\" the desired type over the input type. We will now construct a `wrap` function which does this, depending on if the object is an iterable or not."
   ]
  },
  {
   "cell_type": "code",
   "execution_count": null,
   "id": "developed-yorkshire",
   "metadata": {},
   "outputs": [],
   "source": [
    "#export\n",
    "isiter = lambda t: hasattr(t,'__iter__')\n",
    "iterables=[t for t in types if isiter(t)]\n",
    "numbers=[t for t in types if t not in iterables]"
   ]
  },
  {
   "cell_type": "code",
   "execution_count": null,
   "id": "collected-character",
   "metadata": {},
   "outputs": [],
   "source": [
    "#export\n",
    "def typestr(x : data):\n",
    "    '''\n",
    "    Parses the string of the input type for readability.\n",
    "    '''\n",
    "    if type(x) is type: #if passing type itself\n",
    "        s=x\n",
    "    else: #otherwise get type of obj\n",
    "        s=type(x)\n",
    "    return str(s).split('<')[-1].split('>')[0].split('class')[-1].split('\\'')[1]"
   ]
  },
  {
   "cell_type": "code",
   "execution_count": null,
   "id": "confidential-labor",
   "metadata": {},
   "outputs": [
    {
     "data": {
      "text/markdown": [
       "<h4 id=\"typestr\" class=\"doc_header\"><code>typestr</code><a href=\"__main__.py#L2\" class=\"source_link\" style=\"float:right\">[source]</a></h4>\n",
       "\n",
       "> <code>typestr</code>(**`x`**:`Union`\\[`int`, `float`, `list`, `tuple`, `str`, `dict`, `set`, `ndarray`\\])\n",
       "\n",
       "Parses the string of the input type for readability."
      ],
      "text/plain": [
       "<IPython.core.display.Markdown object>"
      ]
     },
     "metadata": {},
     "output_type": "display_data"
    },
    {
     "name": "stdout",
     "output_type": "stream",
     "text": [
      "['list', 'tuple', 'str', 'dict', 'set', 'numpy.ndarray']\n",
      "['int', 'float']\n"
     ]
    }
   ],
   "source": [
    "show_doc(typestr)\n",
    "print([typestr(t) for t in iterables])\n",
    "print([typestr(t) for t in numbers])"
   ]
  },
  {
   "cell_type": "markdown",
   "id": "executive-castle",
   "metadata": {},
   "source": [
    "The following conversions between the two types demonstrate these meanings:"
   ]
  },
  {
   "cell_type": "code",
   "execution_count": null,
   "id": "differential-overhead",
   "metadata": {},
   "outputs": [
    {
     "name": "stdout",
     "output_type": "stream",
     "text": [
      "[0, 1]  to  list  :  [0, 1]\n",
      "(0, 1)  to  list  :  [0, 1]\n",
      "01  to  list  :  ['0', '1']\n",
      "{0: 1}  to  list  :  [0]\n",
      "{0, 1}  to  list  :  [0, 1]\n",
      "[0 1]  to  list  :  [0, 1]\n",
      "[0, 1]  to  tuple  :  (0, 1)\n",
      "(0, 1)  to  tuple  :  (0, 1)\n",
      "01  to  tuple  :  ('0', '1')\n",
      "{0: 1}  to  tuple  :  (0,)\n",
      "{0, 1}  to  tuple  :  (0, 1)\n",
      "[0 1]  to  tuple  :  (0, 1)\n",
      "[0, 1]  to  str  :  [0, 1]\n",
      "(0, 1)  to  str  :  (0, 1)\n",
      "01  to  str  :  01\n",
      "{0: 1}  to  str  :  {0: 1}\n",
      "{0, 1}  to  str  :  {0, 1}\n",
      "[0 1]  to  str  :  [0 1]\n",
      "[0, 1]  to  dict  :  [0, 1]\n",
      "(0, 1)  to  dict  :  (0, 1)\n",
      "01  to  dict  :  01\n",
      "{0: 1}  to  dict  :  {0: 1}\n",
      "{0, 1}  to  dict  :  {0, 1}\n",
      "[0 1]  to  dict  :  [0 1]\n",
      "[0, 1]  to  set  :  {0, 1}\n",
      "(0, 1)  to  set  :  {0, 1}\n",
      "01  to  set  :  {'1', '0'}\n",
      "{0: 1}  to  set  :  {0}\n",
      "{0, 1}  to  set  :  {0, 1}\n",
      "[0 1]  to  set  :  {0, 1}\n",
      "[0, 1]  to  numpy.ndarray  :  [0 1]\n",
      "(0, 1)  to  numpy.ndarray  :  [0 1]\n",
      "01  to  numpy.ndarray  :  01\n",
      "{0: 1}  to  numpy.ndarray  :  {0: 1}\n",
      "{0, 1}  to  numpy.ndarray  :  {0, 1}\n",
      "[0 1]  to  numpy.ndarray  :  [0 1]\n"
     ]
    }
   ],
   "source": [
    "#iters<->iters\n",
    "for i in iterables:\n",
    "    for j in [[0,1],(0,1),'01',{0:1},{0,1},np.array([0,1])]:\n",
    "        print(j,' to ',typestr(i),' : ',cast_(j,i))"
   ]
  },
  {
   "cell_type": "code",
   "execution_count": null,
   "id": "finnish-failing",
   "metadata": {},
   "outputs": [
    {
     "name": "stdout",
     "output_type": "stream",
     "text": [
      "0  to  int  :  0\n",
      "0.1  to  int  :  0\n",
      "0  to  float  :  0.0\n",
      "0.1  to  float  :  0.1\n"
     ]
    }
   ],
   "source": [
    "#numbers<->numbers\n",
    "for i in numbers:\n",
    "    for j in [0,0.1]:\n",
    "        print(j,' to ',typestr(i),' : ',cast_(j,i))"
   ]
  },
  {
   "cell_type": "code",
   "execution_count": null,
   "id": "trying-evidence",
   "metadata": {},
   "outputs": [
    {
     "name": "stdout",
     "output_type": "stream",
     "text": [
      "[0, 0.1]  to  int  :  [0, 0.1]\n",
      "(0, 0.1)  to  int  :  (0, 0.1)\n",
      "01  to  int  :  1\n",
      "{0: 0.1}  to  int  :  {0: 0.1}\n",
      "{0, 0.1}  to  int  :  {0, 0.1}\n",
      "[0.  0.1]  to  int  :  [0.  0.1]\n",
      "[0, 0.1]  to  float  :  [0, 0.1]\n",
      "(0, 0.1)  to  float  :  (0, 0.1)\n",
      "01  to  float  :  1.0\n",
      "{0: 0.1}  to  float  :  {0: 0.1}\n",
      "{0, 0.1}  to  float  :  {0, 0.1}\n",
      "[0.  0.1]  to  float  :  [0.  0.1]\n"
     ]
    }
   ],
   "source": [
    "#numbers->iterables\n",
    "for i in numbers:\n",
    "    for j in [[0,0.1],(0,0.1),'01',{0:0.1},{0,0.1},np.array([0,0.1])]:\n",
    "        print(j,' to ',typestr(i),' : ',cast_(j,i))"
   ]
  },
  {
   "cell_type": "code",
   "execution_count": null,
   "id": "stuck-scoop",
   "metadata": {},
   "outputs": [
    {
     "name": "stdout",
     "output_type": "stream",
     "text": [
      "0  to  list  :  0\n",
      "0.1  to  list  :  0.1\n",
      "0  to  tuple  :  0\n",
      "0.1  to  tuple  :  0.1\n",
      "0  to  str  :  0\n",
      "0.1  to  str  :  0.1\n",
      "0  to  dict  :  0\n",
      "0.1  to  dict  :  0.1\n",
      "0  to  set  :  0\n",
      "0.1  to  set  :  0.1\n",
      "0  to  numpy.ndarray  :  0\n",
      "0.1  to  numpy.ndarray  :  0.1\n"
     ]
    }
   ],
   "source": [
    "#iterables->numbers\n",
    "for i in iterables:\n",
    "    for j in [0,0.1]:\n",
    "        print(j,' to ',typestr(i),' : ',cast_(j,i))"
   ]
  },
  {
   "cell_type": "markdown",
   "id": "afraid-peeing",
   "metadata": {},
   "source": [
    "As can be seen, the cross-conversions are nonexistent. We change this with the following rules:\n",
    "\n",
    "> iters->numbers : convert every element in the iter\n",
    "\n",
    "> numbers->iters : wrap the iterable type around the number\n",
    "\n",
    "For the special case of dictionaries, which are multi-valued, we convert the *values* to the number type, and not the keys (the keys are obtainable from the iterable<->iterable mappings above). Similarly, for numbers->dict, we key by the number itself. This is a convention but it is nonambiguous when iterating over the number, as it will return the number. In summary:\n",
    "\n",
    "> dict -> number : convert every value (not key) to number\n",
    "\n",
    "> number -> dict : key by number"
   ]
  },
  {
   "cell_type": "code",
   "execution_count": null,
   "id": "external-parallel",
   "metadata": {},
   "outputs": [],
   "source": [
    "#export\n",
    "def cast(obj : data, to : data = None) -> data:\n",
    "    '''\n",
    "    Universal typecasting function.\n",
    "    Typecasts the `obj` to the desired datatype `to`,\n",
    "    with support for wrapping of various types.\n",
    "    '''\n",
    "    t=type(obj)\n",
    "    to_iter=isiter(to)\n",
    "    in_iter=isiter(t)\n",
    "    if to_iter==in_iter:\n",
    "        return cast_(obj,to)\n",
    "    elif isiter(t): #if it's an iterable, convert all the elements, then convert back\n",
    "        if t is dict: \n",
    "            return {k:cast_(v,to) for k,v in obj.items()}\n",
    "        else:# t in iterables:\n",
    "            return cast_([cast_(i,to) for i in obj],t)\n",
    "    else: #otherwise, wrap around the exterior. do this manually for each type, unfortunately\n",
    "        if to is list:\n",
    "            return [obj]\n",
    "        elif to is tuple:\n",
    "            return (obj,)\n",
    "        elif to is str:\n",
    "            return f'{obj}'\n",
    "        elif to is dict:\n",
    "            return {obj:obj}\n",
    "        elif to is set:\n",
    "            return {obj}\n",
    "        elif to is np.ndarray:\n",
    "            return np.array(obj).astype(to)"
   ]
  },
  {
   "cell_type": "code",
   "execution_count": null,
   "id": "tender-anchor",
   "metadata": {},
   "outputs": [
    {
     "data": {
      "text/markdown": [
       "<h4 id=\"cast\" class=\"doc_header\"><code>cast</code><a href=\"__main__.py#L2\" class=\"source_link\" style=\"float:right\">[source]</a></h4>\n",
       "\n",
       "> <code>cast</code>(**`obj`**:`Union`\\[`int`, `float`, `list`, `tuple`, `str`, `dict`, `set`, `ndarray`\\], **`to`**:`Union`\\[`int`, `float`, `list`, `tuple`, `str`, `dict`, `set`, `ndarray`\\]=*`None`*)\n",
       "\n",
       "Universal typecasting function.\n",
       "Typecasts the `obj` to the desired datatype `to`,\n",
       "with support for wrapping of various types."
      ],
      "text/plain": [
       "<IPython.core.display.Markdown object>"
      ]
     },
     "metadata": {},
     "output_type": "display_data"
    },
    {
     "name": "stdout",
     "output_type": "stream",
     "text": [
      "From 1 to int: 1\n",
      "From 1 to float: 1.0\n",
      "From 1 to list: [1]\n",
      "From 1 to tuple: (1,)\n",
      "From 1 to str: 1\n",
      "From 1 to dict: {1: 1}\n",
      "From 1 to set: {1}\n",
      "From 1 to numpy.ndarray: 1\n",
      "From 1.5 to int: 1\n",
      "From 1.5 to float: 1.5\n",
      "From 1.5 to list: [1.5]\n",
      "From 1.5 to tuple: (1.5,)\n",
      "From 1.5 to str: 1.5\n",
      "From 1.5 to dict: {1.5: 1.5}\n",
      "From 1.5 to set: {1.5}\n",
      "From 1.5 to numpy.ndarray: 1.5\n",
      "From 2.3 to int: 2\n",
      "From 2.3 to float: 2.3\n",
      "From 2.3 to list: [2.3]\n",
      "From 2.3 to tuple: (2.3,)\n",
      "From 2.3 to str: 2.3\n",
      "From 2.3 to dict: {2.3: 2.3}\n",
      "From 2.3 to set: {2.3}\n",
      "From 2.3 to numpy.ndarray: 2.3\n"
     ]
    }
   ],
   "source": [
    "show_doc(cast)\n",
    "for n in [1,1.5,2.3]:\n",
    "    for t in types:\n",
    "        print(f'From {n} to {typestr(t)}: {cast(n,t)}')"
   ]
  },
  {
   "cell_type": "code",
   "execution_count": null,
   "id": "interior-amount",
   "metadata": {},
   "outputs": [
    {
     "name": "stdout",
     "output_type": "stream",
     "text": [
      "From [0, 0.1] to int: [0, 0]\n",
      "From [0, 0.1] to float: [0.0, 0.1]\n",
      "From [0, 0.1] to list: [0, 0.1]\n",
      "From [0, 0.1] to tuple: (0, 0.1)\n",
      "From [0, 0.1] to str: [0, 0.1]\n",
      "From [0, 0.1] to dict: [0, 0.1]\n",
      "From [0, 0.1] to set: {0, 0.1}\n",
      "From [0, 0.1] to numpy.ndarray: [0.  0.1]\n",
      "From (0, 0.1) to int: (0, 0)\n",
      "From (0, 0.1) to float: (0.0, 0.1)\n",
      "From (0, 0.1) to list: [0, 0.1]\n",
      "From (0, 0.1) to tuple: (0, 0.1)\n",
      "From (0, 0.1) to str: (0, 0.1)\n",
      "From (0, 0.1) to dict: (0, 0.1)\n",
      "From (0, 0.1) to set: {0, 0.1}\n",
      "From (0, 0.1) to numpy.ndarray: [0.  0.1]\n",
      "From 01 to int: [0, 1]\n",
      "From 01 to float: [0.0, 1.0]\n",
      "From 01 to list: ['0', '1']\n",
      "From 01 to tuple: ('0', '1')\n",
      "From 01 to str: 01\n",
      "From 01 to dict: 01\n",
      "From 01 to set: {'1', '0'}\n",
      "From 01 to numpy.ndarray: 01\n",
      "From {0: 0.1} to int: {0: 0}\n",
      "From {0: 0.1} to float: {0: 0.1}\n",
      "From {0: 0.1} to list: [0]\n",
      "From {0: 0.1} to tuple: (0,)\n",
      "From {0: 0.1} to str: {0: 0.1}\n",
      "From {0: 0.1} to dict: {0: 0.1}\n",
      "From {0: 0.1} to set: {0}\n",
      "From {0: 0.1} to numpy.ndarray: {0: 0.1}\n",
      "From {0, 0.1} to int: {0}\n",
      "From {0, 0.1} to float: {0.0, 0.1}\n",
      "From {0, 0.1} to list: [0, 0.1]\n",
      "From {0, 0.1} to tuple: (0, 0.1)\n",
      "From {0, 0.1} to str: {0, 0.1}\n",
      "From {0, 0.1} to dict: {0, 0.1}\n",
      "From {0, 0.1} to set: {0, 0.1}\n",
      "From {0, 0.1} to numpy.ndarray: {0, 0.1}\n",
      "From [0.  0.1] to int: [0 0]\n",
      "From [0.  0.1] to float: [0.  0.1]\n",
      "From [0.  0.1] to list: [0.0, 0.1]\n",
      "From [0.  0.1] to tuple: (0.0, 0.1)\n",
      "From [0.  0.1] to str: [0.  0.1]\n",
      "From [0.  0.1] to dict: [0.  0.1]\n",
      "From [0.  0.1] to set: {0.0, 0.1}\n",
      "From [0.  0.1] to numpy.ndarray: [0.  0.1]\n"
     ]
    }
   ],
   "source": [
    "for n in [[0,0.1],(0,0.1),'01',{0:0.1},{0,0.1},np.array([0,0.1])]:\n",
    "    for t in types:\n",
    "        print(f'From {n} to {typestr(t)}: {cast(n,t)}')"
   ]
  },
  {
   "cell_type": "markdown",
   "id": "champion-paper",
   "metadata": {},
   "source": [
    "This extends the desired behavior of typecasting for iterables and noniterables."
   ]
  },
  {
   "cell_type": "markdown",
   "id": "subject-burns",
   "metadata": {},
   "source": [
    "# Conversions\n",
    "\n",
    "Here we present conversions between common datatypes (like numbers to binary arrays)."
   ]
  },
  {
   "cell_type": "code",
   "execution_count": null,
   "id": "educational-newton",
   "metadata": {},
   "outputs": [],
   "source": [
    "#export\n",
    "def pad(data : Union[np.ndarray,list],\n",
    "          bits : Optional[int] = None,\n",
    "          to : Union[int,float] = int) -> np.ndarray:\n",
    "    '''\n",
    "    Pads an array with zeros, up to a length of `bits`.\n",
    "    '''\n",
    "    if bits is None:\n",
    "        bits=0\n",
    "    else:\n",
    "        bits=bits-len(data)\n",
    "    x=[0 for i in range(bits)]+list(data)\n",
    "    x=np.array(x).astype(to)\n",
    "    return x"
   ]
  },
  {
   "cell_type": "code",
   "execution_count": null,
   "id": "contained-skiing",
   "metadata": {},
   "outputs": [
    {
     "data": {
      "text/markdown": [
       "<h4 id=\"pad\" class=\"doc_header\"><code>pad</code><a href=\"__main__.py#L2\" class=\"source_link\" style=\"float:right\">[source]</a></h4>\n",
       "\n",
       "> <code>pad</code>(**`data`**:`Union`\\[`ndarray`, `list`\\], **`bits`**:`Optional`\\[`int`\\]=*`None`*, **`to`**:`Union`\\[`int`, `float`\\]=*`int`*)\n",
       "\n",
       "Pads an array with zeros, up to a length of `bits`."
      ],
      "text/plain": [
       "<IPython.core.display.Markdown object>"
      ]
     },
     "metadata": {},
     "output_type": "display_data"
    },
    {
     "data": {
      "text/plain": [
       "array([0., 0., 0., 1., 0.])"
      ]
     },
     "execution_count": null,
     "metadata": {},
     "output_type": "execute_result"
    }
   ],
   "source": [
    "show_doc(pad)\n",
    "pad(data=[1,0],bits=5,to=float)"
   ]
  },
  {
   "cell_type": "code",
   "execution_count": null,
   "id": "wicked-reputation",
   "metadata": {},
   "outputs": [],
   "source": [
    "#export\n",
    "def fillar(x : list,fillwith=np.NaN,mask=True):\n",
    "    '''\n",
    "    Turn uneven nested lists `x` into arrays `y` substituting\n",
    "    missing entries using `fillwith` and optionally masking.\n",
    "    '''\n",
    "    length = max(map(len, x))\n",
    "    y=np.array([xi+[fillwith]*(length-len(xi)) for xi in x])\n",
    "    if mask:\n",
    "        if np.isfinite(fillwith):\n",
    "            y=np.ma.masked_equal(y,fillwith)\n",
    "        else:\n",
    "            y=np.ma.masked_invalid(y)\n",
    "    return y"
   ]
  },
  {
   "cell_type": "code",
   "execution_count": null,
   "id": "awful-courage",
   "metadata": {},
   "outputs": [
    {
     "data": {
      "text/markdown": [
       "<h4 id=\"fillar\" class=\"doc_header\"><code>fillar</code><a href=\"__main__.py#L2\" class=\"source_link\" style=\"float:right\">[source]</a></h4>\n",
       "\n",
       "> <code>fillar</code>(**`x`**:`list`, **`fillwith`**=*`nan`*, **`mask`**=*`True`*)\n",
       "\n",
       "Turn uneven nested lists `x` into arrays `y` substituting\n",
       "missing entries using `fillwith` and optionally masking."
      ],
      "text/plain": [
       "<IPython.core.display.Markdown object>"
      ]
     },
     "metadata": {},
     "output_type": "display_data"
    },
    {
     "data": {
      "text/plain": [
       "array([[1, 0, 0],\n",
       "       [1, 1, 1]])"
      ]
     },
     "execution_count": null,
     "metadata": {},
     "output_type": "execute_result"
    }
   ],
   "source": [
    "show_doc(fillar)\n",
    "fillar([[1],[1,1,1]],fillwith=0,mask=False)"
   ]
  },
  {
   "cell_type": "code",
   "execution_count": null,
   "id": "false-composition",
   "metadata": {},
   "outputs": [
    {
     "data": {
      "text/plain": [
       "masked_array(\n",
       "  data=[[1, --, --],\n",
       "        [1, 1, 1]],\n",
       "  mask=[[False,  True,  True],\n",
       "        [False, False, False]],\n",
       "  fill_value=0)"
      ]
     },
     "execution_count": null,
     "metadata": {},
     "output_type": "execute_result"
    }
   ],
   "source": [
    "fillar([[1],[1,1,1]],fillwith=0,mask=True)"
   ]
  },
  {
   "cell_type": "code",
   "execution_count": null,
   "id": "rolled-working",
   "metadata": {},
   "outputs": [],
   "source": [
    "#export\n",
    "def nbits(x : Union[int,float,list,np.ndarray]) -> int:\n",
    "    '''\n",
    "    Return the number of bits required to represent the input `x`. \n",
    "    '''\n",
    "    t=type(x)\n",
    "    if (t is int) or (t is float):\n",
    "        bits=np.ceil(np.log2(x+1)).astype(int) if x!=0 else 1\n",
    "    elif (t is list) or (t is np.ndarray):\n",
    "        bits=len(x)\n",
    "    return bits"
   ]
  },
  {
   "cell_type": "code",
   "execution_count": null,
   "id": "norman-shape",
   "metadata": {},
   "outputs": [
    {
     "data": {
      "text/markdown": [
       "<h4 id=\"nbits\" class=\"doc_header\"><code>nbits</code><a href=\"__main__.py#L2\" class=\"source_link\" style=\"float:right\">[source]</a></h4>\n",
       "\n",
       "> <code>nbits</code>(**`x`**:`Union`\\[`int`, `float`, `list`, `ndarray`\\])\n",
       "\n",
       "Return the number of bits required to represent the input `x`. "
      ],
      "text/plain": [
       "<IPython.core.display.Markdown object>"
      ]
     },
     "metadata": {},
     "output_type": "display_data"
    },
    {
     "name": "stdout",
     "output_type": "stream",
     "text": [
      "i=0, nbits(0)=1\n",
      "i=1, nbits(1)=1\n",
      "i=2, nbits(2)=2\n",
      "i=3, nbits(3)=2\n",
      "i=4, nbits(4)=3\n",
      "i=5, nbits(5)=3\n",
      "i=6, nbits(6)=3\n",
      "i=7, nbits(7)=3\n",
      "i=8, nbits(8)=4\n",
      "i=9, nbits(9)=4\n",
      "i=10, nbits(10)=4\n"
     ]
    }
   ],
   "source": [
    "show_doc(nbits)\n",
    "for i in range(11):\n",
    "    print(f\"i={i}, nbits({i})={nbits(i)}\")"
   ]
  },
  {
   "cell_type": "code",
   "execution_count": null,
   "id": "union-timeline",
   "metadata": {},
   "outputs": [],
   "source": [
    "#export\n",
    "def rint(x: Union[int,float,list,np.ndarray]) -> Union[int,np.ndarray]:\n",
    "    '''\n",
    "    Typecast rounding to np arrays.\n",
    "    \n",
    "    '''\n",
    "    t=type(x)\n",
    "    if (t is list) or (t is np.ndarray):\n",
    "        return np.rint(x).astype(int)\n",
    "    else:\n",
    "        return round(x)"
   ]
  },
  {
   "cell_type": "code",
   "execution_count": null,
   "id": "sudden-bracket",
   "metadata": {},
   "outputs": [
    {
     "data": {
      "text/markdown": [
       "<h4 id=\"rint\" class=\"doc_header\"><code>rint</code><a href=\"__main__.py#L2\" class=\"source_link\" style=\"float:right\">[source]</a></h4>\n",
       "\n",
       "> <code>rint</code>(**`x`**:`Union`\\[`int`, `float`, `list`, `ndarray`\\])\n",
       "\n",
       "Typecast rounding to np arrays."
      ],
      "text/plain": [
       "<IPython.core.display.Markdown object>"
      ]
     },
     "metadata": {},
     "output_type": "display_data"
    },
    {
     "data": {
      "text/plain": [
       "array([0, 1])"
      ]
     },
     "execution_count": null,
     "metadata": {},
     "output_type": "execute_result"
    }
   ],
   "source": [
    "show_doc(rint)\n",
    "rint(np.array([0.5,0.51]))"
   ]
  },
  {
   "cell_type": "code",
   "execution_count": null,
   "id": "loved-valuation",
   "metadata": {},
   "outputs": [],
   "source": [
    "#export\n",
    "class RNG:\n",
    "    '''\n",
    "    Globally stable random number generator. Initialized with fixed `seed`.\n",
    "    Contains `normal` and `random` methods, each with an `absval` and `asint` argument,\n",
    "    which convert to positive values and round to integers respectively.\n",
    "    \n",
    "    Example use:\n",
    "        rng=RNG(seed=0)\n",
    "        rng.normal(x=0,dx=1,shape=(2,2))\n",
    "        rng.random(a=0,b=5,shape=(2,2),asint=True,absval=True)\n",
    "    '''\n",
    "    def __init__(self,seed : Optional[int] = 0):\n",
    "        self.rng=np.random.default_rng(seed)\n",
    "\n",
    "    def typecast(self,\n",
    "                 y : Union[int,float],\n",
    "                 absval : bool = False,\n",
    "                 asint : bool = False) -> Union[int,float,np.ndarray]:\n",
    "        if absval:\n",
    "            y=abs(y)\n",
    "        if asint:\n",
    "            y=rint(y)\n",
    "        return y\n",
    "\n",
    "    def normal(self,\n",
    "               x : Union[float,int] = 0,\n",
    "               y : Union[float,int] = 0,\n",
    "               shape : Optional[tuple] = None,\n",
    "               absval : bool = False,\n",
    "               asint : bool = False) -> Union[int,float,np.ndarray]:\n",
    "        '''\n",
    "        Draw from a Gaussian distribution with mean `x` and standard deviation `y`.\n",
    "        If `shape` is not None, return a numpy array of draws.\n",
    "        '''\n",
    "        return self.typecast(y=self.rng.normal(loc=x,scale=y,size=shape),absval=absval,asint=asint)\n",
    "\n",
    "    def random(self,\n",
    "               x : Union[float,int] = 0,\n",
    "               y : Union[float,int] = 0,\n",
    "               shape : Optional[tuple] = None,\n",
    "               absval : bool = False,\n",
    "               asint : bool = False) -> Union[int,float,np.ndarray]:\n",
    "        '''\n",
    "        Draw from a uniform distribution in the interval [`x`,`y`].\n",
    "        If `shape` is not None, return a numpy array of draws.\n",
    "        '''\n",
    "        return self.typecast((y-x)*self.rng.random(size=shape),absval=absval,asint=asint)"
   ]
  },
  {
   "cell_type": "code",
   "execution_count": null,
   "id": "chronic-mission",
   "metadata": {},
   "outputs": [
    {
     "data": {
      "text/markdown": [
       "<h2 id=\"RNG\" class=\"doc_header\"><code>class</code> <code>RNG</code><a href=\"\" class=\"source_link\" style=\"float:right\">[source]</a></h2>\n",
       "\n",
       "> <code>RNG</code>(**`seed`**:`Optional`\\[`int`\\]=*`0`*)\n",
       "\n",
       "Globally stable random number generator. Initialized with fixed `seed`.\n",
       "Contains `normal` and `random` methods, each with an `absval` and `asint` argument,\n",
       "which convert to positive values and round to integers respectively.\n",
       "\n",
       "Example use:\n",
       "    rng=RNG(seed=0)\n",
       "    rng.normal(x=0,dx=1,shape=(2,2))\n",
       "    rng.random(a=0,b=5,shape=(2,2),asint=True,absval=True)"
      ],
      "text/plain": [
       "<IPython.core.display.Markdown object>"
      ]
     },
     "metadata": {},
     "output_type": "display_data"
    },
    {
     "name": "stdout",
     "output_type": "stream",
     "text": [
      "[[0.63696169 0.26978671]]\n",
      "100.64042265044328\n"
     ]
    }
   ],
   "source": [
    "show_doc(RNG)\n",
    "rng=RNG(seed=0)\n",
    "print(rng.random(x=0,y=1,shape=(1,2)))\n",
    "print(rng.normal(x=100,y=1,shape=None))"
   ]
  },
  {
   "cell_type": "code",
   "execution_count": null,
   "id": "biological-transcript",
   "metadata": {},
   "outputs": [],
   "source": [
    "#export\n",
    "def num2ar(x: Union[int,float],\n",
    "            bits : Optional[int] = None,\n",
    "            to : Union[int,float] = int) -> np.ndarray:\n",
    "    '''\n",
    "    Converts decimal number `x` to array `a` zero-padded with `bits`. \n",
    "    '''\n",
    "    bits=bits or nbits(x) #if None, give default\n",
    "    form='0'+str(bits)+'b'\n",
    "    binary=format(int(x),form)\n",
    "    with warnings.catch_warnings(): #ignore numpy deprecation warning\n",
    "        warnings.simplefilter(\"ignore\")\n",
    "        a=np.fromstring(binary,'u1')-ord('0')\n",
    "    return cast(a,to)"
   ]
  },
  {
   "cell_type": "code",
   "execution_count": null,
   "id": "strong-douglas",
   "metadata": {},
   "outputs": [
    {
     "data": {
      "text/markdown": [
       "<h4 id=\"num2ar\" class=\"doc_header\"><code>num2ar</code><a href=\"__main__.py#L2\" class=\"source_link\" style=\"float:right\">[source]</a></h4>\n",
       "\n",
       "> <code>num2ar</code>(**`x`**:`Union`\\[`int`, `float`\\], **`bits`**:`Optional`\\[`int`\\]=*`None`*, **`to`**:`Union`\\[`int`, `float`\\]=*`int`*)\n",
       "\n",
       "Converts decimal number `x` to array `a` zero-padded with `bits`. "
      ],
      "text/plain": [
       "<IPython.core.display.Markdown object>"
      ]
     },
     "metadata": {},
     "output_type": "display_data"
    },
    {
     "name": "stdout",
     "output_type": "stream",
     "text": [
      "i=0, num2ar(0)=[0]\n",
      "i=1, num2ar(1)=[1]\n",
      "i=2, num2ar(2)=[1 0]\n",
      "i=3, num2ar(3)=[1 1]\n",
      "i=4, num2ar(4)=[1 0 0]\n",
      "i=5, num2ar(5)=[1 0 1]\n",
      "i=6, num2ar(6)=[1 1 0]\n",
      "i=7, num2ar(7)=[1 1 1]\n",
      "i=8, num2ar(8)=[1 0 0 0]\n",
      "i=9, num2ar(9)=[1 0 0 1]\n",
      "i=10, num2ar(10)=[1 0 1 0]\n"
     ]
    }
   ],
   "source": [
    "show_doc(num2ar)\n",
    "for i in range(11):\n",
    "    print(f\"i={i}, num2ar({i})={num2ar(i)}\")"
   ]
  },
  {
   "cell_type": "code",
   "execution_count": null,
   "id": "continental-skirt",
   "metadata": {},
   "outputs": [
    {
     "data": {
      "text/plain": [
       "array([0., 1., 0., 1., 0.])"
      ]
     },
     "execution_count": null,
     "metadata": {},
     "output_type": "execute_result"
    }
   ],
   "source": [
    "num2ar(10,bits=5,to=float)"
   ]
  },
  {
   "cell_type": "code",
   "execution_count": null,
   "id": "polyphonic-argument",
   "metadata": {},
   "outputs": [],
   "source": [
    "#export\n",
    "def ar2num(a : Union[list,np.ndarray],\n",
    "            to : Union[int,float] = int):\n",
    "    '''\n",
    "    Converts array `a` to decimal number `x`.\n",
    "    '''\n",
    "    temp=str()\n",
    "    a=np.array(a).astype(int)\n",
    "    for c in a:\n",
    "        temp+=str(c)\n",
    "    x=int(temp,2)\n",
    "    return cast(x,to)"
   ]
  },
  {
   "cell_type": "code",
   "execution_count": null,
   "id": "military-starter",
   "metadata": {},
   "outputs": [
    {
     "data": {
      "text/markdown": [
       "<h4 id=\"ar2num\" class=\"doc_header\"><code>ar2num</code><a href=\"__main__.py#L2\" class=\"source_link\" style=\"float:right\">[source]</a></h4>\n",
       "\n",
       "> <code>ar2num</code>(**`a`**:`Union`\\[`list`, `ndarray`\\], **`to`**:`Union`\\[`int`, `float`\\]=*`int`*)\n",
       "\n",
       "Converts array `a` to decimal number `x`."
      ],
      "text/plain": [
       "<IPython.core.display.Markdown object>"
      ]
     },
     "metadata": {},
     "output_type": "display_data"
    },
    {
     "name": "stdout",
     "output_type": "stream",
     "text": [
      "a=[0], ar2num(a)=0\n",
      "a=[1], ar2num(a)=1\n",
      "a=[1 0], ar2num(a)=2\n",
      "a=[1 1], ar2num(a)=3\n"
     ]
    }
   ],
   "source": [
    "show_doc(ar2num)\n",
    "for i in range(4):\n",
    "    print(f\"a={num2ar(i)}, ar2num(a)={ar2num(num2ar(i))}\")"
   ]
  },
  {
   "cell_type": "code",
   "execution_count": null,
   "id": "documented-nightmare",
   "metadata": {},
   "outputs": [],
   "source": [
    "#export\n",
    "def ar2hex(a : Union[list,np.ndarray],\n",
    "            bits : Optional[int] = None,\n",
    "            prefix : bool = True) -> str:\n",
    "    '''\n",
    "    Converts binary array to hex string\n",
    "    in:\n",
    "        a (numpy array) : binary array to convert\n",
    "    out:\n",
    "        h (str) : hex conversion of a \n",
    "    '''\n",
    "    bits=bits or nbits(a)\n",
    "    form='0'+str(int(np.log2(bits)))+'x'\n",
    "    h=format(ar2num(a),form)\n",
    "    if prefix:\n",
    "        h='0x'+h\n",
    "    return h"
   ]
  },
  {
   "cell_type": "code",
   "execution_count": null,
   "id": "private-death",
   "metadata": {},
   "outputs": [
    {
     "data": {
      "text/markdown": [
       "<h4 id=\"ar2hex\" class=\"doc_header\"><code>ar2hex</code><a href=\"__main__.py#L2\" class=\"source_link\" style=\"float:right\">[source]</a></h4>\n",
       "\n",
       "> <code>ar2hex</code>(**`a`**:`Union`\\[`list`, `ndarray`\\], **`bits`**:`Optional`\\[`int`\\]=*`None`*, **`prefix`**:`bool`=*`True`*)\n",
       "\n",
       "Converts binary array to hex string\n",
       "in:\n",
       "    a (numpy array) : binary array to convert\n",
       "out:\n",
       "    h (str) : hex conversion of a "
      ],
      "text/plain": [
       "<IPython.core.display.Markdown object>"
      ]
     },
     "metadata": {},
     "output_type": "display_data"
    },
    {
     "data": {
      "text/plain": [
       "'0x0a'"
      ]
     },
     "execution_count": null,
     "metadata": {},
     "output_type": "execute_result"
    }
   ],
   "source": [
    "show_doc(ar2hex)\n",
    "ar2hex(num2ar(10))"
   ]
  },
  {
   "cell_type": "code",
   "execution_count": null,
   "id": "cleared-pride",
   "metadata": {},
   "outputs": [
    {
     "data": {
      "text/plain": [
       "'0a'"
      ]
     },
     "execution_count": null,
     "metadata": {},
     "output_type": "execute_result"
    }
   ],
   "source": [
    "ar2hex(num2ar(10),prefix=False)"
   ]
  },
  {
   "cell_type": "code",
   "execution_count": null,
   "id": "refined-batch",
   "metadata": {},
   "outputs": [],
   "source": [
    "#export\n",
    "def hex2ar(h : str,\n",
    "            bits : Optional[int] = None,\n",
    "            to : Union[int,float] = int) -> np.ndarray:\n",
    "    '''\n",
    "    Converts a hex string `h` into an array `a` padded with `bits` and elements of `astype`.\n",
    "    '''\n",
    "    x=int(h,16)\n",
    "    a=num2ar(x,bits,to)\n",
    "    return a"
   ]
  },
  {
   "cell_type": "code",
   "execution_count": null,
   "id": "inside-broadway",
   "metadata": {},
   "outputs": [
    {
     "data": {
      "text/markdown": [
       "<h4 id=\"hex2ar\" class=\"doc_header\"><code>hex2ar</code><a href=\"__main__.py#L2\" class=\"source_link\" style=\"float:right\">[source]</a></h4>\n",
       "\n",
       "> <code>hex2ar</code>(**`h`**:`str`, **`bits`**:`Optional`\\[`int`\\]=*`None`*, **`to`**:`Union`\\[`int`, `float`\\]=*`int`*)\n",
       "\n",
       "Converts a hex string `h` into an array `a` padded with `bits` and elements of `astype`."
      ],
      "text/plain": [
       "<IPython.core.display.Markdown object>"
      ]
     },
     "metadata": {},
     "output_type": "display_data"
    },
    {
     "data": {
      "text/plain": [
       "array([1, 0, 1, 0])"
      ]
     },
     "execution_count": null,
     "metadata": {},
     "output_type": "execute_result"
    }
   ],
   "source": [
    "show_doc(hex2ar)\n",
    "hex2ar('a')"
   ]
  },
  {
   "cell_type": "code",
   "execution_count": null,
   "id": "enhanced-imperial",
   "metadata": {},
   "outputs": [
    {
     "data": {
      "text/plain": [
       "array([1, 0, 1, 0])"
      ]
     },
     "execution_count": null,
     "metadata": {},
     "output_type": "execute_result"
    }
   ],
   "source": [
    "hex2ar('0xa')"
   ]
  },
  {
   "cell_type": "code",
   "execution_count": null,
   "id": "promising-basket",
   "metadata": {},
   "outputs": [],
   "source": [
    "#export\n",
    "def str2ar(s : str,\n",
    "            to : Union[list,np.ndarray] = np.ndarray) -> Union[list,np.ndarray]:\n",
    "    '''\n",
    "    Converts an input string `s` into an array or list `a` as per `astype`.\n",
    "    '''\n",
    "    a=cast([int(i) for i in s],to)\n",
    "    return a"
   ]
  },
  {
   "cell_type": "code",
   "execution_count": null,
   "id": "parliamentary-shelf",
   "metadata": {},
   "outputs": [
    {
     "data": {
      "text/markdown": [
       "<h4 id=\"str2ar\" class=\"doc_header\"><code>str2ar</code><a href=\"__main__.py#L2\" class=\"source_link\" style=\"float:right\">[source]</a></h4>\n",
       "\n",
       "> <code>str2ar</code>(**`s`**:`str`, **`to`**:`Union`\\[`list`, `ndarray`\\]=*`ndarray`*)\n",
       "\n",
       "Converts an input string `s` into an array or list `a` as per `astype`."
      ],
      "text/plain": [
       "<IPython.core.display.Markdown object>"
      ]
     },
     "metadata": {},
     "output_type": "display_data"
    },
    {
     "data": {
      "text/plain": [
       "array([1, 1, 1])"
      ]
     },
     "execution_count": null,
     "metadata": {},
     "output_type": "execute_result"
    }
   ],
   "source": [
    "show_doc(str2ar)\n",
    "str2ar('111')"
   ]
  },
  {
   "cell_type": "code",
   "execution_count": null,
   "id": "dried-bosnia",
   "metadata": {},
   "outputs": [],
   "source": [
    "#export\n",
    "def ar2str(a : Union[list,np.ndarray], to : data = None) -> str:\n",
    "    '''\n",
    "    Converts an input array `a` into a string `s`.\n",
    "    '''\n",
    "    s=''.join([str(cast(i,to)) for i in a])\n",
    "    return s"
   ]
  },
  {
   "cell_type": "code",
   "execution_count": null,
   "id": "affected-throw",
   "metadata": {},
   "outputs": [
    {
     "data": {
      "text/markdown": [
       "<h4 id=\"ar2str\" class=\"doc_header\"><code>ar2str</code><a href=\"__main__.py#L2\" class=\"source_link\" style=\"float:right\">[source]</a></h4>\n",
       "\n",
       "> <code>ar2str</code>(**`a`**:`Union`\\[`list`, `ndarray`\\], **`to`**:`Union`\\[`int`, `float`, `list`, `tuple`, `str`, `dict`, `set`, `ndarray`\\]=*`None`*)\n",
       "\n",
       "Converts an input array `a` into a string `s`."
      ],
      "text/plain": [
       "<IPython.core.display.Markdown object>"
      ]
     },
     "metadata": {},
     "output_type": "display_data"
    },
    {
     "data": {
      "text/plain": [
       "'111'"
      ]
     },
     "execution_count": null,
     "metadata": {},
     "output_type": "execute_result"
    }
   ],
   "source": [
    "show_doc(ar2str)\n",
    "ar2str([1.5,1.5,1.3],int)"
   ]
  },
  {
   "cell_type": "code",
   "execution_count": null,
   "id": "phantom-element",
   "metadata": {},
   "outputs": [],
   "source": [
    "#export\n",
    "def COPY(x : Union[int,float],\n",
    "         to : Union[int,float] = int) -> Union[int,float]:\n",
    "    '''\n",
    "    Simply returns `x`. \n",
    "    '''\n",
    "    return cast(x,to)\n",
    "\n",
    "def NOT(x : Union[int,float],\n",
    "        to : Union[int,float] = int) -> Union[int,float]:\n",
    "    '''\n",
    "    Return conjugate of `x`. \n",
    "    '''\n",
    "    return cast(1.-x,to)\n",
    "\n",
    "def AND(x : Union[int,float],\n",
    "        y : Union[int,float],\n",
    "        to : Union[int,float] = int) -> Union[int,float]:\n",
    "    '''\n",
    "    Return logical AND of `x` and `y`.\n",
    "    '''\n",
    "    return cast(x*y,to)\n",
    "\n",
    "def OR(x : Union[int,float],\n",
    "       y : Union[int,float],\n",
    "       to : Union[int,float] = int) -> Union[int,float]:\n",
    "    '''\n",
    "    Return logical OR of `x` and `y`. See DeMorgan's Laws.\n",
    "    '''\n",
    "    return cast(x+y-x*y,to)\n",
    "\n",
    "def Exclusive_OR(x : Union[int,float],\n",
    "                 y : Union[int,float],\n",
    "                 to : Union[int,float] = int) -> Union[int,float]:\n",
    "    '''\n",
    "    Return logical exclusive OR of `x` and `y`. See DeMorgan's Laws.\n",
    "    '''\n",
    "    return cast( OR( AND( x , NOT(y,to), to ) , AND ( NOT(x,to) , y, to), to ) , to)\n",
    "\n",
    "def XOR(*args : Union[int,float,list,np.ndarray],\n",
    "        to : Union[int,float] = int) -> Union[int,float]:\n",
    "    '''\n",
    "    Arbitrary input XOR using recursiveness.\n",
    "    '''\n",
    "    x=0.0\n",
    "    for a in args:\n",
    "        x=Exclusive_OR(x,a,to)\n",
    "    return cast(x,to)"
   ]
  },
  {
   "cell_type": "code",
   "execution_count": null,
   "id": "increased-reproduction",
   "metadata": {},
   "outputs": [
    {
     "data": {
      "text/markdown": [
       "<h4 id=\"NOT\" class=\"doc_header\"><code>NOT</code><a href=\"__main__.py#L9\" class=\"source_link\" style=\"float:right\">[source]</a></h4>\n",
       "\n",
       "> <code>NOT</code>(**`x`**:`Union`\\[`int`, `float`\\], **`to`**:`Union`\\[`int`, `float`\\]=*`int`*)\n",
       "\n",
       "Return conjugate of `x`. "
      ],
      "text/plain": [
       "<IPython.core.display.Markdown object>"
      ]
     },
     "metadata": {},
     "output_type": "display_data"
    },
    {
     "name": "stdout",
     "output_type": "stream",
     "text": [
      "0\n"
     ]
    },
    {
     "data": {
      "text/plain": [
       "0.75"
      ]
     },
     "execution_count": null,
     "metadata": {},
     "output_type": "execute_result"
    }
   ],
   "source": [
    "show_doc(NOT)\n",
    "print(NOT(1))\n",
    "NOT(0.25,to=float)"
   ]
  },
  {
   "cell_type": "code",
   "execution_count": null,
   "id": "focused-scene",
   "metadata": {},
   "outputs": [
    {
     "data": {
      "text/markdown": [
       "<h4 id=\"AND\" class=\"doc_header\"><code>AND</code><a href=\"__main__.py#L16\" class=\"source_link\" style=\"float:right\">[source]</a></h4>\n",
       "\n",
       "> <code>AND</code>(**`x`**:`Union`\\[`int`, `float`\\], **`y`**:`Union`\\[`int`, `float`\\], **`to`**:`Union`\\[`int`, `float`\\]=*`int`*)\n",
       "\n",
       "Return logical AND of `x` and `y`."
      ],
      "text/plain": [
       "<IPython.core.display.Markdown object>"
      ]
     },
     "metadata": {},
     "output_type": "display_data"
    },
    {
     "name": "stdout",
     "output_type": "stream",
     "text": [
      "1\n"
     ]
    },
    {
     "data": {
      "text/plain": [
       "0.5"
      ]
     },
     "execution_count": null,
     "metadata": {},
     "output_type": "execute_result"
    }
   ],
   "source": [
    "show_doc(AND)\n",
    "print(AND(1,1))\n",
    "AND(1,0.5,to=float)"
   ]
  },
  {
   "cell_type": "code",
   "execution_count": null,
   "id": "velvet-retro",
   "metadata": {},
   "outputs": [
    {
     "name": "stdout",
     "output_type": "stream",
     "text": [
      "AND(0, 0)=0\n",
      "OR(0, 0)=0\n",
      "XOR(0, 0)=0\n",
      "AND(0, 1)=0\n",
      "OR(0, 1)=1\n",
      "XOR(0, 1)=1\n",
      "AND(1, 0)=0\n",
      "OR(1, 0)=1\n",
      "XOR(1, 0)=1\n",
      "AND(1, 1)=1\n",
      "OR(1, 1)=1\n",
      "XOR(1, 1)=0\n"
     ]
    }
   ],
   "source": [
    "for x,y in np.ndindex((2,2)):\n",
    "    for z in [AND,OR,XOR]:\n",
    "        print(f\"{z.__name__}{x,y}={z(x,y)}\")"
   ]
  },
  {
   "cell_type": "code",
   "execution_count": null,
   "id": "bizarre-association",
   "metadata": {},
   "outputs": [
    {
     "data": {
      "text/markdown": [
       "<h4 id=\"XOR\" class=\"doc_header\"><code>XOR</code><a href=\"__main__.py#L40\" class=\"source_link\" style=\"float:right\">[source]</a></h4>\n",
       "\n",
       "> <code>XOR</code>(**\\*`args`**:`Union`\\[`int`, `float`, `list`, `ndarray`\\], **`to`**:`Union`\\[`int`, `float`\\]=*`int`*)\n",
       "\n",
       "Arbitrary input XOR using recursiveness."
      ],
      "text/plain": [
       "<IPython.core.display.Markdown object>"
      ]
     },
     "metadata": {},
     "output_type": "display_data"
    },
    {
     "data": {
      "text/plain": [
       "1"
      ]
     },
     "execution_count": null,
     "metadata": {},
     "output_type": "execute_result"
    }
   ],
   "source": [
    "show_doc(XOR)\n",
    "XOR(1,1,1)"
   ]
  },
  {
   "cell_type": "code",
   "execution_count": null,
   "id": "talented-pattern",
   "metadata": {},
   "outputs": [
    {
     "data": {
      "text/plain": [
       "0.40709488639999997"
      ]
     },
     "execution_count": null,
     "metadata": {},
     "output_type": "execute_result"
    }
   ],
   "source": [
    "XOR(0.8,0.1,0.6,to=float)"
   ]
  },
  {
   "cell_type": "code",
   "execution_count": null,
   "id": "presidential-purse",
   "metadata": {},
   "outputs": [],
   "source": [
    "#export\n",
    "def ar2gr(binary : Union[list,np.ndarray],\n",
    "             to : Union[list,np.ndarray] = np.ndarray) -> Union[list,np.ndarray]:\n",
    "    '''\n",
    "    Converts an input binary array to graycode.\n",
    "    '''\n",
    "    binary = cast(binary,int)\n",
    "    gray = []\n",
    "    gray += [binary[0]]\n",
    "    for i in range(1,len(binary)):\n",
    "        gray += [XOR(binary[i - 1], binary[i])]\n",
    "    return cast(cast(gray,int),to)"
   ]
  },
  {
   "cell_type": "code",
   "execution_count": null,
   "id": "wrong-responsibility",
   "metadata": {},
   "outputs": [
    {
     "data": {
      "text/markdown": [
       "<h4 id=\"ar2gr\" class=\"doc_header\"><code>ar2gr</code><a href=\"__main__.py#L2\" class=\"source_link\" style=\"float:right\">[source]</a></h4>\n",
       "\n",
       "> <code>ar2gr</code>(**`binary`**:`Union`\\[`list`, `ndarray`\\], **`to`**:`Union`\\[`list`, `ndarray`\\]=*`ndarray`*)\n",
       "\n",
       "Converts an input binary array to graycode."
      ],
      "text/plain": [
       "<IPython.core.display.Markdown object>"
      ]
     },
     "metadata": {},
     "output_type": "display_data"
    },
    {
     "data": {
      "text/plain": [
       "array([1, 1, 1, 1])"
      ]
     },
     "execution_count": null,
     "metadata": {},
     "output_type": "execute_result"
    }
   ],
   "source": [
    "show_doc(ar2gr)\n",
    "ar2gr(num2ar(10))"
   ]
  },
  {
   "cell_type": "code",
   "execution_count": null,
   "id": "abandoned-british",
   "metadata": {},
   "outputs": [],
   "source": [
    "#export\n",
    "def gr2ar(gray : Union[list,np.ndarray],\n",
    "             to : Union[list,np.ndarray] = np.ndarray) -> Union[list,np.ndarray]:\n",
    "    '''\n",
    "    Converts a gray-code array into binary.\n",
    "    '''\n",
    "    binary = []\n",
    "    binary += [gray[0]]\n",
    "    for i in range(1, len(gray)):\n",
    "        if (gray[i] == 0):\n",
    "            binary += [binary[i - 1]]\n",
    "        else:\n",
    "            binary += [NOT(binary[i - 1])]\n",
    "    return cast(cast(binary,int),to)\n"
   ]
  },
  {
   "cell_type": "code",
   "execution_count": null,
   "id": "antique-stevens",
   "metadata": {},
   "outputs": [
    {
     "data": {
      "text/markdown": [
       "<h4 id=\"gr2ar\" class=\"doc_header\"><code>gr2ar</code><a href=\"__main__.py#L2\" class=\"source_link\" style=\"float:right\">[source]</a></h4>\n",
       "\n",
       "> <code>gr2ar</code>(**`gray`**:`Union`\\[`list`, `ndarray`\\], **`to`**:`Union`\\[`list`, `ndarray`\\]=*`ndarray`*)\n",
       "\n",
       "Converts a gray-code array into binary."
      ],
      "text/plain": [
       "<IPython.core.display.Markdown object>"
      ]
     },
     "metadata": {},
     "output_type": "display_data"
    },
    {
     "data": {
      "text/plain": [
       "array([1, 0, 1, 0])"
      ]
     },
     "execution_count": null,
     "metadata": {},
     "output_type": "execute_result"
    }
   ],
   "source": [
    "show_doc(gr2ar)\n",
    "gr2ar(ar2gr(num2ar(10)))"
   ]
  },
  {
   "cell_type": "code",
   "execution_count": null,
   "id": "assumed-christian",
   "metadata": {},
   "outputs": [],
   "source": [
    "#export\n",
    "def num2gr(x:int,to:data=None):\n",
    "    '''\n",
    "    Converts decimal number `x` to equivalent gray-code number.\n",
    "    '''\n",
    "    return int(ar2str(ar2gr(num2ar(x))),2)"
   ]
  },
  {
   "cell_type": "code",
   "execution_count": null,
   "id": "distant-clone",
   "metadata": {},
   "outputs": [
    {
     "data": {
      "text/markdown": [
       "<h4 id=\"num2gr\" class=\"doc_header\"><code>num2gr</code><a href=\"__main__.py#L2\" class=\"source_link\" style=\"float:right\">[source]</a></h4>\n",
       "\n",
       "> <code>num2gr</code>(**`x`**:`int`, **`to`**:`Union`\\[`int`, `float`, `list`, `tuple`, `str`, `dict`, `set`, `ndarray`\\]=*`None`*)\n",
       "\n",
       "Converts decimal number `x` to equivalent gray-code number."
      ],
      "text/plain": [
       "<IPython.core.display.Markdown object>"
      ]
     },
     "metadata": {},
     "output_type": "display_data"
    },
    {
     "name": "stdout",
     "output_type": "stream",
     "text": [
      "i=0, num2gr(i)=0\n",
      "i=1, num2gr(i)=1\n",
      "i=2, num2gr(i)=3\n",
      "i=3, num2gr(i)=2\n",
      "i=4, num2gr(i)=6\n",
      "i=5, num2gr(i)=7\n",
      "i=6, num2gr(i)=5\n",
      "i=7, num2gr(i)=4\n",
      "i=8, num2gr(i)=12\n",
      "i=9, num2gr(i)=13\n",
      "i=10, num2gr(i)=15\n"
     ]
    }
   ],
   "source": [
    "show_doc(num2gr)\n",
    "for i in range(11):\n",
    "    print(f\"i={i}, num2gr(i)={num2gr(i)}\")"
   ]
  },
  {
   "cell_type": "code",
   "execution_count": null,
   "id": "emerging-berry",
   "metadata": {},
   "outputs": [],
   "source": [
    "#export            \n",
    "def convert(obj : Union[int,float,list,hex,str,np.ndarray],\n",
    "            to : Union[int,float,list,hex,str,np.ndarray] = np.ndarray,\n",
    "            bits : Optional[int] = None,\n",
    "            astype : Union[int,float,list,np.ndarray] = int,\n",
    "            gray : bool = False):\n",
    "    '''\n",
    "    Converts an input `obj` into an output of type `to`, padding with `bits`.\n",
    "    Internally converts `obj` to np.ndarray with elements of dtype `astype`,\n",
    "    before converting to the desired dtype `to`. If `gray`, first converts this\n",
    "    binary array to gray-code. If input or output are `hex`, requires prefix of `0x`.\n",
    "    \n",
    "    Possible conversions:\n",
    "        int -> float\n",
    "        int -> str\n",
    "        int -> list \n",
    "        int -> array\n",
    "        int -> hex\n",
    "        \n",
    "        str -> int\n",
    "        str -> float\n",
    "        str -> list\n",
    "        str -> array\n",
    "        str -> hex\n",
    "        \n",
    "        list -> arr\n",
    "        list -> int\n",
    "        list -> float\n",
    "        list -> str\n",
    "        list -> hex\n",
    "        \n",
    "        arr -> list\n",
    "        arr -> int\n",
    "        arr -> float\n",
    "        arr -> str\n",
    "        arr -> hex\n",
    "        \n",
    "        hex -> int\n",
    "        hex -> float\n",
    "        hex -> arr\n",
    "        hex -> list\n",
    "        hex -> str\n",
    "        \n",
    "    '''\n",
    "    \n",
    "    t=type(obj)\n",
    "    #first convert to binary numpy array\n",
    "    if (t is np.ndarray) or (t is list):\n",
    "        x=obj\n",
    "    elif (t is int) or (t is float):\n",
    "        x=num2ar(obj,bits,astype)\n",
    "    else:# t is str\n",
    "        if obj[:2]=='0x': #obj is hex\n",
    "            x=hex2ar(obj[2:],bits,astype) \n",
    "        else:\n",
    "            x=str2ar(obj)\n",
    "    x=cast(pad(x,bits),astype)\n",
    "    g=cast(ar2gr(x),astype)\n",
    "    #convert\n",
    "    if (to is np.ndarray):\n",
    "        if gray:\n",
    "            return g\n",
    "        else:\n",
    "            return x\n",
    "    elif (to is list) or (to is set):\n",
    "        if gray:\n",
    "            return to(g)\n",
    "        else:\n",
    "            return to(x)\n",
    "    elif (to is int) or (to is float) or (to is hex):\n",
    "        if gray:\n",
    "            return to(ar2num(g))\n",
    "        else:\n",
    "            return to(ar2num(x))\n",
    "    else:# to is str\n",
    "        if gray:\n",
    "            return ar2str(g)\n",
    "        else:\n",
    "            return ar2str(x)"
   ]
  },
  {
   "cell_type": "code",
   "execution_count": null,
   "id": "posted-productivity",
   "metadata": {},
   "outputs": [
    {
     "data": {
      "text/markdown": [
       "<h4 id=\"convert\" class=\"doc_header\"><code>convert</code><a href=\"__main__.py#L2\" class=\"source_link\" style=\"float:right\">[source]</a></h4>\n",
       "\n",
       "> <code>convert</code>(**`obj`**:`Union`\\[`int`, `float`, `list`, `hex`, `str`, `ndarray`\\], **`to`**:`Union`\\[`int`, `float`, `list`, `hex`, `str`, `ndarray`\\]=*`ndarray`*, **`bits`**:`Optional`\\[`int`\\]=*`None`*, **`astype`**:`Union`\\[`int`, `float`, `list`, `ndarray`\\]=*`int`*, **`gray`**:`bool`=*`False`*)\n",
       "\n",
       "Converts an input `obj` into an output of type `to`, padding with `bits`.\n",
       "Internally converts `obj` to np.ndarray with elements of dtype `astype`,\n",
       "before converting to the desired dtype `to`. If `gray`, first converts this\n",
       "binary array to gray-code. If input or output are `hex`, requires prefix of `0x`.\n",
       "\n",
       "Possible conversions:\n",
       "    int -> float\n",
       "    int -> str\n",
       "    int -> list \n",
       "    int -> array\n",
       "    int -> hex\n",
       "    \n",
       "    str -> int\n",
       "    str -> float\n",
       "    str -> list\n",
       "    str -> array\n",
       "    str -> hex\n",
       "    \n",
       "    list -> arr\n",
       "    list -> int\n",
       "    list -> float\n",
       "    list -> str\n",
       "    list -> hex\n",
       "    \n",
       "    arr -> list\n",
       "    arr -> int\n",
       "    arr -> float\n",
       "    arr -> str\n",
       "    arr -> hex\n",
       "    \n",
       "    hex -> int\n",
       "    hex -> float\n",
       "    hex -> arr\n",
       "    hex -> list\n",
       "    hex -> str\n",
       "    "
      ],
      "text/plain": [
       "<IPython.core.display.Markdown object>"
      ]
     },
     "metadata": {},
     "output_type": "display_data"
    }
   ],
   "source": [
    "show_doc(convert)"
   ]
  },
  {
   "cell_type": "code",
   "execution_count": null,
   "id": "expensive-deviation",
   "metadata": {},
   "outputs": [
    {
     "name": "stdout",
     "output_type": "stream",
     "text": [
      "From int to int: convert(10,int)=10\n",
      "From int to float: convert(10,float)=10.0\n",
      "From int to list: convert(10,list)=[1, 0, 1, 0]\n",
      "From int to str: convert(10,str)=1010\n",
      "From int to hex: convert(10,hex)=0xa\n",
      "From float to int: convert(10.0,int)=10\n",
      "From float to float: convert(10.0,float)=10.0\n",
      "From float to list: convert(10.0,list)=[1, 0, 1, 0]\n",
      "From float to str: convert(10.0,str)=1010\n",
      "From float to hex: convert(10.0,hex)=0xa\n",
      "From str to int: convert(10,int)=2\n",
      "From str to float: convert(10,float)=2.0\n",
      "From str to list: convert(10,list)=[1, 0]\n",
      "From str to str: convert(10,str)=10\n",
      "From str to hex: convert(10,hex)=0x2\n",
      "From str to int: convert(0xa,int)=10\n",
      "From str to float: convert(0xa,float)=10.0\n",
      "From str to list: convert(0xa,list)=[1, 0, 1, 0]\n",
      "From str to str: convert(0xa,str)=1010\n",
      "From str to hex: convert(0xa,hex)=0xa\n"
     ]
    }
   ],
   "source": [
    "for i in [10,10.0,'10','0xa']:\n",
    "    t_in=str(type(i)).split('<')[-1].split('>')[0].split('class')[-1].split('\\'')[1]\n",
    "    for j in [int,float,list,str,hex]:#,set,dict]:\n",
    "        t_out='hex' if j==hex else str(j).split('<')[-1].split('>')[0].split('class')[-1].split('\\'')[1]\n",
    "        print(f'From {t_in} to {t_out}: convert({i},{t_out})={convert(i,j)}')"
   ]
  },
  {
   "cell_type": "code",
   "execution_count": null,
   "id": "graduate-blackberry",
   "metadata": {},
   "outputs": [
    {
     "name": "stdout",
     "output_type": "stream",
     "text": [
      "Gray Code: From int to int: convert(10,int)=15\n",
      "Gray Code: From int to float: convert(10,float)=15.0\n",
      "Gray Code: From int to list: convert(10,list)=[1, 1, 1, 1]\n",
      "Gray Code: From int to str: convert(10,str)=1111\n",
      "Gray Code: From int to hex: convert(10,hex)=0xf\n",
      "Gray Code: From float to int: convert(10.0,int)=15\n",
      "Gray Code: From float to float: convert(10.0,float)=15.0\n",
      "Gray Code: From float to list: convert(10.0,list)=[1, 1, 1, 1]\n",
      "Gray Code: From float to str: convert(10.0,str)=1111\n",
      "Gray Code: From float to hex: convert(10.0,hex)=0xf\n",
      "Gray Code: From str to int: convert(10,int)=3\n",
      "Gray Code: From str to float: convert(10,float)=3.0\n",
      "Gray Code: From str to list: convert(10,list)=[1, 1]\n",
      "Gray Code: From str to str: convert(10,str)=11\n",
      "Gray Code: From str to hex: convert(10,hex)=0x3\n",
      "Gray Code: From str to int: convert(0xa,int)=15\n",
      "Gray Code: From str to float: convert(0xa,float)=15.0\n",
      "Gray Code: From str to list: convert(0xa,list)=[1, 1, 1, 1]\n",
      "Gray Code: From str to str: convert(0xa,str)=1111\n",
      "Gray Code: From str to hex: convert(0xa,hex)=0xf\n"
     ]
    }
   ],
   "source": [
    "for i in [10,10.0,'10','0xa']:#,{0,10},{0:10,'a':11}]:\n",
    "    t_in=str(type(i)).split('<')[-1].split('>')[0].split('class')[-1].split('\\'')[1]\n",
    "    for j in [int,float,list,str,hex]:#,set,dict]:\n",
    "        t_out='hex' if j==hex else str(j).split('<')[-1].split('>')[0].split('class')[-1].split('\\'')[1]\n",
    "        print(f'Gray Code: From {t_in} to {t_out}: convert({i},{t_out})={convert(i,j,gray=True)}')"
   ]
  },
  {
   "cell_type": "code",
   "execution_count": null,
   "id": "consecutive-enough",
   "metadata": {},
   "outputs": [
    {
     "name": "stdout",
     "output_type": "stream",
     "text": [
      "Converted 00_utils.ipynb.\n",
      "Converted 01_conversion.ipynb.\n",
      "Converted 02_recursion.ipynb.\n",
      "Converted 03_templates.ipynb.\n",
      "Converted index.ipynb.\n"
     ]
    }
   ],
   "source": [
    "#hide\n",
    "notebook2script()"
   ]
  }
 ],
 "metadata": {
  "kernelspec": {
   "display_name": "Python 3",
   "language": "python",
   "name": "python3"
  }
 },
 "nbformat": 4,
 "nbformat_minor": 5
}
