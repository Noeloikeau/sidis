{
 "cells": [
  {
   "cell_type": "code",
   "execution_count": null,
   "id": "demonstrated-guitar",
   "metadata": {},
   "outputs": [],
   "source": [
    "# default_exp templates"
   ]
  },
  {
   "cell_type": "markdown",
   "id": "developmental-transition",
   "metadata": {},
   "source": [
    "# templates\n",
    "\n",
    "> This module defines `Templates` for embedding arbitrary iterable and replaceable expressions into blocks of text, allowing for metaprogramming and automation of tasks in other languages through python, or simply filling out forms."
   ]
  },
  {
   "cell_type": "code",
   "execution_count": null,
   "id": "responsible-compromise",
   "metadata": {},
   "outputs": [],
   "source": [
    "#hide\n",
    "from nbdev import *\n",
    "from nbdev.imports import *\n",
    "from nbdev.export import *\n",
    "from nbdev.sync import *\n",
    "from nbdev.showdoc import *"
   ]
  },
  {
   "cell_type": "code",
   "execution_count": null,
   "id": "valuable-survey",
   "metadata": {},
   "outputs": [],
   "source": [
    "#hide\n",
    "%load_ext autoreload\n",
    "%autoreload 2"
   ]
  },
  {
   "cell_type": "code",
   "execution_count": null,
   "id": "rising-sport",
   "metadata": {},
   "outputs": [],
   "source": [
    "#export\n",
    "import warnings\n",
    "with warnings.catch_warnings(): #ignore warnings\n",
    "    warnings.simplefilter(\"ignore\")\n",
    "    from typing import Optional, Tuple, Dict, Callable, Union, Mapping, Sequence, Iterable\n",
    "    import numpy as np\n",
    "    from sidis.conversion import cast\n",
    "    from sidis.recursion import get"
   ]
  },
  {
   "cell_type": "code",
   "execution_count": null,
   "id": "driving-guidance",
   "metadata": {},
   "outputs": [],
   "source": [
    "#export\n",
    "def replace(l,**kwargs):\n",
    "    'Replace the line `l` in `txt` with any occurances of the dictionaried values. '\n",
    "    for k,v in kwargs.items():\n",
    "        l=l.replace(k,str(v))\n",
    "    return l\n",
    "\n",
    "def txt2lst(txt):\n",
    "    'Remove all newlines `\\n` and empty strings `''` from the template `txt`.'\n",
    "    return [t for t in txt.split('\\n') if t!='']\n",
    "\n",
    "def lst2txt(ltxt):\n",
    "    'Concatenate a list of text `ltxt` into a string separated by newlines.'\n",
    "    return '\\n'.join(ltxt)\n",
    "\n",
    "def ZIP(txt,_iter,*lambdas,as_txt=False):\n",
    "    '''Loop over the iterable `_iter` and format `txt` in order of the `lambdas`.\n",
    "    If `_iter` is an int, it is treated as `range(_iter)`, and if it is a tuple, \n",
    "    it is treated as `np.ndindex(_iter)`.\n",
    "    '''\n",
    "    _iter=cast(_iter,list)\n",
    "    try:\n",
    "        l=[str(txt).format( *[l(*i) for l in lambdas] ) for i in _iter]\n",
    "    except:\n",
    "        l=[str(txt).format( *[l(i) for l in lambdas] ) for i in _iter]\n",
    "    if as_txt is True:\n",
    "        l=lst2txt(l)\n",
    "    return l\n",
    "\n",
    "def getEvals(replaced_txt,funcs=['ZIP']):\n",
    "    '''Obtain a tuple of containing the `funcs`, the text they format, their arguments, \n",
    "    and their line index in the template `txt`.\n",
    "    '''\n",
    "    y=[]\n",
    "    for i,o in enumerate(replaced_txt):\n",
    "        for f in funcs:\n",
    "            if len(o.split(f))>1:\n",
    "                #function, (txt to be formatted, func args), position in file\n",
    "                y+=[(f,o.split(f),i)]\n",
    "    return y\n",
    "\n",
    "def filltxt(txt,funcs=['ZIP'],**kwargs):\n",
    "    '''Take a template `txt`, replace all `kwargs` via `Replace`, then evaluate the `funcs` \n",
    "       on the surrounding text using `GetEvals`.'''\n",
    "    txt=txt2lst(txt)\n",
    "    for i,l in enumerate(txt):\n",
    "        txt[i]=replace(l,**kwargs)\n",
    "    y=getEvals(txt,funcs)\n",
    "    e=list(map(lambda s: eval(s[0]+'('+'{0:s[1][0]}[0]'+','+s[1][1]+')' ),y)) #evaluate the function \n",
    "    u=[(i,e) for i,e in zip([y[i][-1] for i in range(len(y))],[e[i] for i in range(len(y))])] #position/evals\n",
    "    t=[] #new txt\n",
    "    for i in range(len(txt)):\n",
    "        t+=[txt[i]]\n",
    "        for j,e in u: #remove old lines\n",
    "            if i==j:\n",
    "                t.remove(txt[i])\n",
    "                for q in e:\n",
    "                    t+=[q]\n",
    "    return t\n",
    "\n",
    "        \n",
    "class Template:\n",
    "    '''\n",
    "    Automates iteration over arbitrary Python functions embedded into blocks of text.\n",
    "    \n",
    "    Class attrs:\n",
    "        \n",
    "        funcs=[`ZIP`] (list of callable) : the keyword function to map over the text it's embedded in\n",
    "        \n",
    "        filler=`fill` (callable) : method of filling the text\n",
    "        \n",
    "    \n",
    "    Inputs:\n",
    "    \n",
    "        `temp` (str): input string to be filled, or file name to be loaded\n",
    "        \n",
    "        `kwargs` (dict): characters to be replaced and evaluated\n",
    "        \n",
    "        \n",
    "    Attrs:\n",
    "    \n",
    "        `plate` (list): line-by-line filling of `temp` based on `kwargs`\n",
    "        \n",
    "        `temp` (str): saved version of `temp` separated by newlines\n",
    "        \n",
    "        \n",
    "    Methods:\n",
    "    \n",
    "        `load`: loads `fname` and fills based on `kwargs`.\n",
    "        \n",
    "        `out`: write/append `txt`, which defaults to filled data `str`, to `fname`.\n",
    "        \n",
    "        `fill`: fills the template by replacing `kwargs` and evaluating `funcs`.\n",
    "        \n",
    "    '''\n",
    "    funcs=['ZIP']\n",
    "    filler=filltxt\n",
    "    def __init__(self,temp,**kwargs):\n",
    "        self.__dict__.update({k:v for k,v in kwargs.items() if k!='self' and k!='kwargs'})\n",
    "        self.temp=temp\n",
    "        try:\n",
    "            self.load(temp,**kwargs)\n",
    "            print(f'Loaded {temp}.')\n",
    "        except:\n",
    "            self.temp=temp\n",
    "            self.fill(**kwargs)\n",
    "\n",
    "    def fill(self,temp=None,append=False,**kwargs):\n",
    "        if not append:\n",
    "            if temp is not None:\n",
    "                self.temp=temp\n",
    "            if kwargs!={}:\n",
    "                self.plate=Template.filler(self.temp,Template.funcs,**kwargs)\n",
    "                self.__dict__.update(kwargs)\n",
    "        else:\n",
    "            if (temp is not None) and (temp!=self.temp):\n",
    "                self.temp+='\\n'+temp\n",
    "            if kwargs!={}:\n",
    "                self.plate+=Template.filler(temp,Template.funcs,**kwargs)\n",
    "                self.__dict__.update(kwargs)\n",
    "            \n",
    "    def txt(self):\n",
    "        return lst2txt(self.plate)\n",
    "            \n",
    "    def load(self,fname,**kwargs):\n",
    "        with open(fname,'r') as f:\n",
    "            self.temp=f.read()\n",
    "        self.fill(**kwargs)\n",
    "            \n",
    "    def out(self,fname,txt=None,s='a'):\n",
    "        if txt is None:\n",
    "            txt=self.txt()\n",
    "        with open(fname,s) as f:\n",
    "            f.write(txt)\n",
    "        \n",
    "    def __repr__(self):\n",
    "        try:\n",
    "            return self.txt()\n",
    "        except:\n",
    "            return self.temp       "
   ]
  },
  {
   "cell_type": "code",
   "execution_count": null,
   "id": "speaking-sister",
   "metadata": {},
   "outputs": [
    {
     "data": {
      "text/markdown": [
       "<h2 id=\"Template\" class=\"doc_header\"><code>class</code> <code>Template</code><a href=\"\" class=\"source_link\" style=\"float:right\">[source]</a></h2>\n",
       "\n",
       "> <code>Template</code>(**`temp`**, **\\*\\*`kwargs`**)\n",
       "\n",
       "Automates iteration over arbitrary Python functions embedded into blocks of text.\n",
       "\n",
       "Class attrs:\n",
       "    \n",
       "    funcs=[[`ZIP`](/sidis/templates.html#ZIP)] (list of callable) : the keyword function to map over the text it's embedded in\n",
       "    \n",
       "    filler=[`fill`](/sidis/conversion.html#fill) (callable) : method of filling the text\n",
       "    \n",
       "\n",
       "Inputs:\n",
       "\n",
       "    `temp` (str): input string to be filled, or file name to be loaded\n",
       "    \n",
       "    `kwargs` (dict): characters to be replaced and evaluated\n",
       "    \n",
       "    \n",
       "Attrs:\n",
       "\n",
       "    `plate` (list): line-by-line filling of `temp` based on `kwargs`\n",
       "    \n",
       "    `temp` (str): saved version of `temp` separated by newlines\n",
       "    \n",
       "    \n",
       "Methods:\n",
       "\n",
       "    [`load`](/sidis/utils.html#load): loads `fname` and fills based on `kwargs`.\n",
       "    \n",
       "    `out`: write/append `txt`, which defaults to filled data `str`, to `fname`.\n",
       "    \n",
       "    [`fill`](/sidis/conversion.html#fill): fills the template by replacing `kwargs` and evaluating `funcs`.\n",
       "    "
      ],
      "text/plain": [
       "<IPython.core.display.Markdown object>"
      ]
     },
     "metadata": {},
     "output_type": "display_data"
    }
   ],
   "source": [
    "show_doc(Template)"
   ]
  },
  {
   "cell_type": "code",
   "execution_count": null,
   "id": "affiliated-finding",
   "metadata": {},
   "outputs": [],
   "source": [
    "t=Template('''These characters get replaced: _variable, _function\n",
    "\n",
    "This line is then formatted: {0} ZIP _variable , _function\n",
    "\n",
    "And this one is iterated: {0} ZIP _iter , _function''')"
   ]
  },
  {
   "cell_type": "code",
   "execution_count": null,
   "id": "ongoing-stage",
   "metadata": {},
   "outputs": [
    {
     "data": {
      "text/plain": [
       "These characters get replaced: 2, lambda i:i*10\n",
       "This line is then formatted: 20 \n",
       "And this one is iterated: 0 \n",
       "And this one is iterated: 10 "
      ]
     },
     "execution_count": null,
     "metadata": {},
     "output_type": "execute_result"
    }
   ],
   "source": [
    "t.fill(_variable=2,_function=\"lambda i:i*10\",_iter=range(2))\n",
    "t"
   ]
  },
  {
   "cell_type": "markdown",
   "id": "inner-allah",
   "metadata": {},
   "source": [
    "What happened? When calling `t.fill`, `_variable` was replaced with `2` everywhere it appeared in the template, similarly with `_function`. This includes after the custom function `ZIP`, where they appear as arguments. \n",
    "\n",
    "After this substitution, `ZIP` formatted the text preceding it (`{0}`) with the result of `_function(_variable)`, i.e, `format(\"{0}\",(lambda i:i*10)(2))`. \n",
    "\n",
    "In the next line, `ZIP` repeatedly formatted the text preceding it (`{0}`) with the result of `_function(_iter)`, i.e, `'\\n'.join([format(\"{0}\",(lambda i:i*10)(j)) for j in range(2)])`. \n",
    "\n",
    "Before we go into more detail on these functions, let's examine the template object:"
   ]
  },
  {
   "cell_type": "code",
   "execution_count": null,
   "id": "bridal-melissa",
   "metadata": {},
   "outputs": [
    {
     "data": {
      "text/plain": [
       "{'temp': 'These characters get replaced: _variable, _function\\n\\nThis line is then formatted: {0} ZIP _variable , _function\\n\\nAnd this one is iterated: {0} ZIP _iter , _function',\n",
       " 'plate': ['These characters get replaced: 2, lambda i:i*10',\n",
       "  'This line is then formatted: 20 ',\n",
       "  'And this one is iterated: 0 ',\n",
       "  'And this one is iterated: 10 '],\n",
       " '_variable': 2,\n",
       " '_function': 'lambda i:i*10',\n",
       " '_iter': range(0, 2)}"
      ]
     },
     "execution_count": null,
     "metadata": {},
     "output_type": "execute_result"
    }
   ],
   "source": [
    "t.__dict__"
   ]
  },
  {
   "cell_type": "markdown",
   "id": "spatial-equilibrium",
   "metadata": {},
   "source": [
    "The `temp` attribute stores the un-formatted text handed to `Template`. The `plate` attribute stores the formatted lines as a list of strings. The object also stores any kwargs as attrs. Finally, `text()` attribute concatenates the formatted text into a string separated by newlines, and is used as the `__repr__`. "
   ]
  },
  {
   "cell_type": "markdown",
   "id": "informal-certificate",
   "metadata": {},
   "source": [
    "Let's see how `ZIP` works:"
   ]
  },
  {
   "cell_type": "code",
   "execution_count": null,
   "id": "naval-finland",
   "metadata": {},
   "outputs": [
    {
     "data": {
      "text/markdown": [
       "<h4 id=\"ZIP\" class=\"doc_header\"><code>ZIP</code><a href=\"__main__.py#L16\" class=\"source_link\" style=\"float:right\">[source]</a></h4>\n",
       "\n",
       "> <code>ZIP</code>(**`txt`**, **`_iter`**, **\\*`lambdas`**, **`as_txt`**=*`False`*)\n",
       "\n",
       "Loop over the iterable `_iter` and format `txt` in order of the `lambdas`.\n",
       "If `_iter` is an int, it is treated as `range(_iter)`, and if it is a tuple, \n",
       "it is treated as `np.ndindex(_iter)`."
      ],
      "text/plain": [
       "<IPython.core.display.Markdown object>"
      ]
     },
     "metadata": {},
     "output_type": "display_data"
    }
   ],
   "source": [
    "show_doc(ZIP)"
   ]
  },
  {
   "cell_type": "code",
   "execution_count": null,
   "id": "appointed-clinton",
   "metadata": {},
   "outputs": [
    {
     "data": {
      "text/plain": [
       "['0', '1', '2', '3', '4', '5', '6', '7', '8', '9']"
      ]
     },
     "execution_count": null,
     "metadata": {},
     "output_type": "execute_result"
    }
   ],
   "source": [
    "ZIP('{0}',range(10),lambda i:i)"
   ]
  },
  {
   "cell_type": "markdown",
   "id": "vulnerable-threshold",
   "metadata": {},
   "source": [
    "When embedded in the `Template`, `ZIP` treats the text proceeding it as an iterable or a single-substitution, and any text after the `,` as a list of functions. These functions take the iterable as an argument, and format the text preceding `ZIP` with their evaluation on the iterable. They do not need to be lambdas - any callable will do. This makes embedding `ZIP` into other text documents a useful way to modularize the formatting of text, and automate code blocks in other languages which lack Python flexibility. "
   ]
  },
  {
   "cell_type": "markdown",
   "id": "leading-detroit",
   "metadata": {},
   "source": [
    "Other helper functions enabling this process are as follows:"
   ]
  },
  {
   "cell_type": "code",
   "execution_count": null,
   "id": "happy-professor",
   "metadata": {},
   "outputs": [
    {
     "data": {
      "text/markdown": [
       "<h4 id=\"replace\" class=\"doc_header\"><code>replace</code><a href=\"__main__.py#L2\" class=\"source_link\" style=\"float:right\">[source]</a></h4>\n",
       "\n",
       "> <code>replace</code>(**`l`**, **\\*\\*`kwargs`**)\n",
       "\n",
       "Replace the line `l` in `txt` with any occurances of the dictionaried values. "
      ],
      "text/plain": [
       "<IPython.core.display.Markdown object>"
      ]
     },
     "metadata": {},
     "output_type": "display_data"
    }
   ],
   "source": [
    "show_doc(replace)"
   ]
  },
  {
   "cell_type": "code",
   "execution_count": null,
   "id": "iraqi-apparel",
   "metadata": {},
   "outputs": [
    {
     "data": {
      "text/plain": [
       "'result={0}; ZIP 2,lambda i:i*10'"
      ]
     },
     "execution_count": null,
     "metadata": {},
     "output_type": "execute_result"
    }
   ],
   "source": [
    "replace('''result={0}; ZIP _myvar,lambda i:i*10''',_myvar=2)"
   ]
  },
  {
   "cell_type": "code",
   "execution_count": null,
   "id": "passive-amateur",
   "metadata": {},
   "outputs": [
    {
     "data": {
      "text/markdown": [
       "<h4 id=\"txt2lst\" class=\"doc_header\"><code>txt2lst</code><a href=\"__main__.py#L8\" class=\"source_link\" style=\"float:right\">[source]</a></h4>\n",
       "\n",
       "> <code>txt2lst</code>(**`txt`**)\n",
       "\n",
       "Remove all newlines `\n",
       "` and empty strings `` from the template `txt`."
      ],
      "text/plain": [
       "<IPython.core.display.Markdown object>"
      ]
     },
     "metadata": {},
     "output_type": "display_data"
    }
   ],
   "source": [
    "show_doc(txt2lst)"
   ]
  },
  {
   "cell_type": "code",
   "execution_count": null,
   "id": "prime-discount",
   "metadata": {},
   "outputs": [
    {
     "data": {
      "text/plain": [
       "['var=_myvar', 'result={0}; ZIP _myvar,lambda i:i*10']"
      ]
     },
     "execution_count": null,
     "metadata": {},
     "output_type": "execute_result"
    }
   ],
   "source": [
    "txt=txt2lst('''var=_myvar\n",
    "result={0}; ZIP _myvar,lambda i:i*10\n",
    "''')\n",
    "txt"
   ]
  },
  {
   "cell_type": "code",
   "execution_count": null,
   "id": "christian-beginning",
   "metadata": {},
   "outputs": [
    {
     "data": {
      "text/markdown": [
       "<h4 id=\"getEvals\" class=\"doc_header\"><code>getEvals</code><a href=\"__main__.py#L30\" class=\"source_link\" style=\"float:right\">[source]</a></h4>\n",
       "\n",
       "> <code>getEvals</code>(**`replaced_txt`**, **`funcs`**=*`['ZIP']`*)\n",
       "\n",
       "Obtain a tuple of containing the `funcs`, the text they format, their arguments, \n",
       "and their line index in the template `txt`."
      ],
      "text/plain": [
       "<IPython.core.display.Markdown object>"
      ]
     },
     "metadata": {},
     "output_type": "display_data"
    }
   ],
   "source": [
    "show_doc(getEvals)"
   ]
  },
  {
   "cell_type": "code",
   "execution_count": null,
   "id": "optical-sense",
   "metadata": {},
   "outputs": [
    {
     "data": {
      "text/plain": [
       "[('ZIP', ['result={0}; ', ' 2,lambda i:i*10'], 1)]"
      ]
     },
     "execution_count": null,
     "metadata": {},
     "output_type": "execute_result"
    }
   ],
   "source": [
    "for i,l in enumerate(txt):\n",
    "    txt[i]=replace(l,_myvar=2)\n",
    "getEvals(txt,funcs=['ZIP'])"
   ]
  },
  {
   "cell_type": "markdown",
   "id": "located-nothing",
   "metadata": {},
   "source": [
    "Text blocks of this kind (`ZIP`, follows by text to format, follows by arguments after comma) are extracted using `filltxt`:"
   ]
  },
  {
   "cell_type": "code",
   "execution_count": null,
   "id": "mental-territory",
   "metadata": {},
   "outputs": [
    {
     "data": {
      "text/markdown": [
       "<h4 id=\"filltxt\" class=\"doc_header\"><code>filltxt</code><a href=\"__main__.py#L42\" class=\"source_link\" style=\"float:right\">[source]</a></h4>\n",
       "\n",
       "> <code>filltxt</code>(**`txt`**, **`funcs`**=*`['ZIP']`*, **\\*\\*`kwargs`**)\n",
       "\n",
       "Take a template `txt`, replace all `kwargs` via `Replace`, then evaluate the `funcs` \n",
       "on the surrounding text using `GetEvals`."
      ],
      "text/plain": [
       "<IPython.core.display.Markdown object>"
      ]
     },
     "metadata": {},
     "output_type": "display_data"
    }
   ],
   "source": [
    "show_doc(filltxt)"
   ]
  },
  {
   "cell_type": "markdown",
   "id": "chicken-pioneer",
   "metadata": {},
   "source": [
    "These are then packaged into the `Template` class, which we give another arbitrary example of here:"
   ]
  },
  {
   "cell_type": "code",
   "execution_count": null,
   "id": "sensitive-savannah",
   "metadata": {},
   "outputs": [
    {
     "data": {
      "text/plain": [
       "Filling out stuff\n",
       "which iterates arbitrarily is \n",
       "much \n",
       "much \n",
       "much \n",
       "easier\n",
       "since we can embed any keyword, iterable, and function anywhere."
      ]
     },
     "execution_count": null,
     "metadata": {},
     "output_type": "execute_result"
    }
   ],
   "source": [
    "t=Template('''Filling out _stuff\n",
    "\n",
    "which {0}{1} is ZIP 1, lambda t:'iterates ' , _arbitrarily\n",
    "\n",
    "{0} ZIP range(3), lambda t: \"much\"\n",
    "\n",
    "easier\n",
    "\n",
    "since we can embed any keyword, iterable, and function anywhere.\n",
    "\n",
    "''',_stuff='stuff',_arbitrarily=\"lambda t: 'arbitrarily'\")\n",
    "t"
   ]
  },
  {
   "cell_type": "code",
   "execution_count": null,
   "id": "returning-paragraph",
   "metadata": {},
   "outputs": [],
   "source": [
    "t.fill('we can append, _too',_too='too!',append=True)"
   ]
  },
  {
   "cell_type": "code",
   "execution_count": null,
   "id": "conservative-redhead",
   "metadata": {},
   "outputs": [
    {
     "data": {
      "text/plain": [
       "Filling out stuff\n",
       "which iterates arbitrarily is \n",
       "much \n",
       "much \n",
       "much \n",
       "easier\n",
       "since we can embed any keyword, iterable, and function anywhere.\n",
       "we can append, too!"
      ]
     },
     "execution_count": null,
     "metadata": {},
     "output_type": "execute_result"
    }
   ],
   "source": [
    "t"
   ]
  },
  {
   "cell_type": "markdown",
   "id": "portuguese-respondent",
   "metadata": {},
   "source": [
    "Finally, a `Template` will attempt to auto-load a file if the input is a filename, e.g `Template('template.txt')` will load the file `template.txt` if it exists in the current directory, and use that as the string to format."
   ]
  },
  {
   "cell_type": "code",
   "execution_count": null,
   "id": "removed-internet",
   "metadata": {},
   "outputs": [],
   "source": [
    "#hide\n",
    "#notebook2script()"
   ]
  },
  {
   "cell_type": "code",
   "execution_count": null,
   "id": "matched-swimming",
   "metadata": {},
   "outputs": [],
   "source": []
  }
 ],
 "metadata": {
  "kernelspec": {
   "display_name": "Python 3",
   "language": "python",
   "name": "python3"
  }
 },
 "nbformat": 4,
 "nbformat_minor": 5
}
