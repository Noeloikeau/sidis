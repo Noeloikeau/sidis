{
 "cells": [
  {
   "cell_type": "code",
   "execution_count": null,
   "id": "several-blend",
   "metadata": {},
   "outputs": [],
   "source": [
    "# default_exp templates"
   ]
  },
  {
   "cell_type": "code",
   "execution_count": null,
   "id": "stable-staff",
   "metadata": {},
   "outputs": [],
   "source": [
    "#hide\n",
    "from nbdev import *\n",
    "from nbdev.imports import *\n",
    "from nbdev.export import *\n",
    "from nbdev.sync import *\n",
    "from nbdev.showdoc import *"
   ]
  },
  {
   "cell_type": "code",
   "execution_count": null,
   "id": "median-brass",
   "metadata": {},
   "outputs": [],
   "source": [
    "#hide\n",
    "%load_ext autoreload\n",
    "%autoreload 2"
   ]
  },
  {
   "cell_type": "code",
   "execution_count": null,
   "id": "distributed-knight",
   "metadata": {},
   "outputs": [
    {
     "name": "stderr",
     "output_type": "stream",
     "text": [
      "C:\\Anaconda3\\lib\\site-packages\\numpy\\_distributor_init.py:32: UserWarning: loaded more than 1 DLL from .libs:\n",
      "C:\\Anaconda3\\lib\\site-packages\\numpy\\.libs\\libopenblas.NOIJJG62EMASZI6NYURL6JBKM4EVBGM7.gfortran-win_amd64.dll\n",
      "C:\\Anaconda3\\lib\\site-packages\\numpy\\.libs\\libopenblas.PYQHXLVVQ7VESDPUVUADXEVJOBGHJPAY.gfortran-win_amd64.dll\n",
      "  stacklevel=1)\n"
     ]
    }
   ],
   "source": [
    "#export\n",
    "from typing import Optional, Tuple, Dict, Callable, Union, Mapping, Sequence, Iterable\n",
    "import numpy as np\n",
    "from sidis.conversion import cast\n",
    "from sidis.recursion import get"
   ]
  },
  {
   "cell_type": "code",
   "execution_count": null,
   "id": "white-petroleum",
   "metadata": {},
   "outputs": [],
   "source": [
    "#export\n",
    "def replace(l,**kwargs):\n",
    "    'Replace the line `l` in `txt` with any occurances of the dictionaried values. '\n",
    "    for k,v in kwargs.items():\n",
    "        l=l.replace(k,str(v))\n",
    "    return l\n",
    "\n",
    "def txt2lst(txt):\n",
    "    'Remove all newlines `\\n` and empty strings `''` from the template `txt`.'\n",
    "    return [t for t in txt.split('\\n') if t!='']\n",
    "\n",
    "def lst2txt(ltxt):\n",
    "    'Concatenate a list of text `ltxt` into a string separated by newlines.'\n",
    "    return '\\n'.join(ltxt)\n",
    "\n",
    "def ZIP(txt,_iter,*lambdas,as_txt=False):\n",
    "    '''Loop over the iterable `_iter` and format `txt` in order of the `lambdas`.\n",
    "    If `_iter` is an int, it is treated as `range(_iter)`, and if it is a tuple, \n",
    "    it is treated as `np.ndindex(_iter)`.\n",
    "    '''\n",
    "    _iter=cast(_iter,list)\n",
    "    try:\n",
    "        l=[str(txt).format( *[l(*i) for l in lambdas] ) for i in _iter]\n",
    "    except:\n",
    "        l=[str(txt).format( *[l(i) for l in lambdas] ) for i in _iter]\n",
    "    if as_txt is True:\n",
    "        l=lst2txt(l)\n",
    "    return l\n",
    "\n",
    "def getEvals(replaced_txt,funcs=['ZIP']):\n",
    "    '''Obtain a tuple of containing the `funcs`, the text they format, their arguments, \n",
    "    and their line index in the template `txt`.\n",
    "    '''\n",
    "    y=[]\n",
    "    for i,o in enumerate(replaced_txt):\n",
    "        for f in funcs:\n",
    "            if len(o.split(f))>1:\n",
    "                #function, (txt to be formatted, func args), position in file\n",
    "                y+=[(f,o.split(f),i)]\n",
    "    return y\n",
    "\n",
    "def filltxt(txt,funcs=['ZIP'],**kwargs):\n",
    "    '''Take a template `txt`, replace all `kwargs` via `Replace`, then evaluate the `funcs` \n",
    "       on the surrounding text using `GetEvals`.'''\n",
    "    txt=txt2lst(txt)\n",
    "    for i,l in enumerate(txt):\n",
    "        txt[i]=replace(l,**kwargs)\n",
    "    y=getEvals(txt,funcs)\n",
    "    e=list(map(lambda s: eval(s[0]+'('+'{0:s[1][0]}[0]'+','+s[1][1]+')' ),y)) #evaluate the function \n",
    "    u=[(i,e) for i,e in zip([y[i][-1] for i in range(len(y))],[e[i] for i in range(len(y))])] #position/evals\n",
    "    t=[] #new txt\n",
    "    for i in range(len(txt)):\n",
    "        t+=[txt[i]]\n",
    "        for j,e in u: #remove old lines\n",
    "            if i==j:\n",
    "                t.remove(txt[i])\n",
    "                for q in e:\n",
    "                    t+=[q]\n",
    "    return t\n",
    "\n",
    "        \n",
    "class Template:\n",
    "    '''\n",
    "    Automates iteration over arbitrary Python functions embedded into blocks of text.\n",
    "    \n",
    "    Class attrs:\n",
    "        \n",
    "        funcs=[`ZIP`] (list of callable) : the keyword function to map over the text it's embedded in\n",
    "        \n",
    "        filler=`fill` (callable) : method of filling the text\n",
    "        \n",
    "    \n",
    "    Inputs:\n",
    "    \n",
    "        `temp` (str): input string to be filled, or file name to be loaded\n",
    "        \n",
    "        `kwargs` (dict): characters to be replaced and evaluated\n",
    "        \n",
    "        \n",
    "    Attrs:\n",
    "    \n",
    "        `plate` (list): line-by-line filling of `temp` based on `kwargs`\n",
    "        \n",
    "        `temp` (str): saved version of `temp` separated by newlines\n",
    "        \n",
    "        \n",
    "    Methods:\n",
    "    \n",
    "        `load`: loads `fname` and fills based on `kwargs`.\n",
    "        \n",
    "        `out`: write/append `txt`, which defaults to filled data `str`, to `fname`.\n",
    "        \n",
    "        `fill`: fills the template by replacing `kwargs` and evaluating `funcs`.\n",
    "        \n",
    "    '''\n",
    "    funcs=['ZIP']\n",
    "    filler=filltxt\n",
    "    def __init__(self,temp,**kwargs):\n",
    "        self.__dict__.update({k:v for k,v in kwargs.items() if k!='self' and k!='kwargs'})\n",
    "        self.temp=temp\n",
    "        try:\n",
    "            self.load(temp,**kwargs)\n",
    "            print(f'Loaded {temp}.')\n",
    "        except:\n",
    "            self.temp=temp\n",
    "            self.fill(**kwargs)\n",
    "\n",
    "    def fill(self,temp=None,append=False,**kwargs):\n",
    "        if not append:\n",
    "            if temp is not None:\n",
    "                self.temp=temp\n",
    "            if kwargs!={}:\n",
    "                self.plate=Template.filler(self.temp,Template.funcs,**kwargs)\n",
    "                self.__dict__.update(kwargs)\n",
    "        else:\n",
    "            if (temp is not None) and (temp!=self.temp):\n",
    "                self.temp+='\\n'+temp\n",
    "            if kwargs!={}:\n",
    "                self.plate+=Template.filler(temp,Template.funcs,**kwargs)\n",
    "                self.__dict__.update(kwargs)\n",
    "            \n",
    "    def txt(self):\n",
    "        return lst2txt(self.plate)\n",
    "            \n",
    "    def load(self,fname,**kwargs):\n",
    "        with open(fname,'r') as f:\n",
    "            self.temp=f.read()\n",
    "        self.fill(**kwargs)\n",
    "            \n",
    "    def out(self,fname,txt=None,s='a'):\n",
    "        if txt is None:\n",
    "            txt=self.txt()\n",
    "        with open(fname,s) as f:\n",
    "            f.write(txt)\n",
    "        \n",
    "    def __repr__(self):\n",
    "        try:\n",
    "            return self.txt()\n",
    "        except:\n",
    "            return self.temp       "
   ]
  },
  {
   "cell_type": "code",
   "execution_count": null,
   "id": "infrared-equation",
   "metadata": {},
   "outputs": [
    {
     "data": {
      "text/markdown": [
       "<h2 id=\"Template\" class=\"doc_header\"><code>class</code> <code>Template</code><a href=\"\" class=\"source_link\" style=\"float:right\">[source]</a></h2>\n",
       "\n",
       "> <code>Template</code>(**`temp`**, **\\*\\*`kwargs`**)\n",
       "\n",
       "Automates iteration over arbitrary Python functions embedded into blocks of text.\n",
       "\n",
       "Class attrs:\n",
       "    \n",
       "    funcs=[[`ZIP`](/sidis/templates.html#ZIP)] (list of callable) : the keyword function to map over the text it's embedded in\n",
       "    \n",
       "    filler=`fill` (callable) : method of filling the text\n",
       "    \n",
       "\n",
       "Inputs:\n",
       "\n",
       "    `temp` (str): input string to be filled, or file name to be loaded\n",
       "    \n",
       "    `kwargs` (dict): characters to be replaced and evaluated\n",
       "    \n",
       "    \n",
       "Attrs:\n",
       "\n",
       "    `plate` (list): line-by-line filling of `temp` based on `kwargs`\n",
       "    \n",
       "    `temp` (str): saved version of `temp` separated by newlines\n",
       "    \n",
       "    \n",
       "Methods:\n",
       "\n",
       "    [`load`](/sidis/utils.html#load): loads `fname` and fills based on `kwargs`.\n",
       "    \n",
       "    `out`: write/append `txt`, which defaults to filled data `str`, to `fname`.\n",
       "    \n",
       "    `fill`: fills the template by replacing `kwargs` and evaluating `funcs`.\n",
       "    "
      ],
      "text/plain": [
       "<IPython.core.display.Markdown object>"
      ]
     },
     "metadata": {},
     "output_type": "display_data"
    }
   ],
   "source": [
    "show_doc(Template)"
   ]
  },
  {
   "cell_type": "code",
   "execution_count": null,
   "id": "boring-oakland",
   "metadata": {},
   "outputs": [],
   "source": [
    "t=Template('''These characters get replaced: _variable, _function\n",
    "\n",
    "This line is then formatted: {0} ZIP _variable , _function\n",
    "\n",
    "And this one is iterated: {0} ZIP _iter , _function''')"
   ]
  },
  {
   "cell_type": "code",
   "execution_count": null,
   "id": "otherwise-project",
   "metadata": {},
   "outputs": [
    {
     "data": {
      "text/plain": [
       "These characters get replaced: 2, lambda i:i*10\n",
       "This line is then formatted: 20 \n",
       "And this one is iterated: 0 \n",
       "And this one is iterated: 10 "
      ]
     },
     "execution_count": null,
     "metadata": {},
     "output_type": "execute_result"
    }
   ],
   "source": [
    "t.fill(_variable=2,_function=\"lambda i:i*10\",_iter=range(2))\n",
    "t"
   ]
  },
  {
   "cell_type": "code",
   "execution_count": null,
   "id": "nearby-idaho",
   "metadata": {},
   "outputs": [
    {
     "data": {
      "text/plain": [
       "{'temp': 'These characters get replaced: _variable, _function\\n\\nThis line is then formatted: {0} ZIP _variable , _function\\n\\nAnd this one is iterated: {0} ZIP _iter , _function',\n",
       " 'plate': ['These characters get replaced: 2, lambda i:i*10',\n",
       "  'This line is then formatted: 20 ',\n",
       "  'And this one is iterated: 0 ',\n",
       "  'And this one is iterated: 10 '],\n",
       " '_variable': 2,\n",
       " '_function': 'lambda i:i*10',\n",
       " '_iter': range(0, 2)}"
      ]
     },
     "execution_count": null,
     "metadata": {},
     "output_type": "execute_result"
    }
   ],
   "source": [
    "t.__dict__"
   ]
  },
  {
   "cell_type": "code",
   "execution_count": null,
   "id": "liked-couple",
   "metadata": {},
   "outputs": [
    {
     "data": {
      "text/plain": [
       "Filling out stuff\n",
       "which iterates arbitrarily is \n",
       "much \n",
       "much \n",
       "much \n",
       "easier\n",
       "since we can embed any keyword, iterable, and function anywhere."
      ]
     },
     "execution_count": null,
     "metadata": {},
     "output_type": "execute_result"
    }
   ],
   "source": [
    "t=Template('''Filling out _stuff\n",
    "\n",
    "which {0}{1} is ZIP 1, lambda t:'iterates ' , _arbitrarily\n",
    "\n",
    "{0} ZIP range(3), lambda t: \"much\"\n",
    "\n",
    "easier\n",
    "\n",
    "since we can embed any keyword, iterable, and function anywhere.\n",
    "\n",
    "''',_stuff='stuff',_arbitrarily=\"lambda t: 'arbitrarily'\")\n",
    "t"
   ]
  },
  {
   "cell_type": "code",
   "execution_count": null,
   "id": "documented-moldova",
   "metadata": {},
   "outputs": [],
   "source": [
    "t.fill('we can append, _too',_too='too!',append=True)"
   ]
  },
  {
   "cell_type": "code",
   "execution_count": null,
   "id": "tribal-forum",
   "metadata": {},
   "outputs": [
    {
     "data": {
      "text/plain": [
       "Filling out stuff\n",
       "which iterates arbitrarily is \n",
       "much \n",
       "much \n",
       "much \n",
       "easier\n",
       "since we can embed any keyword, iterable, and function anywhere.\n",
       "we can append, too!"
      ]
     },
     "execution_count": null,
     "metadata": {},
     "output_type": "execute_result"
    }
   ],
   "source": [
    "t"
   ]
  },
  {
   "cell_type": "code",
   "execution_count": null,
   "id": "listed-evolution",
   "metadata": {},
   "outputs": [
    {
     "name": "stdout",
     "output_type": "stream",
     "text": [
      "Converted 00_utils.ipynb.\n",
      "Converted 01_conversion.ipynb.\n",
      "Converted 02_recursion.ipynb.\n",
      "Converted 03_templates.ipynb.\n",
      "Converted index.ipynb.\n"
     ]
    }
   ],
   "source": [
    "#hide\n",
    "notebook2script()"
   ]
  },
  {
   "cell_type": "code",
   "execution_count": null,
   "id": "martial-chile",
   "metadata": {},
   "outputs": [],
   "source": []
  }
 ],
 "metadata": {
  "kernelspec": {
   "display_name": "Python 3",
   "language": "python",
   "name": "python3"
  }
 },
 "nbformat": 4,
 "nbformat_minor": 5
}
