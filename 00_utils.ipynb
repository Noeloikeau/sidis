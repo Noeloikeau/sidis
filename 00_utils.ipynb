{
 "cells": [
  {
   "cell_type": "code",
   "execution_count": null,
   "id": "musical-maldives",
   "metadata": {},
   "outputs": [],
   "source": [
    "# default_exp utils"
   ]
  },
  {
   "cell_type": "markdown",
   "id": "acting-content",
   "metadata": {},
   "source": [
    "# utils\n",
    "\n",
    "> This module contains basic helper utilities such as optimized compression of arbitrary data objects `save` and `load`, code timing `timer`, and fine-level plotting control `figParams`, as well as nbdev project tools (used to create this website, found at https://nbdev.fast.ai/)."
   ]
  },
  {
   "cell_type": "code",
   "execution_count": null,
   "id": "reflected-kennedy",
   "metadata": {},
   "outputs": [],
   "source": [
    "#hide\n",
    "from nbdev import *\n",
    "from nbdev.imports import *\n",
    "from nbdev.export import *\n",
    "from nbdev.sync import *\n",
    "from nbdev.showdoc import *"
   ]
  },
  {
   "cell_type": "code",
   "execution_count": null,
   "id": "cognitive-double",
   "metadata": {},
   "outputs": [],
   "source": [
    "#hide\n",
    "%load_ext autoreload\n",
    "%autoreload 2"
   ]
  },
  {
   "cell_type": "code",
   "execution_count": null,
   "id": "trying-bristol",
   "metadata": {},
   "outputs": [],
   "source": [
    "#export\n",
    "#from typing import Optional, Tuple, Dict, Callable, Union, Mapping, Sequence\n",
    "import time\n",
    "import gzip\n",
    "import pickle\n",
    "import os"
   ]
  },
  {
   "cell_type": "code",
   "execution_count": null,
   "id": "secondary-reform",
   "metadata": {},
   "outputs": [],
   "source": [
    "#export\n",
    "def timer(func : callable) -> str:\n",
    "    '''Decorator that reports the execution time.'''\n",
    "    def wrap(*args, **kwargs):\n",
    "        start = time.time()\n",
    "        result = func(*args, **kwargs)\n",
    "        end = time.time()\n",
    "        print(func.__name__+' : '+f\"Elapsed time: {end-start:0.4f} seconds\")\n",
    "        return result\n",
    "    return wrap"
   ]
  },
  {
   "cell_type": "code",
   "execution_count": null,
   "id": "found-placement",
   "metadata": {},
   "outputs": [
    {
     "data": {
      "text/markdown": [
       "<h4 id=\"timer\" class=\"doc_header\"><code>timer</code><a href=\"__main__.py#L2\" class=\"source_link\" style=\"float:right\">[source]</a></h4>\n",
       "\n",
       "> <code>timer</code>(**`func`**:`callable`)\n",
       "\n",
       "Decorator that reports the execution time."
      ],
      "text/plain": [
       "<IPython.core.display.Markdown object>"
      ]
     },
     "metadata": {},
     "output_type": "display_data"
    },
    {
     "name": "stdout",
     "output_type": "stream",
     "text": [
      "hi\n",
      "say_hi : Elapsed time: 0.0000 seconds\n"
     ]
    }
   ],
   "source": [
    "show_doc(timer)\n",
    "@timer\n",
    "def say_hi():\n",
    "    print('hi')\n",
    "say_hi()"
   ]
  },
  {
   "cell_type": "code",
   "execution_count": null,
   "id": "affiliated-account",
   "metadata": {},
   "outputs": [],
   "source": [
    "#export\n",
    "def filesize(fname : str ='data.gz',\n",
    "             exp : int = 1e-6):\n",
    "    '''\n",
    "    Returns filesize in bytes*`exp`, which defaults to megabytes.\n",
    "    '''\n",
    "    prefix={1:'', 1e-3:'kilo', 1e-6:'mega', 1e-9:'giga'}\n",
    "    size=float((os.stat(fname).st_size)*(exp if exp in prefix else 1))\n",
    "    return f\"{fname} is {size:.5} {prefix.get(exp) or ''}bytes\""
   ]
  },
  {
   "cell_type": "code",
   "execution_count": null,
   "id": "intellectual-mortgage",
   "metadata": {},
   "outputs": [
    {
     "data": {
      "text/markdown": [
       "<h4 id=\"filesize\" class=\"doc_header\"><code>filesize</code><a href=\"__main__.py#L2\" class=\"source_link\" style=\"float:right\">[source]</a></h4>\n",
       "\n",
       "> <code>filesize</code>(**`fname`**:`str`=*`'data.gz'`*, **`exp`**:`int`=*`1e-06`*)\n",
       "\n",
       "Returns filesize in bytes*`exp`, which defaults to megabytes."
      ],
      "text/plain": [
       "<IPython.core.display.Markdown object>"
      ]
     },
     "metadata": {},
     "output_type": "display_data"
    },
    {
     "data": {
      "text/plain": [
       "'setup.py is 0.003158 megabytes'"
      ]
     },
     "execution_count": null,
     "metadata": {},
     "output_type": "execute_result"
    }
   ],
   "source": [
    "show_doc(filesize)\n",
    "filesize('setup.py')"
   ]
  },
  {
   "cell_type": "code",
   "execution_count": null,
   "id": "floral-qualification",
   "metadata": {},
   "outputs": [],
   "source": [
    "#export\n",
    "def save(data,fname='data.gz'):\n",
    "    '''\n",
    "    Saves `data` as `fname` using gzip and pickle.\n",
    "    Maximizes speed and compression of objects.\n",
    "    '''\n",
    "    with gzip.open(fname, \"wb\") as f:\n",
    "        pickle.dump(data,f,-1)\n",
    "    print(filesize(fname))"
   ]
  },
  {
   "cell_type": "code",
   "execution_count": null,
   "id": "clean-oklahoma",
   "metadata": {},
   "outputs": [
    {
     "data": {
      "text/markdown": [
       "<h4 id=\"save\" class=\"doc_header\"><code>save</code><a href=\"__main__.py#L2\" class=\"source_link\" style=\"float:right\">[source]</a></h4>\n",
       "\n",
       "> <code>save</code>(**`data`**, **`fname`**=*`'data.gz'`*)\n",
       "\n",
       "Saves `data` as `fname` using gzip and pickle.\n",
       "Maximizes speed and compression of objects."
      ],
      "text/plain": [
       "<IPython.core.display.Markdown object>"
      ]
     },
     "metadata": {},
     "output_type": "display_data"
    },
    {
     "name": "stdout",
     "output_type": "stream",
     "text": [
      "data.gz is 3.7e-05 megabytes\n"
     ]
    }
   ],
   "source": [
    "show_doc(save)\n",
    "a=[0]\n",
    "save(a,fname='data.gz')"
   ]
  },
  {
   "cell_type": "code",
   "execution_count": null,
   "id": "modular-cedar",
   "metadata": {},
   "outputs": [],
   "source": [
    "#export\n",
    "def load(fname='data.gz',delete=False):\n",
    "    '''\n",
    "    Loads `fname`, returning pickled `data`.\n",
    "    '''\n",
    "    with gzip.open(fname, \"rb\") as f:\n",
    "        data=pickle.load(f)\n",
    "    if delete is True:\n",
    "        os.remove(fname)\n",
    "    return data"
   ]
  },
  {
   "cell_type": "code",
   "execution_count": null,
   "id": "accessible-crown",
   "metadata": {},
   "outputs": [
    {
     "data": {
      "text/markdown": [
       "<h4 id=\"load\" class=\"doc_header\"><code>load</code><a href=\"__main__.py#L2\" class=\"source_link\" style=\"float:right\">[source]</a></h4>\n",
       "\n",
       "> <code>load</code>(**`fname`**=*`'data.gz'`*, **`delete`**=*`False`*)\n",
       "\n",
       "Loads `fname`, returning pickled [`data`](/sidis/data.html)."
      ],
      "text/plain": [
       "<IPython.core.display.Markdown object>"
      ]
     },
     "metadata": {},
     "output_type": "display_data"
    },
    {
     "data": {
      "text/plain": [
       "[0]"
      ]
     },
     "execution_count": null,
     "metadata": {},
     "output_type": "execute_result"
    }
   ],
   "source": [
    "show_doc(load)\n",
    "load(fname='data.gz',delete=True)"
   ]
  },
  {
   "cell_type": "code",
   "execution_count": null,
   "id": "automatic-crisis",
   "metadata": {},
   "outputs": [],
   "source": [
    "#export\n",
    "def push(branch='master',comment='auto'):\n",
    "    \"Pushes all current files to given branch with comment.\"\n",
    "    os.system('git branch -M {}'.format(branch))\n",
    "    os.system('git add -A') #stage all files\n",
    "    os.system('git commit -m \"{}\"'.format(comment)) #commit all files\n",
    "    os.system('git push -u origin {} --force'.format(branch))\n",
    "\n",
    "def refresh(push=True,hooks=False,comment='auto',branch='master'):\n",
    "    \"Builds nbdev library and docs.\"\n",
    "    os.system('nbdev_build_lib') #build core python module\n",
    "    if hooks:\n",
    "        os.system('nbdev_install_git_hooks')\n",
    "    os.system('nbdev_build_docs') #build code documentation\n",
    "    if push:\n",
    "        push(comment=comment,branch=branch)\n",
    "\n",
    "def backup(comment='Backup'):\n",
    "    \"Like `Push` but with branch set to `backup`.\"\n",
    "    os.system('git branch -M backup')\n",
    "    os.system('git add -A') #stage all files\n",
    "    os.system('git commit -m \"{}\"'.format(comment)) #commit all files\n",
    "    os.system('git push -u origin backup --force')"
   ]
  },
  {
   "cell_type": "code",
   "execution_count": null,
   "id": "loaded-wealth",
   "metadata": {},
   "outputs": [],
   "source": [
    "#export\n",
    "import matplotlib.pyplot as plt\n",
    "import matplotlib as mpl\n",
    "import numpy as np\n",
    "\n",
    "def figParams(reset : bool = False,\n",
    "              X : float = 3.5,\n",
    "              Y : float = 3,\n",
    "              hspace : float = 0.0,\n",
    "              offset : float = -.4,\n",
    "              font : str = 'Times New Roman',\n",
    "              fontsize : int = 12,\n",
    "              ticksize : int = 6,\n",
    "              tickwidth : int = 2,\n",
    "              linewidth : int = 2\n",
    "             ):\n",
    "    '''\n",
    "    Changes the `rcParams` for plotting, with the option to `reset` to default.\n",
    "    '''\n",
    "    if reset:\n",
    "        mpl.rcParams.update(mpl.rcParamsDefault)\n",
    "    else:\n",
    "        #figure font Times New Roman,Helvetica, Arial, Cambria, or Symbol\n",
    "        mpl.rcParams['font.family'] = font\n",
    "        mpl.rcParams['font.size'] = fontsize \n",
    "        mpl.rcParams['axes.titlesize'] = fontsize \n",
    "        mpl.rcParams['axes.linewidth'] = linewidth \n",
    "        mpl.rcParams['axes.titley'] = offset\n",
    "\n",
    "\n",
    "        mpl.rcParams['xtick.major.size'] = ticksize\n",
    "        mpl.rcParams['xtick.major.width'] = tickwidth\n",
    "        mpl.rcParams['xtick.minor.size'] = ticksize//2\n",
    "        mpl.rcParams['xtick.minor.width'] = tickwidth//2\n",
    "        mpl.rcParams['xtick.direction']='out'\n",
    "\n",
    "        mpl.rcParams['ytick.major.size'] = ticksize\n",
    "        mpl.rcParams['ytick.major.width'] = tickwidth\n",
    "        mpl.rcParams['ytick.minor.size'] = ticksize//2\n",
    "        mpl.rcParams['ytick.minor.width'] = tickwidth//2\n",
    "        mpl.rcParams['ytick.direction']='out'\n",
    "\n",
    "        mpl.rcParams['figure.figsize'] = [X,Y]\n",
    "        mpl.rcParams['figure.subplot.hspace'] = hspace\n",
    "\n",
    "def forceAspect(ax : mpl.axes,\n",
    "                aspect : int = 1):\n",
    "    '''\n",
    "    Forces the aspect of the axes object `ax`.\n",
    "    '''\n",
    "    im = ax.get_images()\n",
    "    extent =  im[0].get_extent()\n",
    "    ax.set_aspect(abs((extent[1]-extent[0])/(extent[3]-extent[2]))/aspect)\n",
    "    \n",
    "def matshow(x : np.ndarray,\n",
    "            aspect : int = 1,\n",
    "            save : bool = True,\n",
    "            fname : str = 'test'):\n",
    "    '''\n",
    "    Simplified image plot of matrix `x` with forced `aspect` that can save `fname` to `path`. \n",
    "    '''\n",
    "    fig,ax=plt.subplots()\n",
    "    ax.matshow(x)\n",
    "    forceAspect(ax,aspect)\n",
    "    if save:\n",
    "        plt.savefig(fname, dpi=600,transparent=False, bbox_inches='tight')"
   ]
  },
  {
   "cell_type": "code",
   "execution_count": null,
   "id": "subtle-duncan",
   "metadata": {},
   "outputs": [
    {
     "data": {
      "text/markdown": [
       "<h4 id=\"figParams\" class=\"doc_header\"><code>figParams</code><a href=\"__main__.py#L6\" class=\"source_link\" style=\"float:right\">[source]</a></h4>\n",
       "\n",
       "> <code>figParams</code>(**`reset`**:`bool`=*`False`*, **`X`**:`float`=*`3.5`*, **`Y`**:`float`=*`3`*, **`hspace`**:`float`=*`0.0`*, **`offset`**:`float`=*`-0.4`*, **`font`**:`str`=*`'Times New Roman'`*, **`fontsize`**:`int`=*`12`*, **`ticksize`**:`int`=*`6`*, **`tickwidth`**:`int`=*`2`*, **`linewidth`**:`int`=*`2`*)\n",
       "\n",
       "Changes the `rcParams` for plotting, with the option to `reset` to default."
      ],
      "text/plain": [
       "<IPython.core.display.Markdown object>"
      ]
     },
     "metadata": {},
     "output_type": "display_data"
    }
   ],
   "source": [
    "show_doc(figParams)"
   ]
  },
  {
   "cell_type": "code",
   "execution_count": null,
   "id": "noble-addition",
   "metadata": {},
   "outputs": [
    {
     "name": "stdout",
     "output_type": "stream",
     "text": [
      "Converted 00_utils.ipynb.\n",
      "Converted 01_data.ipynb.\n",
      "Converted 02_recursion.ipynb.\n",
      "Converted 03_templates.ipynb.\n",
      "Converted index.ipynb.\n"
     ]
    }
   ],
   "source": [
    "#hide\n",
    "notebook2script()"
   ]
  },
  {
   "cell_type": "code",
   "execution_count": null,
   "id": "political-hindu",
   "metadata": {},
   "outputs": [],
   "source": []
  }
 ],
 "metadata": {
  "kernelspec": {
   "display_name": "Python 3",
   "language": "python",
   "name": "python3"
  }
 },
 "nbformat": 4,
 "nbformat_minor": 5
}
