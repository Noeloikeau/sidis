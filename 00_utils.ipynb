{
 "cells": [
  {
   "cell_type": "code",
   "execution_count": null,
   "id": "outside-investigator",
   "metadata": {},
   "outputs": [],
   "source": [
    "# default_exp utils"
   ]
  },
  {
   "cell_type": "markdown",
   "id": "dependent-administrator",
   "metadata": {},
   "source": [
    "# utils\n",
    "\n",
    "> This module contains basic helper utilities such as optimized compression of arbitrary data objects `save` and `load`, code timing `timer`, and fine-level plotting control `figParams`, as well as nbdev project tools (used to create this website, found at https://nbdev.fast.ai/)."
   ]
  },
  {
   "cell_type": "code",
   "execution_count": null,
   "id": "psychological-arctic",
   "metadata": {},
   "outputs": [],
   "source": [
    "#hide\n",
    "from nbdev import *\n",
    "from nbdev.imports import *\n",
    "from nbdev.export import *\n",
    "from nbdev.sync import *\n",
    "from nbdev.showdoc import *"
   ]
  },
  {
   "cell_type": "code",
   "execution_count": null,
   "id": "theoretical-sound",
   "metadata": {},
   "outputs": [],
   "source": [
    "#hide\n",
    "%load_ext autoreload\n",
    "%autoreload 2"
   ]
  },
  {
   "cell_type": "code",
   "execution_count": null,
   "id": "political-hacker",
   "metadata": {},
   "outputs": [],
   "source": [
    "#export\n",
    "import warnings\n",
    "with warnings.catch_warnings(): #ignore warnings\n",
    "    warnings.simplefilter(\"ignore\")\n",
    "    import time\n",
    "    import gzip\n",
    "    import pickle\n",
    "    import os\n",
    "    import functools\n",
    "    from functools import wraps\n",
    "    import matplotlib.pyplot as plt\n",
    "    import matplotlib as mpl\n",
    "    import numpy as np\n",
    "    import typing \n",
    "    from typing import Optional, Tuple, Dict, Callable, Union, Mapping, Sequence, Iterable, List"
   ]
  },
  {
   "cell_type": "code",
   "execution_count": null,
   "id": "under-fifth",
   "metadata": {},
   "outputs": [],
   "source": [
    "#export\n",
    "def timer(func : callable) -> str:\n",
    "    '''Decorator that reports the execution time \n",
    "    and optionally returns the time difference by\n",
    "    adding a `return_time` Boolean keyword argument\n",
    "    to the function being wrapped.'''\n",
    "    @wraps(func)\n",
    "    def wrapper(*args, return_time = False, **kwargs):\n",
    "        start = time.time()\n",
    "        result = func(*args, **kwargs)\n",
    "        end = time.time()\n",
    "        t = end-start\n",
    "        print(func.__name__+' : '+f\"Elapsed time: {t:0.4f} seconds\")\n",
    "        if not return_time:\n",
    "            return result\n",
    "        else:\n",
    "            if result is not None:\n",
    "                return result,t\n",
    "            else:\n",
    "                return t\n",
    "    return wrapper"
   ]
  },
  {
   "cell_type": "code",
   "execution_count": null,
   "id": "instant-guidance",
   "metadata": {},
   "outputs": [
    {
     "name": "stdout",
     "output_type": "stream",
     "text": [
      "hi\n",
      "say_hi : Elapsed time: 0.0000 seconds\n"
     ]
    }
   ],
   "source": [
    "@timer\n",
    "def say_hi():\n",
    "    '''\n",
    "    Example function for `timer`.\n",
    "    Will show the correct docs thanks to `wraps`.\n",
    "    '''\n",
    "    print('hi')\n",
    "say_hi()"
   ]
  },
  {
   "cell_type": "code",
   "execution_count": null,
   "id": "lonely-telling",
   "metadata": {},
   "outputs": [
    {
     "name": "stdout",
     "output_type": "stream",
     "text": [
      "hi\n",
      "say_hi : Elapsed time: 0.0005 seconds\n"
     ]
    },
    {
     "data": {
      "text/plain": [
       "0.0004961490631103516"
      ]
     },
     "execution_count": null,
     "metadata": {},
     "output_type": "execute_result"
    }
   ],
   "source": [
    "say_hi(return_time=True)"
   ]
  },
  {
   "cell_type": "code",
   "execution_count": null,
   "id": "bizarre-bulgarian",
   "metadata": {},
   "outputs": [],
   "source": [
    "#export\n",
    "def filesize(fname : str ='data.gz',\n",
    "             exp : int = 1e-6):\n",
    "    '''\n",
    "    Returns filesize in bytes*`exp`, which defaults to megabytes.\n",
    "    '''\n",
    "    prefix={1:'', 1e-3:'kilo', 1e-6:'mega', 1e-9:'giga'}\n",
    "    size=float((os.stat(fname).st_size)*(exp if exp in prefix else 1))\n",
    "    return f\"{fname} is {size:.5} {prefix.get(exp) or ''}bytes\""
   ]
  },
  {
   "cell_type": "code",
   "execution_count": null,
   "id": "traditional-mexican",
   "metadata": {},
   "outputs": [
    {
     "data": {
      "text/plain": [
       "'setup.py is 0.003158 megabytes'"
      ]
     },
     "execution_count": null,
     "metadata": {},
     "output_type": "execute_result"
    }
   ],
   "source": [
    "filesize('setup.py')"
   ]
  },
  {
   "cell_type": "code",
   "execution_count": null,
   "id": "creative-sellers",
   "metadata": {},
   "outputs": [],
   "source": [
    "#export\n",
    "def save(data,fname='data.gz'):\n",
    "    '''\n",
    "    Saves `data` as `fname` using gzip and pickle.\n",
    "    Maximizes speed and compression of objects.\n",
    "    '''\n",
    "    with gzip.open(fname, \"wb\") as f:\n",
    "        pickle.dump(data,f,-1)\n",
    "    print(filesize(fname))"
   ]
  },
  {
   "cell_type": "code",
   "execution_count": null,
   "id": "accomplished-folks",
   "metadata": {},
   "outputs": [
    {
     "name": "stdout",
     "output_type": "stream",
     "text": [
      "data.gz is 3.7e-05 megabytes\n"
     ]
    }
   ],
   "source": [
    "a=[0]\n",
    "save(a,fname='data.gz')"
   ]
  },
  {
   "cell_type": "code",
   "execution_count": null,
   "id": "bearing-unknown",
   "metadata": {},
   "outputs": [],
   "source": [
    "#export\n",
    "def load(fname='data.gz',delete=False):\n",
    "    '''\n",
    "    Loads `fname`, returning pickled `data`.\n",
    "    '''\n",
    "    with gzip.open(fname, \"rb\") as f:\n",
    "        data=pickle.load(f)\n",
    "    if delete is True:\n",
    "        os.remove(fname)\n",
    "    return data"
   ]
  },
  {
   "cell_type": "code",
   "execution_count": null,
   "id": "convinced-shepherd",
   "metadata": {},
   "outputs": [
    {
     "data": {
      "text/plain": [
       "[0]"
      ]
     },
     "execution_count": null,
     "metadata": {},
     "output_type": "execute_result"
    }
   ],
   "source": [
    "load(fname='data.gz',delete=True)"
   ]
  },
  {
   "cell_type": "code",
   "execution_count": null,
   "id": "younger-webcam",
   "metadata": {},
   "outputs": [],
   "source": [
    "#export\n",
    "def push(branch='master',comment='auto'):\n",
    "    \"Pushes all current files to given branch with comment.\"\n",
    "    os.system('git branch -M {}'.format(branch))\n",
    "    os.system('git add -A') #stage all files\n",
    "    os.system('git commit -m \"{}\"'.format(comment)) #commit all files\n",
    "    os.system('git push -u origin {} --force'.format(branch))\n",
    "\n",
    "def refresh(comment='auto',branch='master'):\n",
    "    \"Builds nbdev library and docs.\"\n",
    "    os.system('nbdev_build_lib') #build core python module\n",
    "    os.system('nbdev_install_git_hooks')\n",
    "    os.system('nbdev_build_docs') #build code documentation\n",
    "    push(comment=comment,branch=branch)\n",
    "\n",
    "def backup(comment='Backup'):\n",
    "    \"Like `Push` but with branch set to `backup`.\"\n",
    "    os.system('git branch -M backup')\n",
    "    os.system('git add -A') #stage all files\n",
    "    os.system('git commit -m \"{}\"'.format(comment)) #commit all files\n",
    "    os.system('git push -u origin backup --force')"
   ]
  },
  {
   "cell_type": "code",
   "execution_count": null,
   "id": "arranged-wagon",
   "metadata": {},
   "outputs": [],
   "source": [
    "#export\n",
    "def fig_params(reset : bool = False,\n",
    "              X : float = 3.5,\n",
    "              Y : float = 3,\n",
    "              hspace : float = 0.0,\n",
    "              offset : float = -.4,\n",
    "              font : str = 'Times New Roman',\n",
    "              fontsize : int = 12,\n",
    "              ticksize : int = 6,\n",
    "              tickwidth : int = 2,\n",
    "              linewidth : int = 2\n",
    "             ):\n",
    "    '''\n",
    "    Changes the `rcParams` for plotting, with the option to `reset` to default.\n",
    "    '''\n",
    "    if reset:\n",
    "        mpl.rcParams.update(mpl.rcParamsDefault)\n",
    "    else:\n",
    "        #figure font Times New Roman,Helvetica, Arial, Cambria, or Symbol\n",
    "        mpl.rcParams['font.family'] = font\n",
    "        mpl.rcParams['font.size'] = fontsize \n",
    "        mpl.rcParams['axes.titlesize'] = fontsize \n",
    "        mpl.rcParams['axes.linewidth'] = linewidth \n",
    "        mpl.rcParams['axes.titley'] = offset\n",
    "\n",
    "\n",
    "        mpl.rcParams['xtick.major.size'] = ticksize\n",
    "        mpl.rcParams['xtick.major.width'] = tickwidth\n",
    "        mpl.rcParams['xtick.minor.size'] = ticksize//2\n",
    "        mpl.rcParams['xtick.minor.width'] = tickwidth//2\n",
    "        mpl.rcParams['xtick.direction']='out'\n",
    "\n",
    "        mpl.rcParams['ytick.major.size'] = ticksize\n",
    "        mpl.rcParams['ytick.major.width'] = tickwidth\n",
    "        mpl.rcParams['ytick.minor.size'] = ticksize//2\n",
    "        mpl.rcParams['ytick.minor.width'] = tickwidth//2\n",
    "        mpl.rcParams['ytick.direction']='out'\n",
    "\n",
    "        mpl.rcParams['figure.figsize'] = [X,Y]\n",
    "        mpl.rcParams['figure.subplot.hspace'] = hspace\n",
    "\n",
    "def force_aspect(ax : mpl.axes,\n",
    "                aspect : int = 1):\n",
    "    '''\n",
    "    Forces the aspect of the axes object `ax`.\n",
    "    '''\n",
    "    im = ax.get_images()\n",
    "    extent =  im[0].get_extent()\n",
    "    ax.set_aspect(abs((extent[1]-extent[0])/(extent[3]-extent[2]))/aspect)\n",
    "    \n",
    "def matshow(x : np.ndarray,\n",
    "            aspect : int = 1,\n",
    "            save : bool = True,\n",
    "            fname : str = 'test'):\n",
    "    '''\n",
    "    Simplified image plot of matrix `x` with forced `aspect` that can save `fname` to `path`. \n",
    "    '''\n",
    "    fig,ax=plt.subplots()\n",
    "    ax.matshow(x)\n",
    "    force_aspect(ax,aspect)\n",
    "    if save:\n",
    "        plt.savefig(fname, dpi=600,transparent=False, bbox_inches='tight')"
   ]
  },
  {
   "cell_type": "code",
   "execution_count": null,
   "id": "ruled-tuning",
   "metadata": {},
   "outputs": [],
   "source": [
    "#export\n",
    "class RNG:\n",
    "    '''\n",
    "    Globally stable random number generator. Initialized with fixed `seed`.\n",
    "    Contains `normal`, `random`, and `multimodal` methods, each with an \n",
    "    `absval` and `asint` argument, which convert to positive values \n",
    "    and round to integers respectively.\n",
    "    '''\n",
    "    \n",
    "    overloaded = ['random','normal']\n",
    "    \n",
    "    def __init__(self, seed : Optional[int] = None, update = False):\n",
    "        self.rng=np.random.default_rng(seed)\n",
    "        if update:\n",
    "            self.update()\n",
    "\n",
    "    def typecast(self,\n",
    "                 y : Union[int,float],\n",
    "                 absval : bool = False,\n",
    "                 asint : bool = False) -> Union[int,float,np.ndarray]:\n",
    "        if absval:\n",
    "            y=abs(y)\n",
    "        if asint:\n",
    "            y=np.rint(y).astype(int)\n",
    "        return y\n",
    "\n",
    "    def normal(self,\n",
    "               x : Union[list,float,int] = 0,\n",
    "               y : Union[list,float,int] = 0,\n",
    "               shape : Optional[tuple] = None,\n",
    "               absval : bool = False,\n",
    "               asint : bool = False,\n",
    "               clip = None\n",
    "              ) -> Union[int,float,np.ndarray]:\n",
    "        '''\n",
    "        Draw from a Gaussian distribution with mean `x` and standard deviation `y`.\n",
    "        If `shape` is not None, return a numpy array of draws.\n",
    "        '''\n",
    "        res = self.rng.normal(loc=x,scale=y,size=shape)\n",
    "        if clip:\n",
    "            res = np.clip(res,*clip)\n",
    "        return self.typecast(res,absval=absval,asint=asint)\n",
    "\n",
    "    def random(self,\n",
    "               x : Union[list,float,int] = 0,\n",
    "               y : Union[list,float,int] = 0,\n",
    "               shape : Optional[tuple] = None,\n",
    "               absval : bool = False,\n",
    "               asint : bool = False) -> Union[int,float,np.ndarray]:\n",
    "        '''\n",
    "        Draw from a uniform distribution in the interval [`x`,`y`].\n",
    "        If `shape` is not None, return a numpy array of draws.\n",
    "        '''\n",
    "        if hasattr(x,'__iter__') and hasattr(y,'__iter__'):\n",
    "            res = []\n",
    "            for xi,yi in zip(x,y):\n",
    "                res += [xi+(yi-xi)*self.rng.random(size=shape)]\n",
    "            res = self.typecast(np.array(res),absval=absval,asint=asint)\n",
    "        else:\n",
    "            res = self.typecast(x+(y-x)*self.rng.random(size=shape),\n",
    "                                absval=absval,asint=asint)\n",
    "        return res\n",
    "    \n",
    "    def __getattr__(self,attr):\n",
    "        if attr in RNG.overloaded:\n",
    "            return getattr(self,attr)\n",
    "        else:\n",
    "            return getattr(self.rng,attr)\n",
    "        \n",
    "    def update(self):\n",
    "        '''\n",
    "        Force all the rng functions into\n",
    "        the global namespace. This is unsafe,\n",
    "        but convenient. Running it e.g causes\n",
    "        `random` to be callable without an RNG instance.\n",
    "        '''\n",
    "        for i in dir(self.rng):\n",
    "            if i[0]!='_':\n",
    "                globals().update({i:getattr(self,i)})"
   ]
  },
  {
   "cell_type": "code",
   "execution_count": null,
   "id": "found-factor",
   "metadata": {},
   "outputs": [],
   "source": [
    "rng=RNG(seed=0,update=True)"
   ]
  },
  {
   "cell_type": "code",
   "execution_count": null,
   "id": "seasonal-radio",
   "metadata": {},
   "outputs": [
    {
     "data": {
      "text/plain": [
       "0.6369616873214543"
      ]
     },
     "execution_count": null,
     "metadata": {},
     "output_type": "execute_result"
    }
   ],
   "source": [
    "random(0,1)"
   ]
  },
  {
   "cell_type": "code",
   "execution_count": null,
   "id": "perfect-papua",
   "metadata": {},
   "outputs": [
    {
     "data": {
      "text/plain": [
       "array([[-0.13210486,  2.2808453 ],\n",
       "       [ 0.10490012, -0.07133875],\n",
       "       [ 0.36159505,  3.60800009],\n",
       "       [ 0.94708096, -0.40747047],\n",
       "       [-1.26542147, -0.24654893],\n",
       "       [ 0.04132598, -3.65006155],\n",
       "       [-0.21879166, -1.49182189],\n",
       "       [-0.73226735, -0.08851797],\n",
       "       [-0.31630016,  1.82326107],\n",
       "       [ 1.04251337,  0.74293067]])"
      ]
     },
     "execution_count": null,
     "metadata": {},
     "output_type": "execute_result"
    }
   ],
   "source": [
    "normal([0,1],[1,2],shape=(10,2))"
   ]
  },
  {
   "cell_type": "code",
   "execution_count": null,
   "id": "designing-breast",
   "metadata": {},
   "outputs": [
    {
     "name": "stdout",
     "output_type": "stream",
     "text": [
      "[[0.12428328 0.67062441]]\n",
      "[ 0.35151007 10.90347018]\n",
      "['c']\n"
     ]
    }
   ],
   "source": [
    "print(random(x=0,y=1,shape=(1,2)))\n",
    "print(normal(x=[0,10],y=[1,1],shape=None))\n",
    "print(choice(['a','b','c'],1))"
   ]
  },
  {
   "cell_type": "code",
   "execution_count": null,
   "id": "aggressive-better",
   "metadata": {},
   "outputs": [
    {
     "name": "stdout",
     "output_type": "stream",
     "text": [
      "Converted 00_utils.ipynb.\n",
      "Converted 01_conversion.ipynb.\n",
      "Converted 02_recursion.ipynb.\n",
      "Converted 03_templates.ipynb.\n",
      "Converted index.ipynb.\n"
     ]
    }
   ],
   "source": [
    "#hide\n",
    "refresh(branch='master',comment='Changes to timer wrapper and RNG class.')\n",
    "#notebook2script()"
   ]
  },
  {
   "cell_type": "code",
   "execution_count": null,
   "id": "fresh-voltage",
   "metadata": {},
   "outputs": [],
   "source": []
  }
 ],
 "metadata": {
  "kernelspec": {
   "display_name": "Python 3",
   "language": "python",
   "name": "python3"
  }
 },
 "nbformat": 4,
 "nbformat_minor": 5
}
