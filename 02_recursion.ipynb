{
 "cells": [
  {
   "cell_type": "code",
   "execution_count": null,
   "id": "thirty-james",
   "metadata": {},
   "outputs": [],
   "source": [
    "# default_exp recursion"
   ]
  },
  {
   "cell_type": "markdown",
   "id": "closing-corporation",
   "metadata": {},
   "source": [
    "# recursion\n",
    "\n",
    "> This module contains recursive algorithms for accessing, sorting, and analyzing most python objects. The most powerful functions are `get`, `give`, and `sort`. Simple utils include `depth` and `flatten`."
   ]
  },
  {
   "cell_type": "code",
   "execution_count": null,
   "id": "prescription-drilling",
   "metadata": {},
   "outputs": [],
   "source": [
    "#hide\n",
    "from nbdev import *\n",
    "from nbdev.imports import *\n",
    "from nbdev.export import *\n",
    "from nbdev.sync import *\n",
    "from nbdev.showdoc import *"
   ]
  },
  {
   "cell_type": "code",
   "execution_count": null,
   "id": "consistent-spouse",
   "metadata": {},
   "outputs": [],
   "source": [
    "#hide\n",
    "%load_ext autoreload\n",
    "%autoreload 2"
   ]
  },
  {
   "cell_type": "code",
   "execution_count": null,
   "id": "monetary-contractor",
   "metadata": {},
   "outputs": [
    {
     "name": "stderr",
     "output_type": "stream",
     "text": [
      "C:\\Anaconda3\\lib\\site-packages\\numpy\\_distributor_init.py:32: UserWarning: loaded more than 1 DLL from .libs:\n",
      "C:\\Anaconda3\\lib\\site-packages\\numpy\\.libs\\libopenblas.NOIJJG62EMASZI6NYURL6JBKM4EVBGM7.gfortran-win_amd64.dll\n",
      "C:\\Anaconda3\\lib\\site-packages\\numpy\\.libs\\libopenblas.PYQHXLVVQ7VESDPUVUADXEVJOBGHJPAY.gfortran-win_amd64.dll\n",
      "  stacklevel=1)\n"
     ]
    }
   ],
   "source": [
    "#export\n",
    "import typing\n",
    "import numpy as np\n",
    "from typing import Optional, Tuple, Dict, Callable, Union, Mapping, Sequence, Iterable\n",
    "from functools import partial\n",
    "import warnings\n",
    "from sidis.conversion import cast,convert\n",
    "import collections"
   ]
  },
  {
   "cell_type": "markdown",
   "id": "acute-austin",
   "metadata": {},
   "source": [
    "# depth and flattening\n",
    "> For nested lists and dicts, it's often convenient to know how deep the rabbit hole goes, and extract every element into a single iterable."
   ]
  },
  {
   "cell_type": "code",
   "execution_count": null,
   "id": "ambient-beast",
   "metadata": {},
   "outputs": [],
   "source": [
    "#export\n",
    "def depth(obj : Union[dict,list]):\n",
    "    '''\n",
    "    Recursively sort the number of layers of a nested\n",
    "    list or dictionary `x`.\n",
    "    '''\n",
    "    if type(obj) is dict and obj:\n",
    "        return 1 + max(depth(obj[a]) for a in obj)\n",
    "    if type(obj) is list and obj:\n",
    "        return 1 + max(depth(a) for a in obj)\n",
    "    return 0\n"
   ]
  },
  {
   "cell_type": "code",
   "execution_count": null,
   "id": "concerned-referral",
   "metadata": {},
   "outputs": [
    {
     "data": {
      "text/markdown": [
       "<h4 id=\"depth\" class=\"doc_header\"><code>depth</code><a href=\"__main__.py#L2\" class=\"source_link\" style=\"float:right\">[source]</a></h4>\n",
       "\n",
       "> <code>depth</code>(**`obj`**:`Union`\\[`dict`, `list`\\])\n",
       "\n",
       "Recursively sort the number of layers of a nested\n",
       "list or dictionary `x`."
      ],
      "text/plain": [
       "<IPython.core.display.Markdown object>"
      ]
     },
     "metadata": {},
     "output_type": "display_data"
    }
   ],
   "source": [
    "show_doc(depth)"
   ]
  },
  {
   "cell_type": "code",
   "execution_count": null,
   "id": "established-material",
   "metadata": {},
   "outputs": [
    {
     "data": {
      "text/plain": [
       "3"
      ]
     },
     "execution_count": null,
     "metadata": {},
     "output_type": "execute_result"
    }
   ],
   "source": [
    "depth([0,[1,[2]]])"
   ]
  },
  {
   "cell_type": "code",
   "execution_count": null,
   "id": "strange-ebony",
   "metadata": {},
   "outputs": [
    {
     "data": {
      "text/plain": [
       "3"
      ]
     },
     "execution_count": null,
     "metadata": {},
     "output_type": "execute_result"
    }
   ],
   "source": [
    "depth({0:{0:{0:0}}})"
   ]
  },
  {
   "cell_type": "code",
   "execution_count": null,
   "id": "adapted-garlic",
   "metadata": {},
   "outputs": [],
   "source": [
    "#export\n",
    "def flatten(obj : Union[dict,list], parent_key='',sep=','):\n",
    "    '''\n",
    "    Concatenate the nested input `obj` into an equivalent\n",
    "    datastructure of depth 1. Uses the `parent_key` and `sep`\n",
    "    arg to combine nested dictionary keys.\n",
    "    '''\n",
    "\n",
    "    def flatten_list(obj):\n",
    "        if obj == []:\n",
    "            return obj\n",
    "        if isinstance(obj[0], list):\n",
    "            return flatten_list(obj[0]) + flatten_list(obj[1:])\n",
    "        return obj[:1] + flatten_list(obj[1:])\n",
    "    \n",
    "    def flatten_dict(obj=obj,parent_key=parent_key,sep=sep):\n",
    "        items = []\n",
    "        for k, v in obj.items():\n",
    "            new_key = parent_key + sep + str(k) if parent_key else str(k)\n",
    "            if isinstance(v, collections.abc.MutableMapping):\n",
    "                items.extend(flatten_dict(v, new_key, sep=sep).items())\n",
    "            else:\n",
    "                items.append((new_key, v))\n",
    "        return dict(items)\n",
    "    \n",
    "    if type(obj) is dict:\n",
    "            return flatten_dict(obj)\n",
    "    elif type(obj) is list:\n",
    "        return flatten_list(obj)\n"
   ]
  },
  {
   "cell_type": "code",
   "execution_count": null,
   "id": "dried-reminder",
   "metadata": {},
   "outputs": [
    {
     "data": {
      "text/markdown": [
       "<h4 id=\"flatten\" class=\"doc_header\"><code>flatten</code><a href=\"__main__.py#L2\" class=\"source_link\" style=\"float:right\">[source]</a></h4>\n",
       "\n",
       "> <code>flatten</code>(**`obj`**:`Union`\\[`dict`, `list`\\], **`parent_key`**=*`''`*, **`sep`**=*`','`*)\n",
       "\n",
       "Concatenate the nested input `obj` into an equivalent\n",
       "datastructure of depth 1. Uses the `parent_key` and `sep`\n",
       "arg to combine nested dictionary keys."
      ],
      "text/plain": [
       "<IPython.core.display.Markdown object>"
      ]
     },
     "metadata": {},
     "output_type": "display_data"
    }
   ],
   "source": [
    "show_doc(flatten)"
   ]
  },
  {
   "cell_type": "code",
   "execution_count": null,
   "id": "stock-architect",
   "metadata": {},
   "outputs": [
    {
     "data": {
      "text/plain": [
       "[0, 1, 2, 3]"
      ]
     },
     "execution_count": null,
     "metadata": {},
     "output_type": "execute_result"
    }
   ],
   "source": [
    "flatten([0,[1,[2,[3]]]])"
   ]
  },
  {
   "cell_type": "code",
   "execution_count": null,
   "id": "vocal-determination",
   "metadata": {},
   "outputs": [
    {
     "name": "stdout",
     "output_type": "stream",
     "text": [
      "{'a': 0, 'b,c': 1, 'b,d,e': 2}\n"
     ]
    }
   ],
   "source": [
    "i=flatten({'a':0,'b':{'c':1,'d':{'e':2}}})\n",
    "print(i)"
   ]
  },
  {
   "cell_type": "code",
   "execution_count": null,
   "id": "attractive-kitty",
   "metadata": {},
   "outputs": [],
   "source": [
    "#export\n",
    "def inflate(d : dict, sep=\",\"):\n",
    "    '''\n",
    "    Un-flatten a flattened nested dictionary `d` with\n",
    "    concatenated key separation `sep`.\n",
    "    '''\n",
    "    items = dict()\n",
    "    for k, v in d.items():\n",
    "        keys = k.split(sep)\n",
    "        sub_items = items\n",
    "        for ki in keys[:-1]:\n",
    "            try:\n",
    "                sub_items = sub_items[ki]\n",
    "            except KeyError:\n",
    "                sub_items[ki] = dict()\n",
    "                sub_items = sub_items[ki]\n",
    "            \n",
    "        sub_items[keys[-1]] = v\n",
    "\n",
    "    return items"
   ]
  },
  {
   "cell_type": "code",
   "execution_count": null,
   "id": "blank-childhood",
   "metadata": {},
   "outputs": [
    {
     "data": {
      "text/markdown": [
       "<h4 id=\"inflate\" class=\"doc_header\"><code>inflate</code><a href=\"__main__.py#L2\" class=\"source_link\" style=\"float:right\">[source]</a></h4>\n",
       "\n",
       "> <code>inflate</code>(**`d`**:`dict`, **`sep`**=*`','`*)\n",
       "\n",
       "Un-flatten a flattened nested dictionary `d` with\n",
       "concatenated key separation `sep`."
      ],
      "text/plain": [
       "<IPython.core.display.Markdown object>"
      ]
     },
     "metadata": {},
     "output_type": "display_data"
    }
   ],
   "source": [
    "show_doc(inflate)"
   ]
  },
  {
   "cell_type": "code",
   "execution_count": null,
   "id": "faced-missouri",
   "metadata": {},
   "outputs": [
    {
     "data": {
      "text/plain": [
       "{'a': 0, 'b': {'c': 1, 'd': {'e': 2}}}"
      ]
     },
     "execution_count": null,
     "metadata": {},
     "output_type": "execute_result"
    }
   ],
   "source": [
    "inflate(i)"
   ]
  },
  {
   "cell_type": "markdown",
   "id": "apart-westminster",
   "metadata": {},
   "source": [
    "## get and give\n",
    "> These functions access and assign elements, attributes, methods, and function calls of arbitrary python objects and return what sticks."
   ]
  },
  {
   "cell_type": "code",
   "execution_count": null,
   "id": "rental-professor",
   "metadata": {},
   "outputs": [],
   "source": [
    "#export\n",
    "def get(obj : Union[object,dict,list,tuple,callable,np.ndarray],\n",
    "        *args : Union[None,str,int,float,tuple,list,dict],\n",
    "        retnone : bool = True,\n",
    "        call : bool = False,\n",
    "        **kwargs\n",
    "       ) -> Union[object,dict,list,tuple,callable,int,float,set,np.ndarray]:\n",
    "    '''\n",
    "    Recursively accesses `obj` by the given ordered attributes/keys/indexes `args`.\n",
    "    \n",
    "    If `call`, the last accessed object will try to call any **kwargs.\n",
    "    \n",
    "    If `retnone`, returns None if \n",
    "    the object can't be accessed by any of the args; else, returns `obj`. \n",
    "    '''\n",
    "    res=obj\n",
    "    for attr in args:#cast(args,list):\n",
    "        try: #list, arr, tuple w/index=attr, dict w/ key=attr\n",
    "            res=res[attr]\n",
    "        except: \n",
    "            try: #class object w/ attr\n",
    "                res=getattr(res,attr)\n",
    "            except: #method or callable\n",
    "                try:\n",
    "                    res=res(attr)\n",
    "                except:\n",
    "                    pass\n",
    "                    #try:\n",
    "                        #res=res(res,**kwargs)\n",
    "                    #except:\n",
    "                        #pass\n",
    "    if call:\n",
    "        try:\n",
    "            res=res(**kwargs)\n",
    "        except:\n",
    "            res=res\n",
    "    \n",
    "    if res is not obj:\n",
    "        return res#cast(res,to) \n",
    "    else:\n",
    "        return (None if retnone else obj)"
   ]
  },
  {
   "cell_type": "code",
   "execution_count": null,
   "id": "varied-superior",
   "metadata": {},
   "outputs": [
    {
     "data": {
      "text/markdown": [
       "<h4 id=\"get\" class=\"doc_header\"><code>get</code><a href=\"__main__.py#L2\" class=\"source_link\" style=\"float:right\">[source]</a></h4>\n",
       "\n",
       "> <code>get</code>(**`obj`**:`Union`\\[`object`, `dict`, `list`, `tuple`, `callable`, `ndarray`\\], **\\*`args`**:`Union`\\[`NoneType`, `str`, `int`, `float`, `tuple`, `list`, `dict`\\], **`retnone`**:`bool`=*`True`*, **`call`**:`bool`=*`False`*, **\\*\\*`kwargs`**)\n",
       "\n",
       "Recursively accesses `obj` by the given ordered attributes/keys/indexes `args`.\n",
       "\n",
       "If `call`, the last accessed object will try to call any **kwargs.\n",
       "\n",
       "If `retnone`, returns None if \n",
       "the object can't be accessed by any of the args; else, returns `obj`. "
      ],
      "text/plain": [
       "<IPython.core.display.Markdown object>"
      ]
     },
     "metadata": {},
     "output_type": "display_data"
    }
   ],
   "source": [
    "show_doc(get)"
   ]
  },
  {
   "cell_type": "code",
   "execution_count": null,
   "id": "amazing-canyon",
   "metadata": {},
   "outputs": [
    {
     "data": {
      "text/plain": [
       "array([0, 1])"
      ]
     },
     "execution_count": null,
     "metadata": {},
     "output_type": "execute_result"
    }
   ],
   "source": [
    "a=np.array([[0,1],[2,3]])\n",
    "get(a,0)"
   ]
  },
  {
   "cell_type": "code",
   "execution_count": null,
   "id": "serial-arbitration",
   "metadata": {},
   "outputs": [],
   "source": [
    "get(a,'doesnt exist')"
   ]
  },
  {
   "cell_type": "code",
   "execution_count": null,
   "id": "quick-ground",
   "metadata": {},
   "outputs": [
    {
     "data": {
      "text/plain": [
       "array([[0, 1],\n",
       "       [2, 3]])"
      ]
     },
     "execution_count": null,
     "metadata": {},
     "output_type": "execute_result"
    }
   ],
   "source": [
    "get(a,'doesnt exist',retnone=False)"
   ]
  },
  {
   "cell_type": "code",
   "execution_count": null,
   "id": "israeli-joshua",
   "metadata": {},
   "outputs": [
    {
     "data": {
      "text/plain": [
       "<function ndarray.mean>"
      ]
     },
     "execution_count": null,
     "metadata": {},
     "output_type": "execute_result"
    }
   ],
   "source": [
    "get(a,'mean')"
   ]
  },
  {
   "cell_type": "code",
   "execution_count": null,
   "id": "powered-camping",
   "metadata": {},
   "outputs": [
    {
     "data": {
      "text/plain": [
       "array([0.5, 2.5])"
      ]
     },
     "execution_count": null,
     "metadata": {},
     "output_type": "execute_result"
    }
   ],
   "source": [
    "get(a,'mean',-1)"
   ]
  },
  {
   "cell_type": "code",
   "execution_count": null,
   "id": "disabled-consultancy",
   "metadata": {},
   "outputs": [
    {
     "data": {
      "text/plain": [
       "array([0.5, 2.5])"
      ]
     },
     "execution_count": null,
     "metadata": {},
     "output_type": "execute_result"
    }
   ],
   "source": [
    "get(a,'mean',call=True,axis=-1)"
   ]
  },
  {
   "cell_type": "code",
   "execution_count": null,
   "id": "normal-festival",
   "metadata": {},
   "outputs": [
    {
     "data": {
      "text/plain": [
       "1.5"
      ]
     },
     "execution_count": null,
     "metadata": {},
     "output_type": "execute_result"
    }
   ],
   "source": [
    "get(a,'mean',call=True)"
   ]
  },
  {
   "cell_type": "code",
   "execution_count": null,
   "id": "nominated-mexico",
   "metadata": {},
   "outputs": [
    {
     "data": {
      "text/plain": [
       "1.5"
      ]
     },
     "execution_count": null,
     "metadata": {},
     "output_type": "execute_result"
    }
   ],
   "source": [
    "get(a,'mean','doesnt exist',call=True)"
   ]
  },
  {
   "cell_type": "markdown",
   "id": "adverse-accuracy",
   "metadata": {},
   "source": [
    "This function is extremely powerful. Because it tries to access different data structures, and skips any it can't access, `get` can be used in very flexible and exploratory programming styles in order to extract data and perform transformations. \n",
    "\n",
    "Next, we will use a similar method to insert arbitrary methods and data into objects with `give`."
   ]
  },
  {
   "cell_type": "code",
   "execution_count": null,
   "id": "recovered-thread",
   "metadata": {},
   "outputs": [],
   "source": [
    "#export\n",
    "def give(obj : Union[object,dict,list,tuple,np.ndarray],\n",
    "        *args : Union[str,int,float,tuple,list,dict],\n",
    "         **kwargs : object\n",
    "       ) -> Union[object,dict,list,tuple,np.ndarray]:\n",
    "    '''\n",
    "    `get`s the `args` level of `obj` and then inserts `kwargs` at the \n",
    "    resulting position in the datastructure.\n",
    "    '''\n",
    "    #args=Astype(args,list)\n",
    "    if kwargs=={}:# no key-value pairs to set, use last ordered arg, assuming len(args)>1:\n",
    "        if len(args)<2:\n",
    "            print('Not enough args or kwargs.')\n",
    "            return None\n",
    "        elif len(args)==2: #index by first, set value of second\n",
    "            try:\n",
    "                obj[args[0]]=args[1]\n",
    "            except: \n",
    "                try: \n",
    "                    setattr(obj,args[0],args[1])\n",
    "                except: \n",
    "                    print(f\"Could not access up to {args[:-1]} and/or apply {args[-1]}.\")\n",
    "                    return None\n",
    "        elif len(args)>2: #get up to -3, access by -2, set value with -1\n",
    "            temp=get(obj,*args[:-2]) #need to access temporary variable\n",
    "            #temp[args[-2]]=args[-1]\n",
    "            try: \n",
    "                temp[args[-2]]=args[-1]\n",
    "            except: \n",
    "                try: \n",
    "                    setattr(temp,args[-2],args[-1])\n",
    "                except: \n",
    "                    print(f\"Could not access up to {args[:-1]} and/or apply {args[-1]}.\")\n",
    "                    return None\n",
    "                \n",
    "    else: #dict or obj-like\n",
    "        if len(args)==0: #set key,value pairs or attrs\n",
    "            try:\n",
    "                for k,v in kwargs.items():\n",
    "                    try:\n",
    "                        obj[k]=v\n",
    "                    except:\n",
    "                        setattr(obj,k,v)\n",
    "            except:\n",
    "                print(f\"Could not access {k} and/or apply {v}.\")\n",
    "                return None\n",
    "        else:\n",
    "            try:\n",
    "                temp=get(obj,*args,retnone=False)\n",
    "                for k,v in kwargs.items():\n",
    "                    try:\n",
    "                        temp[k]=v\n",
    "                    except:\n",
    "                        setattr(temp,k,v)\n",
    "            except:\n",
    "                print(f\"Could not access {k} and/or apply {v}.\")\n",
    "                return None  \n",
    "    return None"
   ]
  },
  {
   "cell_type": "code",
   "execution_count": null,
   "id": "meaningful-transfer",
   "metadata": {},
   "outputs": [
    {
     "data": {
      "text/markdown": [
       "<h4 id=\"give\" class=\"doc_header\"><code>give</code><a href=\"__main__.py#L2\" class=\"source_link\" style=\"float:right\">[source]</a></h4>\n",
       "\n",
       "> <code>give</code>(**`obj`**:`Union`\\[`object`, `dict`, `list`, `tuple`, `ndarray`\\], **\\*`args`**:`Union`\\[`str`, `int`, `float`, `tuple`, `list`, `dict`\\], **\\*\\*`kwargs`**:`object`)\n",
       "\n",
       "[`get`](/sidis/recursion.html#get)s the `args` level of `obj` and then inserts `kwargs` at the \n",
       "resulting position in the datastructure."
      ],
      "text/plain": [
       "<IPython.core.display.Markdown object>"
      ]
     },
     "metadata": {},
     "output_type": "display_data"
    }
   ],
   "source": [
    "show_doc(give)"
   ]
  },
  {
   "cell_type": "code",
   "execution_count": null,
   "id": "local-taylor",
   "metadata": {},
   "outputs": [],
   "source": [
    "a=np.array([[0,1],[2,3]])\n",
    "give(a,(1,1),100)"
   ]
  },
  {
   "cell_type": "code",
   "execution_count": null,
   "id": "changing-happiness",
   "metadata": {},
   "outputs": [
    {
     "data": {
      "text/plain": [
       "array([[  0,   1],\n",
       "       [  2, 100]])"
      ]
     },
     "execution_count": null,
     "metadata": {},
     "output_type": "execute_result"
    }
   ],
   "source": [
    "a #arrays must be accessed using tuples"
   ]
  },
  {
   "cell_type": "code",
   "execution_count": null,
   "id": "cardiac-squad",
   "metadata": {},
   "outputs": [
    {
     "name": "stdout",
     "output_type": "stream",
     "text": [
      "[[0, 1], [2, 100]]\n"
     ]
    }
   ],
   "source": [
    "a=[[0,1],[2,3]]\n",
    "give(a,1,1,100)\n",
    "print(a) #lists must be accessed using sequences"
   ]
  },
  {
   "cell_type": "markdown",
   "id": "prescription-problem",
   "metadata": {},
   "source": [
    "Let's use a more complex example. We'll use a networkx graph object to create a simple ring of nodes 0->1->2->0 and apply some attributes."
   ]
  },
  {
   "cell_type": "code",
   "execution_count": null,
   "id": "norman-hopkins",
   "metadata": {},
   "outputs": [],
   "source": [
    "import networkx as nx\n",
    "g=nx.DiGraph()\n",
    "g.add_edges_from([(0,1),(1,2),(2,0)])"
   ]
  },
  {
   "cell_type": "code",
   "execution_count": null,
   "id": "round-fleet",
   "metadata": {},
   "outputs": [
    {
     "data": {
      "text/plain": [
       "[{}, {}, {}]"
      ]
     },
     "execution_count": null,
     "metadata": {},
     "output_type": "execute_result"
    }
   ],
   "source": [
    "[get(g.edges,e,['weight']) for e in g.edges] #normally this would produce an error!"
   ]
  },
  {
   "cell_type": "code",
   "execution_count": null,
   "id": "advisory-hundred",
   "metadata": {},
   "outputs": [
    {
     "data": {
      "text/plain": [
       "[None, None, None]"
      ]
     },
     "execution_count": null,
     "metadata": {},
     "output_type": "execute_result"
    }
   ],
   "source": [
    "[give(g.edges,e,weight=np.random.random(1)) for e in g.edges] #give returns none"
   ]
  },
  {
   "cell_type": "code",
   "execution_count": null,
   "id": "geographic-filter",
   "metadata": {},
   "outputs": [
    {
     "name": "stdout",
     "output_type": "stream",
     "text": [
      "(0, 1) [0.6939003]\n",
      "(1, 2) [0.42384944]\n",
      "(2, 0) [0.1882669]\n"
     ]
    }
   ],
   "source": [
    "for e in g.edges: #newly applied values\n",
    "    print(e,g.edges[e]['weight'])"
   ]
  },
  {
   "cell_type": "code",
   "execution_count": null,
   "id": "continuous-boost",
   "metadata": {},
   "outputs": [
    {
     "data": {
      "text/plain": [
       "[{}, {}, {}]"
      ]
     },
     "execution_count": null,
     "metadata": {},
     "output_type": "execute_result"
    }
   ],
   "source": [
    "[get(g.nodes,n,'a') for n in g.nodes] #normally would give error!"
   ]
  },
  {
   "cell_type": "code",
   "execution_count": null,
   "id": "broken-extra",
   "metadata": {},
   "outputs": [
    {
     "data": {
      "text/plain": [
       "[array([0.21570387]), array([0.3114697]), array([0.6898912])]"
      ]
     },
     "execution_count": null,
     "metadata": {},
     "output_type": "execute_result"
    }
   ],
   "source": [
    "[give(g.nodes,n,a=np.random.random(1)) for n in g.nodes]\n",
    "[get(g.nodes,n,'a') for n in g.nodes]"
   ]
  },
  {
   "cell_type": "markdown",
   "id": "reasonable-resistance",
   "metadata": {},
   "source": [
    "These functions can be used in many more ways than those shown here, and encourage exploratory programming. "
   ]
  },
  {
   "cell_type": "markdown",
   "id": "infrared-yahoo",
   "metadata": {},
   "source": [
    "## sort\n",
    "\n",
    "> Now we examine sorting data structures with `sort` using `get`."
   ]
  },
  {
   "cell_type": "code",
   "execution_count": null,
   "id": "african-federal",
   "metadata": {},
   "outputs": [],
   "source": [
    "#export\n",
    "def sort(obj : Iterable,\n",
    "         *args : Union[None,str,int,float,tuple,list,dict],\n",
    "         by : Union[None,object,dict,list,tuple,callable,np.ndarray] = None,#lambda o: o,\n",
    "         key : callable = lambda t: get(t,-1,retnone=False) if get(t,-1,retnone=False) else 0,#lambda t:t[-1] if depth(t)!=0 else t,\n",
    "         sift : callable = lambda t: True,# if get(t,-1,retnone=False) else False,\n",
    "         reverse : bool = True\n",
    "        ) -> Union[None,int,float,list,tuple,str,dict,np.ndarray]:\n",
    "    '''\n",
    "    Recursively sorts `obj` `by` `args` using `key`.\n",
    "    \n",
    "    Treats `obj` as an iterator and wraps `by` around the elements of `obj`,\n",
    "    \n",
    "    before optionally wrapping any remaining `args`, and returning the evaluated \n",
    "    \n",
    "    tuples generated over `obj`. If `by` is None, searches for `args`. \n",
    "    \n",
    "    If both `by` and `args` is None, sorts over `obj` only : default behavior.\n",
    "    \n",
    "    `sift` defaults to keeping all elements, while\n",
    "    \n",
    "    `key` defaults to treating empty objects as having value 0.\n",
    "    \n",
    "    `reverse` sorts ascending by default.\n",
    "    \n",
    "    '''\n",
    "    \n",
    "    if by is not None:#if you're sorting over a different evaluation than the object elements\n",
    "    \n",
    "        sorting=filter(sift,[ (i, get( get( by, i, retnone=False), #evaluate inner function\n",
    "                        *args,retnone=False) #and any remaining args\n",
    "                  ) for i in obj]) #over iterable and store tuples then sort\n",
    "    \n",
    "    elif args is not (): #if you're sorting over the object and provide args\n",
    "        \n",
    "        sorting=filter(sift,[get(get(obj,i,retnone=False),*args,retnone=False) for i in obj])\n",
    "    \n",
    "    else: #otherwise you're just sorting the object\n",
    "        \n",
    "        sorting=filter(sift,obj)\n",
    "    \n",
    "    return sorted(sorting,key=key,reverse=reverse)\n"
   ]
  },
  {
   "cell_type": "code",
   "execution_count": null,
   "id": "supported-sunrise",
   "metadata": {},
   "outputs": [
    {
     "data": {
      "text/markdown": [
       "<h4 id=\"sort\" class=\"doc_header\"><code>sort</code><a href=\"__main__.py#L2\" class=\"source_link\" style=\"float:right\">[source]</a></h4>\n",
       "\n",
       "> <code>sort</code>(**`obj`**:`Iterable`\\[`T_co`\\], **\\*`args`**:`Union`\\[`NoneType`, `str`, `int`, `float`, `tuple`, `list`, `dict`\\], **`by`**:`Union`\\[`NoneType`, `object`, `dict`, `list`, `tuple`, `callable`, `ndarray`\\]=*`None`*, **`key`**:`callable`=*`<lambda>`*, **`sift`**:`callable`=*`<lambda>`*, **`reverse`**:`bool`=*`True`*)\n",
       "\n",
       "Recursively sorts `obj` `by` `args` using `key`.\n",
       "\n",
       "Treats `obj` as an iterator and wraps `by` around the elements of `obj`,\n",
       "\n",
       "before optionally wrapping any remaining `args`, and returning the evaluated \n",
       "\n",
       "tuples generated over `obj`. If `by` is None, searches for `args`. \n",
       "\n",
       "If both `by` and `args` is None, sorts over `obj` only : default behavior.\n",
       "\n",
       "`sift` defaults to keeping all elements, while\n",
       "\n",
       "`key` defaults to treating empty objects as having value 0.\n",
       "\n",
       "`reverse` sorts ascending by default."
      ],
      "text/plain": [
       "<IPython.core.display.Markdown object>"
      ]
     },
     "metadata": {},
     "output_type": "display_data"
    }
   ],
   "source": [
    "show_doc(sort)"
   ]
  },
  {
   "cell_type": "code",
   "execution_count": null,
   "id": "republican-evaluation",
   "metadata": {},
   "outputs": [
    {
     "data": {
      "text/plain": [
       "[9, 8, 7, 1, 0]"
      ]
     },
     "execution_count": null,
     "metadata": {},
     "output_type": "execute_result"
    }
   ],
   "source": [
    "sort([9,0,1,8,7])"
   ]
  },
  {
   "cell_type": "code",
   "execution_count": null,
   "id": "fitted-solomon",
   "metadata": {},
   "outputs": [
    {
     "data": {
      "text/plain": [
       "[(8, 2), (1, 1), (7, 1), (9, 0), (0, 0)]"
      ]
     },
     "execution_count": null,
     "metadata": {},
     "output_type": "execute_result"
    }
   ],
   "source": [
    "sort([9,0,1,8,7],by=lambda t:t%3)"
   ]
  },
  {
   "cell_type": "code",
   "execution_count": null,
   "id": "employed-shopper",
   "metadata": {},
   "outputs": [
    {
     "data": {
      "text/plain": [
       "[array([0.6898912]), array([0.3114697]), array([0.21570387])]"
      ]
     },
     "execution_count": null,
     "metadata": {},
     "output_type": "execute_result"
    }
   ],
   "source": [
    "sort(g.nodes,'a')"
   ]
  },
  {
   "cell_type": "code",
   "execution_count": null,
   "id": "artistic-silver",
   "metadata": {},
   "outputs": [
    {
     "data": {
      "text/plain": [
       "[(2, array([0.6898912])), (1, array([0.3114697])), (0, array([0.21570387]))]"
      ]
     },
     "execution_count": null,
     "metadata": {},
     "output_type": "execute_result"
    }
   ],
   "source": [
    "sort(g.nodes,'a',by=g.nodes)"
   ]
  },
  {
   "cell_type": "code",
   "execution_count": null,
   "id": "moving-stereo",
   "metadata": {},
   "outputs": [
    {
     "data": {
      "text/plain": [
       "[array([0.6939003]), array([0.42384944]), array([0.1882669])]"
      ]
     },
     "execution_count": null,
     "metadata": {},
     "output_type": "execute_result"
    }
   ],
   "source": [
    "sort(g.edges,'weight')"
   ]
  },
  {
   "cell_type": "code",
   "execution_count": null,
   "id": "latest-accused",
   "metadata": {},
   "outputs": [
    {
     "data": {
      "text/plain": [
       "[((0, 1), array([0.6939003])),\n",
       " ((1, 2), array([0.42384944])),\n",
       " ((2, 0), array([0.1882669]))]"
      ]
     },
     "execution_count": null,
     "metadata": {},
     "output_type": "execute_result"
    }
   ],
   "source": [
    "sort(g.edges,'weight',by=g.edges)"
   ]
  },
  {
   "cell_type": "code",
   "execution_count": null,
   "id": "graphic-entrepreneur",
   "metadata": {},
   "outputs": [
    {
     "data": {
      "text/plain": [
       "[(0, OutEdgeDataView([(0, 1), (0, 0)])),\n",
       " (1, OutEdgeDataView([(1, 2)])),\n",
       " (2, OutEdgeDataView([(2, 0)]))]"
      ]
     },
     "execution_count": null,
     "metadata": {},
     "output_type": "execute_result"
    }
   ],
   "source": [
    "g.add_edges_from([(0,0)]) #add another edge\n",
    "sort(g.nodes,by=g.edges,key=lambda t:len(sort(list(t[-1])))) #then sort nodes over edges by in-degree"
   ]
  },
  {
   "cell_type": "code",
   "execution_count": null,
   "id": "thermal-envelope",
   "metadata": {},
   "outputs": [
    {
     "data": {
      "text/plain": [
       "[(0, 2), (1, 1), (2, 1)]"
      ]
     },
     "execution_count": null,
     "metadata": {},
     "output_type": "execute_result"
    }
   ],
   "source": [
    "sort(g.nodes,by=g.in_degree) #same as above but relies on 'in_degree' attribute of networkx"
   ]
  },
  {
   "cell_type": "markdown",
   "id": "stupid-carry",
   "metadata": {},
   "source": [
    "In conclusion, `sort` is capable of handling an immense number of possible data structures, and it's best understood by playing around with it and seeing what works! \n",
    "\n",
    "A word of caution though: the more complex and custom the python object, the more difficult it is to typecast. Remember to transform your data so that the `key` lambda performs a valid comparison - since it's a lambda function, it's still up to you to make sure the data types are actually comparable in a way that admits a binary operation."
   ]
  },
  {
   "cell_type": "code",
   "execution_count": null,
   "id": "inner-caribbean",
   "metadata": {},
   "outputs": [
    {
     "name": "stdout",
     "output_type": "stream",
     "text": [
      "Converted 00_utils.ipynb.\n",
      "Converted 01_conversion.ipynb.\n",
      "Converted 02_recursion.ipynb.\n",
      "Converted 03_templates.ipynb.\n",
      "Converted index.ipynb.\n"
     ]
    }
   ],
   "source": [
    "#hide\n",
    "notebook2script()"
   ]
  }
 ],
 "metadata": {
  "kernelspec": {
   "display_name": "Python 3",
   "language": "python",
   "name": "python3"
  }
 },
 "nbformat": 4,
 "nbformat_minor": 5
}
