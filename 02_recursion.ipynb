{
 "cells": [
  {
   "cell_type": "code",
   "execution_count": null,
   "id": "sixth-diversity",
   "metadata": {},
   "outputs": [],
   "source": [
    "# default_exp recursion"
   ]
  },
  {
   "cell_type": "markdown",
   "id": "amber-permit",
   "metadata": {},
   "source": [
    "# recursion\n",
    "\n",
    "> This module contains recursive algorithms for accessing, sorting, and analyzing most python objects. The most powerful functions are `get`, `give`, `sort`, and `maps`. Useful utils include `depth`, `flatten`, and `pipe`."
   ]
  },
  {
   "cell_type": "code",
   "execution_count": null,
   "id": "suited-being",
   "metadata": {},
   "outputs": [],
   "source": [
    "#hide\n",
    "from nbdev import *\n",
    "from nbdev.imports import *\n",
    "from nbdev.export import *\n",
    "from nbdev.sync import *\n",
    "from nbdev.showdoc import *"
   ]
  },
  {
   "cell_type": "code",
   "execution_count": null,
   "id": "judicial-uncle",
   "metadata": {},
   "outputs": [],
   "source": [
    "#hide\n",
    "%load_ext autoreload\n",
    "%autoreload 2"
   ]
  },
  {
   "cell_type": "code",
   "execution_count": null,
   "id": "increasing-lyric",
   "metadata": {},
   "outputs": [],
   "source": [
    "#export\n",
    "import typing\n",
    "import numpy as np\n",
    "from typing import Optional, Tuple, Dict, Callable, Union, Mapping, Sequence, Iterable\n",
    "from functools import partial\n",
    "import warnings\n",
    "from sidis.conversion import cast,convert\n",
    "import collections"
   ]
  },
  {
   "cell_type": "markdown",
   "id": "julian-zoning",
   "metadata": {},
   "source": [
    "# depth and flattening\n",
    "> For nested lists and dicts, it's often convenient to know how deep the rabbit hole goes, and extract every element into a single iterable."
   ]
  },
  {
   "cell_type": "code",
   "execution_count": null,
   "id": "broadband-quantum",
   "metadata": {},
   "outputs": [],
   "source": [
    "#exports\n",
    "def depth(obj : Union[dict,list]):\n",
    "    '''\n",
    "    Recursively sort the number of layers of a nested\n",
    "    list or dictionary `x`.\n",
    "    '''\n",
    "    if type(obj) is dict and obj:\n",
    "        return 1 + max(depth(obj[a]) for a in obj)\n",
    "    if type(obj) is list and obj:\n",
    "        return 1 + max(depth(a) for a in obj)\n",
    "    return 0\n"
   ]
  },
  {
   "cell_type": "code",
   "execution_count": null,
   "id": "stuck-browser",
   "metadata": {},
   "outputs": [
    {
     "data": {
      "text/markdown": [
       "<h4 id=\"depth\" class=\"doc_header\"><code>depth</code><a href=\"__main__.py#L2\" class=\"source_link\" style=\"float:right\">[source]</a></h4>\n",
       "\n",
       "> <code>depth</code>(**`obj`**:`Union`\\[`dict`, `list`\\])\n",
       "\n",
       "Recursively sort the number of layers of a nested\n",
       "list or dictionary `x`."
      ],
      "text/plain": [
       "<IPython.core.display.Markdown object>"
      ]
     },
     "metadata": {},
     "output_type": "display_data"
    }
   ],
   "source": [
    "show_doc(depth)"
   ]
  },
  {
   "cell_type": "code",
   "execution_count": null,
   "id": "coordinated-trailer",
   "metadata": {},
   "outputs": [
    {
     "data": {
      "text/plain": [
       "3"
      ]
     },
     "execution_count": null,
     "metadata": {},
     "output_type": "execute_result"
    }
   ],
   "source": [
    "depth([0,[1,[2]]])"
   ]
  },
  {
   "cell_type": "code",
   "execution_count": null,
   "id": "incorrect-chorus",
   "metadata": {},
   "outputs": [
    {
     "data": {
      "text/plain": [
       "3"
      ]
     },
     "execution_count": null,
     "metadata": {},
     "output_type": "execute_result"
    }
   ],
   "source": [
    "depth({0:{0:{0:0}}})"
   ]
  },
  {
   "cell_type": "code",
   "execution_count": null,
   "id": "synthetic-vegetarian",
   "metadata": {},
   "outputs": [],
   "source": [
    "#export\n",
    "def flatten(obj : Union[dict,list], parent_key='',sep=','):\n",
    "    '''\n",
    "    Concatenate the nested input `obj` into an equivalent\n",
    "    datastructure of depth 1. Uses the `parent_key` and `sep`\n",
    "    arg to combine nested dictionary keys.\n",
    "    https://stackoverflow.com/questions/6027558/flatten-nested-dictionaries-compressing-keys\n",
    "    \n",
    "    '''\n",
    "\n",
    "    def flatten_list(obj):\n",
    "        if obj == []:\n",
    "            return obj\n",
    "        if isinstance(obj[0], list):\n",
    "            return flatten_list(obj[0]) + flatten_list(obj[1:])\n",
    "        return obj[:1] + flatten_list(obj[1:])\n",
    "    \n",
    "    def flatten_dict(obj=obj,parent_key=parent_key,sep=sep):\n",
    "        items = []\n",
    "        for k, v in obj.items():\n",
    "            new_key = parent_key + sep + str(k) if parent_key else str(k)\n",
    "            if isinstance(v, collections.abc.MutableMapping):\n",
    "                items.extend(flatten_dict(v, new_key, sep=sep).items())\n",
    "            else:\n",
    "                items.append((new_key, v))\n",
    "        return dict(items)\n",
    "    \n",
    "    if type(obj) is dict:\n",
    "            return flatten_dict(obj)\n",
    "    elif type(obj) is list:\n",
    "        return flatten_list(obj)\n"
   ]
  },
  {
   "cell_type": "code",
   "execution_count": null,
   "id": "informational-oxford",
   "metadata": {},
   "outputs": [
    {
     "data": {
      "text/markdown": [
       "<h4 id=\"flatten\" class=\"doc_header\"><code>flatten</code><a href=\"__main__.py#L2\" class=\"source_link\" style=\"float:right\">[source]</a></h4>\n",
       "\n",
       "> <code>flatten</code>(**`obj`**:`Union`\\[`dict`, `list`\\], **`parent_key`**=*`''`*, **`sep`**=*`','`*)\n",
       "\n",
       "Concatenate the nested input `obj` into an equivalent\n",
       "datastructure of depth 1. Uses the `parent_key` and `sep`\n",
       "arg to combine nested dictionary keys.\n",
       "https://stackoverflow.com/questions/6027558/flatten-nested-dictionaries-compressing-keys"
      ],
      "text/plain": [
       "<IPython.core.display.Markdown object>"
      ]
     },
     "metadata": {},
     "output_type": "display_data"
    }
   ],
   "source": [
    "show_doc(flatten)"
   ]
  },
  {
   "cell_type": "code",
   "execution_count": null,
   "id": "appointed-western",
   "metadata": {},
   "outputs": [
    {
     "data": {
      "text/plain": [
       "[0, 1, 2, 3]"
      ]
     },
     "execution_count": null,
     "metadata": {},
     "output_type": "execute_result"
    }
   ],
   "source": [
    "flatten([0,[1,[2,[3]]]])"
   ]
  },
  {
   "cell_type": "code",
   "execution_count": null,
   "id": "greatest-lancaster",
   "metadata": {},
   "outputs": [
    {
     "name": "stdout",
     "output_type": "stream",
     "text": [
      "{'a': 0, 'b,c': 1, 'b,d,e': 2}\n"
     ]
    }
   ],
   "source": [
    "i=flatten({'a':0,'b':{'c':1,'d':{'e':2}}})\n",
    "print(i)"
   ]
  },
  {
   "cell_type": "code",
   "execution_count": null,
   "id": "million-office",
   "metadata": {},
   "outputs": [],
   "source": [
    "#export\n",
    "def unflatten(d : dict, sep=\",\"):\n",
    "    '''\n",
    "    Un-flatten a flattened nested dictionary `d` with\n",
    "    concatenated key separation `sep`.\n",
    "    https://gist.github.com/fmder/494aaa2dd6f8c428cede\n",
    "    '''\n",
    "    items = dict()\n",
    "    for k, v in d.items():\n",
    "        keys = k.split(sep)\n",
    "        sub_items = items\n",
    "        for ki in keys[:-1]:\n",
    "            try:\n",
    "                sub_items = sub_items[ki]\n",
    "            except KeyError:\n",
    "                sub_items[ki] = dict()\n",
    "                sub_items = sub_items[ki]\n",
    "            \n",
    "        sub_items[keys[-1]] = v\n",
    "\n",
    "    return items"
   ]
  },
  {
   "cell_type": "code",
   "execution_count": null,
   "id": "trying-waters",
   "metadata": {},
   "outputs": [
    {
     "data": {
      "text/markdown": [
       "<h4 id=\"unflatten\" class=\"doc_header\"><code>unflatten</code><a href=\"__main__.py#L2\" class=\"source_link\" style=\"float:right\">[source]</a></h4>\n",
       "\n",
       "> <code>unflatten</code>(**`d`**:`dict`, **`sep`**=*`','`*)\n",
       "\n",
       "Un-flatten a flattened nested dictionary `d` with\n",
       "concatenated key separation `sep`.\n",
       "https://gist.github.com/fmder/494aaa2dd6f8c428cede"
      ],
      "text/plain": [
       "<IPython.core.display.Markdown object>"
      ]
     },
     "metadata": {},
     "output_type": "display_data"
    }
   ],
   "source": [
    "show_doc(unflatten)"
   ]
  },
  {
   "cell_type": "code",
   "execution_count": null,
   "id": "scenic-proportion",
   "metadata": {},
   "outputs": [
    {
     "data": {
      "text/plain": [
       "{'a': 0, 'b': {'c': 1, 'd': {'e': 2}}}"
      ]
     },
     "execution_count": null,
     "metadata": {},
     "output_type": "execute_result"
    }
   ],
   "source": [
    "unflatten(i)"
   ]
  },
  {
   "cell_type": "markdown",
   "id": "massive-course",
   "metadata": {},
   "source": [
    "## get and give\n",
    "> These functions access and assign elements, attributes, methods, and function calls of arbitrary python objects and return what sticks."
   ]
  },
  {
   "cell_type": "code",
   "execution_count": null,
   "id": "scheduled-contents",
   "metadata": {},
   "outputs": [],
   "source": [
    "#export\n",
    "def get(obj : Union[object,dict,list,tuple,callable,np.ndarray],\n",
    "        *args : Union[None,str,int,float,tuple,list,dict],\n",
    "        retnone : bool = True,\n",
    "        call : bool = False,\n",
    "        **kwargs\n",
    "       ) -> Union[object,dict,list,tuple,callable,int,float,set,np.ndarray]:\n",
    "    '''\n",
    "    Recursively accesses `obj` by the given ordered attributes/keys/indexes `args`.\n",
    "    \n",
    "    If `call`, the last accessed object will try to call any **kwargs.\n",
    "    \n",
    "    If `retnone`, returns None if \n",
    "    the object can't be accessed by any of the args; else, returns `obj`. \n",
    "    '''\n",
    "    res=obj\n",
    "    for attr in args:\n",
    "        try: #list, arr, tuple w/index=attr, dict w/ key=attr\n",
    "            res=res[attr]\n",
    "        except: \n",
    "            try: #class object w/ attr\n",
    "                res=getattr(res,attr)\n",
    "            except: #method or callable\n",
    "                try:\n",
    "                    res=res(attr)\n",
    "                except:\n",
    "                    pass\n",
    "                \n",
    "    if call:\n",
    "        try:\n",
    "            res=res(**kwargs)\n",
    "        except:\n",
    "            res=res\n",
    "    \n",
    "    if res is not obj:\n",
    "        return res\n",
    "    else:\n",
    "        return (None if retnone else obj)"
   ]
  },
  {
   "cell_type": "code",
   "execution_count": null,
   "id": "suspended-gazette",
   "metadata": {},
   "outputs": [
    {
     "data": {
      "text/markdown": [
       "<h4 id=\"get\" class=\"doc_header\"><code>get</code><a href=\"__main__.py#L2\" class=\"source_link\" style=\"float:right\">[source]</a></h4>\n",
       "\n",
       "> <code>get</code>(**`obj`**:`Union`\\[`object`, `dict`, `list`, `tuple`, `callable`, `ndarray`\\], **\\*`args`**:`Union`\\[`NoneType`, `str`, `int`, `float`, `tuple`, `list`, `dict`\\], **`retnone`**:`bool`=*`True`*, **`call`**:`bool`=*`False`*, **\\*\\*`kwargs`**)\n",
       "\n",
       "Recursively accesses `obj` by the given ordered attributes/keys/indexes `args`.\n",
       "\n",
       "If `call`, the last accessed object will try to call any **kwargs.\n",
       "\n",
       "If `retnone`, returns None if \n",
       "the object can't be accessed by any of the args; else, returns `obj`. "
      ],
      "text/plain": [
       "<IPython.core.display.Markdown object>"
      ]
     },
     "metadata": {},
     "output_type": "display_data"
    }
   ],
   "source": [
    "show_doc(get)"
   ]
  },
  {
   "cell_type": "code",
   "execution_count": null,
   "id": "basic-proposition",
   "metadata": {},
   "outputs": [
    {
     "data": {
      "text/plain": [
       "array([0, 1])"
      ]
     },
     "execution_count": null,
     "metadata": {},
     "output_type": "execute_result"
    }
   ],
   "source": [
    "a=np.array([[0,1],[2,3]])\n",
    "get(a,0)"
   ]
  },
  {
   "cell_type": "code",
   "execution_count": null,
   "id": "executive-tumor",
   "metadata": {},
   "outputs": [],
   "source": [
    "get(a,'doesnt exist')"
   ]
  },
  {
   "cell_type": "code",
   "execution_count": null,
   "id": "weird-division",
   "metadata": {},
   "outputs": [
    {
     "data": {
      "text/plain": [
       "array([[0, 1],\n",
       "       [2, 3]])"
      ]
     },
     "execution_count": null,
     "metadata": {},
     "output_type": "execute_result"
    }
   ],
   "source": [
    "get(a,'doesnt exist',retnone=False)"
   ]
  },
  {
   "cell_type": "code",
   "execution_count": null,
   "id": "photographic-bacteria",
   "metadata": {},
   "outputs": [
    {
     "data": {
      "text/plain": [
       "<function ndarray.mean>"
      ]
     },
     "execution_count": null,
     "metadata": {},
     "output_type": "execute_result"
    }
   ],
   "source": [
    "get(a,'mean')"
   ]
  },
  {
   "cell_type": "code",
   "execution_count": null,
   "id": "olympic-workshop",
   "metadata": {},
   "outputs": [
    {
     "data": {
      "text/plain": [
       "array([0.5, 2.5])"
      ]
     },
     "execution_count": null,
     "metadata": {},
     "output_type": "execute_result"
    }
   ],
   "source": [
    "get(a,'mean',-1)"
   ]
  },
  {
   "cell_type": "code",
   "execution_count": null,
   "id": "chicken-fundamentals",
   "metadata": {},
   "outputs": [
    {
     "data": {
      "text/plain": [
       "array([0.5, 2.5])"
      ]
     },
     "execution_count": null,
     "metadata": {},
     "output_type": "execute_result"
    }
   ],
   "source": [
    "get(a,'mean',call=True,axis=-1)"
   ]
  },
  {
   "cell_type": "code",
   "execution_count": null,
   "id": "interested-latest",
   "metadata": {},
   "outputs": [
    {
     "data": {
      "text/plain": [
       "1.5"
      ]
     },
     "execution_count": null,
     "metadata": {},
     "output_type": "execute_result"
    }
   ],
   "source": [
    "get(a,'mean',call=True)"
   ]
  },
  {
   "cell_type": "code",
   "execution_count": null,
   "id": "color-onion",
   "metadata": {},
   "outputs": [
    {
     "data": {
      "text/plain": [
       "1.5"
      ]
     },
     "execution_count": null,
     "metadata": {},
     "output_type": "execute_result"
    }
   ],
   "source": [
    "get(a,'mean','doesnt exist',call=True)"
   ]
  },
  {
   "cell_type": "markdown",
   "id": "interracial-ferry",
   "metadata": {},
   "source": [
    "This function is extremely powerful. Because it tries to access different data structures, and skips any it can't access, `get` can be used in very flexible and exploratory programming styles in order to extract data and perform transformations. \n",
    "\n",
    "Next, we will use a similar method to insert arbitrary methods and data into objects with `give`."
   ]
  },
  {
   "cell_type": "code",
   "execution_count": null,
   "id": "fitting-system",
   "metadata": {},
   "outputs": [],
   "source": [
    "#export\n",
    "def give(obj : Union[object,dict,list,tuple,np.ndarray],\n",
    "        *args : Union[str,int,float,tuple,list,dict],\n",
    "         **kwargs : object\n",
    "       ) -> Union[object,dict,list,tuple,np.ndarray]:\n",
    "    '''\n",
    "    Assign `args` element of `obj` to a value. If no `kwargs`,\n",
    "    assign the last item of `args`. If `kwargs`, assign those.\n",
    "    '''\n",
    "\n",
    "    if kwargs=={}:# no key-value pairs to set, use last ordered arg, assuming len(args)>1:\n",
    "        if len(args)<2:\n",
    "            print('Not enough args or kwargs - require access to elements of obj.')\n",
    "\n",
    "        elif len(args)==2: #index by first, set value of second\n",
    "            try:\n",
    "                obj[args[0]]=args[1]\n",
    "            except: \n",
    "                try: \n",
    "                    setattr(obj,args[0],args[1])\n",
    "                except: \n",
    "                    print(f\"Could not access up to {args[:-1]} and/or apply {args[-1]}.\")\n",
    "                    \n",
    "        elif len(args)>2: #get up to -3, access by -2, set value with -1\n",
    "            temp=get(obj,*args[:-2]) #need to access temporary variable\n",
    "            try: \n",
    "                temp[args[-2]]=args[-1]\n",
    "            except: \n",
    "                try: \n",
    "                    setattr(temp,args[-2],args[-1])\n",
    "                except: \n",
    "                    print(f\"Could not access up to {args[:-1]} and/or apply {args[-1]}.\")\n",
    "                \n",
    "    else: #dict or obj-like\n",
    "        if len(args)==0: #set key,value pairs or attrs\n",
    "            try:\n",
    "                for k,v in kwargs.items():\n",
    "                    try:\n",
    "                        obj[k]=v\n",
    "                    except:\n",
    "                        setattr(obj,k,v)\n",
    "            except:\n",
    "                print(f\"Could not access {k} and/or apply {v}.\")\n",
    "\n",
    "        else:\n",
    "            try:\n",
    "                temp=get(obj,*args,retnone=False)\n",
    "                for k,v in kwargs.items():\n",
    "                    try:\n",
    "                        temp[k]=v\n",
    "                    except:\n",
    "                        setattr(temp,k,v)\n",
    "            except:\n",
    "                print(f\"Could not access {k} and/or apply {v}.\")\n",
    "\n"
   ]
  },
  {
   "cell_type": "code",
   "execution_count": null,
   "id": "coral-bench",
   "metadata": {},
   "outputs": [
    {
     "data": {
      "text/markdown": [
       "<h4 id=\"give\" class=\"doc_header\"><code>give</code><a href=\"__main__.py#L2\" class=\"source_link\" style=\"float:right\">[source]</a></h4>\n",
       "\n",
       "> <code>give</code>(**`obj`**:`Union`\\[`object`, `dict`, `list`, `tuple`, `ndarray`\\], **\\*`args`**:`Union`\\[`str`, `int`, `float`, `tuple`, `list`, `dict`\\], **\\*\\*`kwargs`**:`object`)\n",
       "\n",
       "Assign `args` element of `obj` to a value. If no `kwargs`,\n",
       "assign the last item of `args`. If `kwargs`, assign those."
      ],
      "text/plain": [
       "<IPython.core.display.Markdown object>"
      ]
     },
     "metadata": {},
     "output_type": "display_data"
    }
   ],
   "source": [
    "show_doc(give)"
   ]
  },
  {
   "cell_type": "code",
   "execution_count": null,
   "id": "essential-tuning",
   "metadata": {},
   "outputs": [
    {
     "name": "stdout",
     "output_type": "stream",
     "text": [
      "[1]\n"
     ]
    }
   ],
   "source": [
    "a=[0]\n",
    "give(a,0,1) #give the 0th element of a the value 1\n",
    "print(a)"
   ]
  },
  {
   "cell_type": "markdown",
   "id": "convenient-feature",
   "metadata": {},
   "source": [
    "`give` only works on indexable objects:"
   ]
  },
  {
   "cell_type": "code",
   "execution_count": null,
   "id": "potential-persian",
   "metadata": {},
   "outputs": [
    {
     "name": "stdout",
     "output_type": "stream",
     "text": [
      "Not enough args or kwargs - require access to elements of obj.\n"
     ]
    }
   ],
   "source": [
    "a=0\n",
    "give(a,0)"
   ]
  },
  {
   "cell_type": "code",
   "execution_count": null,
   "id": "executive-intensity",
   "metadata": {},
   "outputs": [
    {
     "data": {
      "text/plain": [
       "array([[  0,   1],\n",
       "       [  2, 100]])"
      ]
     },
     "execution_count": null,
     "metadata": {},
     "output_type": "execute_result"
    }
   ],
   "source": [
    "a=np.array([[0,1],[2,3]])\n",
    "give(a,(1,1),100)\n",
    "a #arrays must be accessed using tuples"
   ]
  },
  {
   "cell_type": "code",
   "execution_count": null,
   "id": "prepared-rental",
   "metadata": {},
   "outputs": [
    {
     "data": {
      "text/plain": [
       "[[0, 1], [2, 100]]"
      ]
     },
     "execution_count": null,
     "metadata": {},
     "output_type": "execute_result"
    }
   ],
   "source": [
    "a=[[0,1],[2,3]]\n",
    "give(a,1,1,100)\n",
    "a #lists must be accessed using sequences"
   ]
  },
  {
   "cell_type": "markdown",
   "id": "framed-briefs",
   "metadata": {},
   "source": [
    "`give` can be used to replace loops:"
   ]
  },
  {
   "cell_type": "code",
   "execution_count": null,
   "id": "owned-border",
   "metadata": {},
   "outputs": [
    {
     "name": "stdout",
     "output_type": "stream",
     "text": [
      "[10]\n"
     ]
    }
   ],
   "source": [
    "a=[0]\n",
    "[give(a,0,a[0]+1) for i in range(10)]\n",
    "print(a)"
   ]
  },
  {
   "cell_type": "markdown",
   "id": "polar-chemistry",
   "metadata": {},
   "source": [
    "Let's use a more complex example. We'll use a networkx graph object to create a simple ring of nodes 0->1->2->0 and apply some attributes."
   ]
  },
  {
   "cell_type": "code",
   "execution_count": null,
   "id": "consecutive-painting",
   "metadata": {},
   "outputs": [],
   "source": [
    "import networkx as nx\n",
    "g=nx.DiGraph()\n",
    "g.add_edges_from([(0,1),(1,2),(2,0)])"
   ]
  },
  {
   "cell_type": "code",
   "execution_count": null,
   "id": "rotary-recovery",
   "metadata": {},
   "outputs": [
    {
     "data": {
      "text/plain": [
       "[{}, {}, {}]"
      ]
     },
     "execution_count": null,
     "metadata": {},
     "output_type": "execute_result"
    }
   ],
   "source": [
    "[get(g.edges,e,['weight']) for e in g.edges] #normally this would produce an error!"
   ]
  },
  {
   "cell_type": "code",
   "execution_count": null,
   "id": "christian-argument",
   "metadata": {},
   "outputs": [
    {
     "data": {
      "text/plain": [
       "[None, None, None]"
      ]
     },
     "execution_count": null,
     "metadata": {},
     "output_type": "execute_result"
    }
   ],
   "source": [
    "[give(g.edges,e,weight=np.random.random(1)) for e in g.edges] #give returns none"
   ]
  },
  {
   "cell_type": "code",
   "execution_count": null,
   "id": "quarterly-archive",
   "metadata": {},
   "outputs": [
    {
     "name": "stdout",
     "output_type": "stream",
     "text": [
      "(0, 1) [0.15324507]\n",
      "(1, 2) [0.15174739]\n",
      "(2, 0) [0.24494159]\n"
     ]
    }
   ],
   "source": [
    "for e in g.edges: #newly applied values\n",
    "    print(e,g.edges[e]['weight'])"
   ]
  },
  {
   "cell_type": "code",
   "execution_count": null,
   "id": "independent-stick",
   "metadata": {},
   "outputs": [
    {
     "data": {
      "text/plain": [
       "[{}, {}, {}]"
      ]
     },
     "execution_count": null,
     "metadata": {},
     "output_type": "execute_result"
    }
   ],
   "source": [
    "[get(g.nodes,n,'a') for n in g.nodes] #normally would give error!"
   ]
  },
  {
   "cell_type": "code",
   "execution_count": null,
   "id": "forbidden-detail",
   "metadata": {},
   "outputs": [
    {
     "data": {
      "text/plain": [
       "[array([0.87330487]), array([0.23282991]), array([0.25588777])]"
      ]
     },
     "execution_count": null,
     "metadata": {},
     "output_type": "execute_result"
    }
   ],
   "source": [
    "[give(g.nodes,n,a=np.random.random(1)) for n in g.nodes]\n",
    "[get(g.nodes,n,'a') for n in g.nodes]"
   ]
  },
  {
   "cell_type": "markdown",
   "id": "secret-reception",
   "metadata": {},
   "source": [
    "These functions can be used in many more ways than those shown here, and encourage exploratory programming. "
   ]
  },
  {
   "cell_type": "markdown",
   "id": "mexican-diploma",
   "metadata": {},
   "source": [
    "## sort\n",
    "\n",
    "> Now we examine sorting data structures with `sort` using `get`."
   ]
  },
  {
   "cell_type": "code",
   "execution_count": null,
   "id": "warming-firmware",
   "metadata": {},
   "outputs": [],
   "source": [
    "#export\n",
    "def sort(obj : Iterable,\n",
    "         *args : Union[None,str,int,float,tuple,list,dict],\n",
    "         by : Union[None,object,dict,list,tuple,callable,np.ndarray] = None,#lambda o: o,\n",
    "         key : callable = lambda t: get(t,-1,retnone=False) if get(t,-1,retnone=False) else 0,#lambda t:t[-1] if depth(t)!=0 else t,\n",
    "         sift : callable = lambda t: True,# if get(t,-1,retnone=False) else False,\n",
    "         reverse : bool = True\n",
    "        ) -> Union[None,int,float,list,tuple,str,dict,np.ndarray]:\n",
    "    '''\n",
    "    Recursively sorts `obj` `by` `args` using `key`.\n",
    "    \n",
    "    Treats `obj` as an iterator and wraps `by` around the elements of `obj`,\n",
    "    \n",
    "    before optionally wrapping any remaining `args`, and returning the evaluated \n",
    "    \n",
    "    tuples generated over `obj`. If `by` is None, searches for `args`. \n",
    "    \n",
    "    If both `by` and `args` is None, sorts over `obj` only : default behavior.\n",
    "    \n",
    "    `sift` defaults to keeping all elements, while\n",
    "    \n",
    "    `key` defaults to treating empty objects as having value 0.\n",
    "    \n",
    "    `reverse` sorts ascending by default.\n",
    "    \n",
    "    '''\n",
    "    \n",
    "    if by is not None:#if you're sorting over a different evaluation than the object elements\n",
    "    \n",
    "        sorting=filter(sift,[ (i, get( get( by, i, retnone=False), #evaluate inner function\n",
    "                        *args,retnone=False) #and any remaining args\n",
    "                  ) for i in obj]) #over iterable and store tuples then sort\n",
    "    \n",
    "    elif args is not (): #if you're sorting over the object and provide args\n",
    "        \n",
    "        sorting=filter(sift,[get(get(obj,i,retnone=False),*args,retnone=False) for i in obj])\n",
    "    \n",
    "    else: #otherwise you're just sorting the object\n",
    "        \n",
    "        sorting=filter(sift,obj)\n",
    "    \n",
    "    return sorted(sorting,key=key,reverse=reverse)\n"
   ]
  },
  {
   "cell_type": "code",
   "execution_count": null,
   "id": "corresponding-wells",
   "metadata": {},
   "outputs": [
    {
     "data": {
      "text/markdown": [
       "<h4 id=\"sort\" class=\"doc_header\"><code>sort</code><a href=\"__main__.py#L2\" class=\"source_link\" style=\"float:right\">[source]</a></h4>\n",
       "\n",
       "> <code>sort</code>(**`obj`**:`Iterable`\\[`T_co`\\], **\\*`args`**:`Union`\\[`NoneType`, `str`, `int`, `float`, `tuple`, `list`, `dict`\\], **`by`**:`Union`\\[`NoneType`, `object`, `dict`, `list`, `tuple`, `callable`, `ndarray`\\]=*`None`*, **`key`**:`callable`=*`<lambda>`*, **`sift`**:`callable`=*`<lambda>`*, **`reverse`**:`bool`=*`True`*)\n",
       "\n",
       "Recursively sorts `obj` `by` `args` using `key`.\n",
       "\n",
       "Treats `obj` as an iterator and wraps `by` around the elements of `obj`,\n",
       "\n",
       "before optionally wrapping any remaining `args`, and returning the evaluated \n",
       "\n",
       "tuples generated over `obj`. If `by` is None, searches for `args`. \n",
       "\n",
       "If both `by` and `args` is None, sorts over `obj` only : default behavior.\n",
       "\n",
       "`sift` defaults to keeping all elements, while\n",
       "\n",
       "`key` defaults to treating empty objects as having value 0.\n",
       "\n",
       "`reverse` sorts ascending by default."
      ],
      "text/plain": [
       "<IPython.core.display.Markdown object>"
      ]
     },
     "metadata": {},
     "output_type": "display_data"
    }
   ],
   "source": [
    "show_doc(sort)"
   ]
  },
  {
   "cell_type": "code",
   "execution_count": null,
   "id": "inner-killer",
   "metadata": {},
   "outputs": [
    {
     "data": {
      "text/plain": [
       "[9, 8, 7, 1, 0]"
      ]
     },
     "execution_count": null,
     "metadata": {},
     "output_type": "execute_result"
    }
   ],
   "source": [
    "sort([9,0,1,8,7])"
   ]
  },
  {
   "cell_type": "code",
   "execution_count": null,
   "id": "printable-courtesy",
   "metadata": {},
   "outputs": [
    {
     "data": {
      "text/plain": [
       "[(8, 2), (1, 1), (7, 1), (9, 0), (0, 0)]"
      ]
     },
     "execution_count": null,
     "metadata": {},
     "output_type": "execute_result"
    }
   ],
   "source": [
    "sort([9,0,1,8,7],by=lambda t:t%3)"
   ]
  },
  {
   "cell_type": "code",
   "execution_count": null,
   "id": "structured-baseball",
   "metadata": {},
   "outputs": [
    {
     "data": {
      "text/plain": [
       "[array([0.87330487]), array([0.25588777]), array([0.23282991])]"
      ]
     },
     "execution_count": null,
     "metadata": {},
     "output_type": "execute_result"
    }
   ],
   "source": [
    "sort(g.nodes,'a')"
   ]
  },
  {
   "cell_type": "code",
   "execution_count": null,
   "id": "healthy-graduation",
   "metadata": {},
   "outputs": [
    {
     "data": {
      "text/plain": [
       "[(0, array([0.87330487])), (2, array([0.25588777])), (1, array([0.23282991]))]"
      ]
     },
     "execution_count": null,
     "metadata": {},
     "output_type": "execute_result"
    }
   ],
   "source": [
    "sort(g.nodes,'a',by=g.nodes)"
   ]
  },
  {
   "cell_type": "code",
   "execution_count": null,
   "id": "infrared-banks",
   "metadata": {},
   "outputs": [
    {
     "data": {
      "text/plain": [
       "[array([0.24494159]), array([0.15324507]), array([0.15174739])]"
      ]
     },
     "execution_count": null,
     "metadata": {},
     "output_type": "execute_result"
    }
   ],
   "source": [
    "sort(g.edges,'weight')"
   ]
  },
  {
   "cell_type": "code",
   "execution_count": null,
   "id": "elementary-graduate",
   "metadata": {},
   "outputs": [
    {
     "data": {
      "text/plain": [
       "[((2, 0), array([0.24494159])),\n",
       " ((0, 1), array([0.15324507])),\n",
       " ((1, 2), array([0.15174739]))]"
      ]
     },
     "execution_count": null,
     "metadata": {},
     "output_type": "execute_result"
    }
   ],
   "source": [
    "sort(g.edges,'weight',by=g.edges)"
   ]
  },
  {
   "cell_type": "code",
   "execution_count": null,
   "id": "coordinated-pendant",
   "metadata": {},
   "outputs": [
    {
     "data": {
      "text/plain": [
       "[(0, OutEdgeDataView([(0, 1), (0, 0)])),\n",
       " (1, OutEdgeDataView([(1, 2)])),\n",
       " (2, OutEdgeDataView([(2, 0)]))]"
      ]
     },
     "execution_count": null,
     "metadata": {},
     "output_type": "execute_result"
    }
   ],
   "source": [
    "g.add_edges_from([(0,0)]) #add another edge\n",
    "sort(g.nodes,by=g.edges,key=lambda t:len(sort(list(t[-1])))) #then sort nodes over edges by in-degree"
   ]
  },
  {
   "cell_type": "code",
   "execution_count": null,
   "id": "elect-warner",
   "metadata": {},
   "outputs": [
    {
     "data": {
      "text/plain": [
       "[(0, 2), (1, 1), (2, 1)]"
      ]
     },
     "execution_count": null,
     "metadata": {},
     "output_type": "execute_result"
    }
   ],
   "source": [
    "sort(g.nodes,by=g.in_degree) #same as above but relies on 'in_degree' attribute of networkx"
   ]
  },
  {
   "cell_type": "markdown",
   "id": "rolled-heater",
   "metadata": {},
   "source": [
    "In conclusion, `sort` is capable of handling an immense number of possible data structures, and it's best understood by playing around with it and seeing what works! \n",
    "\n",
    "A word of caution though: the more complex and custom the python object, the more difficult it is to typecast. Remember to transform your data so that the `key` lambda performs a valid comparison - since it's a lambda function, it's still up to you to make sure the data types are actually comparable in a way that admits a binary operation."
   ]
  },
  {
   "cell_type": "code",
   "execution_count": null,
   "id": "saved-orleans",
   "metadata": {},
   "outputs": [],
   "source": [
    "#export\n",
    "def pipe(func,otype=None,ftype=None,cast=cast,*args,**kwargs):\n",
    "    '''\n",
    "    Pipelines the `func` to act on a later object.\n",
    "    Returns a partially evaluated function over any `args` and `kwargs`.\n",
    "    The object is casted to type `otype` before being evaluated.\n",
    "    The output of the function is casted to `ftype`\n",
    "    '''\n",
    "    f=partial(func,*args,**kwargs)\n",
    "    def line(obj):\n",
    "        obj=cast(obj,otype)\n",
    "        return cast(f(obj),ftype)\n",
    "    return line\n"
   ]
  },
  {
   "cell_type": "code",
   "execution_count": null,
   "id": "ceramic-weekend",
   "metadata": {},
   "outputs": [
    {
     "data": {
      "text/markdown": [
       "<h4 id=\"pipe\" class=\"doc_header\"><code>pipe</code><a href=\"__main__.py#L2\" class=\"source_link\" style=\"float:right\">[source]</a></h4>\n",
       "\n",
       "> <code>pipe</code>(**`func`**, **`otype`**=*`None`*, **`ftype`**=*`None`*, **`cast`**=*`<sidis.conversion.Caster object at 0x000002C6AECFBA08>`*, **\\*`args`**, **\\*\\*`kwargs`**)\n",
       "\n",
       "Pipelines the `func` to act on a later object.\n",
       "Returns a partially evaluated function over any `args` and `kwargs`.\n",
       "The object is casted to type `otype` before being evaluated.\n",
       "The output of the function is casted to `ftype`"
      ],
      "text/plain": [
       "<IPython.core.display.Markdown object>"
      ]
     },
     "metadata": {},
     "output_type": "display_data"
    }
   ],
   "source": [
    "show_doc(pipe)"
   ]
  },
  {
   "cell_type": "code",
   "execution_count": null,
   "id": "balanced-martin",
   "metadata": {},
   "outputs": [
    {
     "data": {
      "text/plain": [
       "2"
      ]
     },
     "execution_count": null,
     "metadata": {},
     "output_type": "execute_result"
    }
   ],
   "source": [
    "pipe(lambda x,y:x+y,otype=int,ftype=int,y=1.9)(1.9) #convert the input to int, and the output to int"
   ]
  },
  {
   "cell_type": "markdown",
   "id": "gothic-event",
   "metadata": {},
   "source": [
    "Pipe is useful for converting function datatypes and passing them as arguments to other functions, as follows:"
   ]
  },
  {
   "cell_type": "code",
   "execution_count": null,
   "id": "manufactured-childhood",
   "metadata": {},
   "outputs": [],
   "source": [
    "#exports\n",
    "def maps(obj,\n",
    "             *funcs,\n",
    "             depth=0,\n",
    "             zipit=False,\n",
    "             to=None,\n",
    "             squeeze=True):\n",
    "    '''\n",
    "    Sequentially map `funcs` over the elements of `obj`, \"o\".\n",
    "    The first `depth` number of funcs are mapped sequentially f(g(h(...(o)..)))=x.\n",
    "    The remaining number of funcs are mapped separately (u(x),v(x),...).\n",
    "    Use partial `funcs` to fill in all args but `obj` if other parameters needed.\n",
    "    If `keys`, return tuples of the object elements \"o\" along with map outputs.\n",
    "    '''\n",
    "    if not funcs:\n",
    "        return obj\n",
    "    else:\n",
    "        obj=obj if hasattr(obj,'__iter__') and type(obj)!='str' else [obj] #asiter(obj)\n",
    "        r=[o for o in obj]\n",
    "        [[give(r,i,get(f,r[i])) for f in funcs[:depth]] for i in range(len(r))]\n",
    "        [give(r,i,[get(f,r[i]) for f in funcs[depth:]]) for i in range(len(r))]\n",
    "        if squeeze:\n",
    "            r=np.ndarray.tolist(np.squeeze(np.array(r,dtype=object)))\n",
    "        if zipit:\n",
    "            r=list(zip(obj,r))\n",
    "        return cast(r,to)"
   ]
  },
  {
   "cell_type": "code",
   "execution_count": null,
   "id": "wired-pressure",
   "metadata": {},
   "outputs": [
    {
     "data": {
      "text/markdown": [
       "<h4 id=\"maps\" class=\"doc_header\"><code>maps</code><a href=\"__main__.py#L2\" class=\"source_link\" style=\"float:right\">[source]</a></h4>\n",
       "\n",
       "> <code>maps</code>(**`obj`**, **\\*`funcs`**, **`depth`**=*`0`*, **`zipit`**=*`False`*, **`to`**=*`None`*, **`squeeze`**=*`True`*)\n",
       "\n",
       "Sequentially map `funcs` over the elements of `obj`, \"o\".\n",
       "The first `depth` number of funcs are mapped sequentially f(g(h(...(o)..)))=x.\n",
       "The remaining number of funcs are mapped separately (u(x),v(x),...).\n",
       "Use partial `funcs` to fill in all args but `obj` if other parameters needed.\n",
       "If `keys`, return tuples of the object elements \"o\" along with map outputs."
      ],
      "text/plain": [
       "<IPython.core.display.Markdown object>"
      ]
     },
     "metadata": {},
     "output_type": "display_data"
    }
   ],
   "source": [
    "show_doc(maps)"
   ]
  },
  {
   "cell_type": "code",
   "execution_count": null,
   "id": "centered-rachel",
   "metadata": {},
   "outputs": [
    {
     "data": {
      "text/plain": [
       "[1, 1, 1]"
      ]
     },
     "execution_count": null,
     "metadata": {},
     "output_type": "execute_result"
    }
   ],
   "source": [
    "maps(0,lambda t:t+1,lambda t:t+1,lambda t:t+1,depth=0) #add 1 separately to 0, three times"
   ]
  },
  {
   "cell_type": "code",
   "execution_count": null,
   "id": "patent-dominican",
   "metadata": {},
   "outputs": [
    {
     "data": {
      "text/plain": [
       "[2, 2]"
      ]
     },
     "execution_count": null,
     "metadata": {},
     "output_type": "execute_result"
    }
   ],
   "source": [
    "maps(0,lambda t:t+1,lambda t:t+1,lambda t:t+1,depth=1) #add 1 to 0, then add 1 to that separately twice"
   ]
  },
  {
   "cell_type": "code",
   "execution_count": null,
   "id": "extensive-letters",
   "metadata": {},
   "outputs": [
    {
     "data": {
      "text/plain": [
       "3"
      ]
     },
     "execution_count": null,
     "metadata": {},
     "output_type": "execute_result"
    }
   ],
   "source": [
    "maps(0,lambda t:t+1,lambda t:t+1,lambda t:t+1,depth=-1) #sequantially apply all functions"
   ]
  },
  {
   "cell_type": "code",
   "execution_count": null,
   "id": "subtle-polymer",
   "metadata": {},
   "outputs": [
    {
     "data": {
      "text/plain": [
       "[[1, 1, 1], [2, 2, 2]]"
      ]
     },
     "execution_count": null,
     "metadata": {},
     "output_type": "execute_result"
    }
   ],
   "source": [
    "maps([0,1],lambda t:t+1,lambda t:t+1,lambda t:t+1) #apply functions over elements of iterable"
   ]
  },
  {
   "cell_type": "code",
   "execution_count": null,
   "id": "looking-slope",
   "metadata": {},
   "outputs": [
    {
     "data": {
      "text/plain": [
       "[3, 4]"
      ]
     },
     "execution_count": null,
     "metadata": {},
     "output_type": "execute_result"
    }
   ],
   "source": [
    "maps([0,1],lambda t:t+1,lambda t:t+1,lambda t:t+1,depth=-1)"
   ]
  },
  {
   "cell_type": "code",
   "execution_count": null,
   "id": "identified-warren",
   "metadata": {},
   "outputs": [
    {
     "data": {
      "text/plain": [
       "[(0, 3), (1, 4)]"
      ]
     },
     "execution_count": null,
     "metadata": {},
     "output_type": "execute_result"
    }
   ],
   "source": [
    "maps([0,1],lambda t:t+1,lambda t:t+1,lambda t:t+1,depth=-1,zipit=True) #zip the arguments with their func outputs"
   ]
  },
  {
   "cell_type": "code",
   "execution_count": null,
   "id": "veterinary-entrance",
   "metadata": {},
   "outputs": [
    {
     "data": {
      "text/plain": [
       "[(0, [[2, 0], [1, 0]]), (1, [[0], [2]]), (2, [[1], [0]])]"
      ]
     },
     "execution_count": null,
     "metadata": {},
     "output_type": "execute_result"
    }
   ],
   "source": [
    "maps(g.nodes,pipe(g.predecessors,None,list),pipe(g.successors,None,list),zipit=True) #use a pipeline"
   ]
  },
  {
   "cell_type": "code",
   "execution_count": null,
   "id": "broadband-renewal",
   "metadata": {},
   "outputs": [
    {
     "data": {
      "text/plain": [
       "{0: (0, [[2, 0], [1, 0]]), 1: (1, [[0], [2]]), 2: (2, [[1], [0]])}"
      ]
     },
     "execution_count": null,
     "metadata": {},
     "output_type": "execute_result"
    }
   ],
   "source": [
    "maps(g.nodes,pipe(g.predecessors,None,list),pipe(g.successors,None,list),zipit=True,to=dict) #convert the output"
   ]
  },
  {
   "cell_type": "code",
   "execution_count": null,
   "id": "lyric-telescope",
   "metadata": {},
   "outputs": [
    {
     "name": "stdout",
     "output_type": "stream",
     "text": [
      "Converted 00_utils.ipynb.\n",
      "Converted 01_conversion.ipynb.\n",
      "Converted 02_recursion.ipynb.\n",
      "Converted 03_templates.ipynb.\n",
      "Converted index.ipynb.\n"
     ]
    }
   ],
   "source": [
    "#hide\n",
    "notebook2script()"
   ]
  },
  {
   "cell_type": "code",
   "execution_count": null,
   "id": "instrumental-gender",
   "metadata": {},
   "outputs": [],
   "source": []
  }
 ],
 "metadata": {
  "kernelspec": {
   "display_name": "Python 3",
   "language": "python",
   "name": "python3"
  }
 },
 "nbformat": 4,
 "nbformat_minor": 5
}
